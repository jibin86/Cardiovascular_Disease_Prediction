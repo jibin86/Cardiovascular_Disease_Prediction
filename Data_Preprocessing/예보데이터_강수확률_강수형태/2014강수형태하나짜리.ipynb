{
 "cells": [
  {
   "cell_type": "code",
   "execution_count": 1,
   "id": "fc3ebe3e",
   "metadata": {},
   "outputs": [
    {
     "name": "stdout",
     "output_type": "stream",
     "text": [
      "Directory changed\n"
     ]
    }
   ],
   "source": [
    "import os\n",
    "\n",
    "try:\n",
    "    file_list = os.chdir(\"/Users/cha/Desktop/공모전/날씨 빅데이터 콘테스트/data/예보데이터\")\n",
    "    print(\"Directory changed\")\n",
    "except OSError:\n",
    "    print(\"Can't change the Current Working Directory\")"
   ]
  },
  {
   "cell_type": "code",
   "execution_count": 2,
   "id": "0646ec51",
   "metadata": {},
   "outputs": [],
   "source": [
    "import glob"
   ]
  },
  {
   "cell_type": "code",
   "execution_count": 3,
   "id": "fd7b800d",
   "metadata": {},
   "outputs": [],
   "source": [
    "import pandas as pd\n",
    "import numpy as np"
   ]
  },
  {
   "cell_type": "code",
   "execution_count": 24,
   "id": "54d8b90f",
   "metadata": {},
   "outputs": [],
   "source": [
    "kw2013_pre_pro = glob.glob(os.path.join(\"2014/인천\", \"*_강수형태_201401_201412.csv\"))"
   ]
  },
  {
   "cell_type": "code",
   "execution_count": 25,
   "id": "680aefb6",
   "metadata": {},
   "outputs": [
    {
     "data": {
      "text/plain": [
       "['2014/인천/백령면_강수형태_201401_201412.csv',\n",
       " '2014/인천/동인천동_강수형태_201401_201412.csv',\n",
       " '2014/인천/불은면_강수형태_201401_201412.csv',\n",
       " '2014/인천/덕적면_강수형태_201401_201412.csv']"
      ]
     },
     "execution_count": 25,
     "metadata": {},
     "output_type": "execute_result"
    }
   ],
   "source": [
    "kw2013_pre_pro"
   ]
  },
  {
   "cell_type": "code",
   "execution_count": 6,
   "id": "a42acf0d",
   "metadata": {},
   "outputs": [
    {
     "name": "stdout",
     "output_type": "stream",
     "text": [
      "1\n"
     ]
    }
   ],
   "source": [
    "print(len(kw2013_pre_pro))"
   ]
  },
  {
   "cell_type": "code",
   "execution_count": 7,
   "id": "a79ec7c7",
   "metadata": {},
   "outputs": [],
   "source": [
    "j=1\n",
    "for i in kw2013_pre_pro:\n",
    "    globals()['kw2013_pre_pro_{}'.format(j)] = pd.read_csv(i)\n",
    "    j += 1"
   ]
  },
  {
   "cell_type": "code",
   "execution_count": 8,
   "id": "e10ae801",
   "metadata": {},
   "outputs": [
    {
     "data": {
      "text/html": [
       "<div>\n",
       "<style scoped>\n",
       "    .dataframe tbody tr th:only-of-type {\n",
       "        vertical-align: middle;\n",
       "    }\n",
       "\n",
       "    .dataframe tbody tr th {\n",
       "        vertical-align: top;\n",
       "    }\n",
       "\n",
       "    .dataframe thead th {\n",
       "        text-align: right;\n",
       "    }\n",
       "</style>\n",
       "<table border=\"1\" class=\"dataframe\">\n",
       "  <thead>\n",
       "    <tr style=\"text-align: right;\">\n",
       "      <th></th>\n",
       "      <th>format..day</th>\n",
       "      <th>hour</th>\n",
       "      <th>forecast</th>\n",
       "      <th>value..location.102_85.Start...20140101</th>\n",
       "    </tr>\n",
       "  </thead>\n",
       "  <tbody>\n",
       "    <tr>\n",
       "      <th>0</th>\n",
       "      <td>1</td>\n",
       "      <td>200.0</td>\n",
       "      <td>4.0</td>\n",
       "      <td>0.0</td>\n",
       "    </tr>\n",
       "    <tr>\n",
       "      <th>1</th>\n",
       "      <td>1</td>\n",
       "      <td>200.0</td>\n",
       "      <td>7.0</td>\n",
       "      <td>0.0</td>\n",
       "    </tr>\n",
       "    <tr>\n",
       "      <th>2</th>\n",
       "      <td>1</td>\n",
       "      <td>200.0</td>\n",
       "      <td>10.0</td>\n",
       "      <td>0.0</td>\n",
       "    </tr>\n",
       "    <tr>\n",
       "      <th>3</th>\n",
       "      <td>1</td>\n",
       "      <td>200.0</td>\n",
       "      <td>13.0</td>\n",
       "      <td>0.0</td>\n",
       "    </tr>\n",
       "    <tr>\n",
       "      <th>4</th>\n",
       "      <td>1</td>\n",
       "      <td>200.0</td>\n",
       "      <td>16.0</td>\n",
       "      <td>0.0</td>\n",
       "    </tr>\n",
       "    <tr>\n",
       "      <th>...</th>\n",
       "      <td>...</td>\n",
       "      <td>...</td>\n",
       "      <td>...</td>\n",
       "      <td>...</td>\n",
       "    </tr>\n",
       "    <tr>\n",
       "      <th>52091</th>\n",
       "      <td>31</td>\n",
       "      <td>2300.0</td>\n",
       "      <td>55.0</td>\n",
       "      <td>0.0</td>\n",
       "    </tr>\n",
       "    <tr>\n",
       "      <th>52092</th>\n",
       "      <td>31</td>\n",
       "      <td>2300.0</td>\n",
       "      <td>58.0</td>\n",
       "      <td>0.0</td>\n",
       "    </tr>\n",
       "    <tr>\n",
       "      <th>52093</th>\n",
       "      <td>31</td>\n",
       "      <td>2300.0</td>\n",
       "      <td>61.0</td>\n",
       "      <td>0.0</td>\n",
       "    </tr>\n",
       "    <tr>\n",
       "      <th>52094</th>\n",
       "      <td>31</td>\n",
       "      <td>2300.0</td>\n",
       "      <td>64.0</td>\n",
       "      <td>0.0</td>\n",
       "    </tr>\n",
       "    <tr>\n",
       "      <th>52095</th>\n",
       "      <td></td>\n",
       "      <td>NaN</td>\n",
       "      <td>NaN</td>\n",
       "      <td>NaN</td>\n",
       "    </tr>\n",
       "  </tbody>\n",
       "</table>\n",
       "<p>52096 rows × 4 columns</p>\n",
       "</div>"
      ],
      "text/plain": [
       "      format..day    hour  forecast  value..location.102_85.Start...20140101\n",
       "0               1   200.0       4.0                                      0.0\n",
       "1               1   200.0       7.0                                      0.0\n",
       "2               1   200.0      10.0                                      0.0\n",
       "3               1   200.0      13.0                                      0.0\n",
       "4               1   200.0      16.0                                      0.0\n",
       "...           ...     ...       ...                                      ...\n",
       "52091          31  2300.0      55.0                                      0.0\n",
       "52092          31  2300.0      58.0                                      0.0\n",
       "52093          31  2300.0      61.0                                      0.0\n",
       "52094          31  2300.0      64.0                                      0.0\n",
       "52095                 NaN       NaN                                      NaN\n",
       "\n",
       "[52096 rows x 4 columns]"
      ]
     },
     "execution_count": 8,
     "metadata": {},
     "output_type": "execute_result"
    }
   ],
   "source": [
    "kw2013_pre_pro_1"
   ]
  },
  {
   "cell_type": "code",
   "execution_count": 9,
   "id": "f2dc700d",
   "metadata": {},
   "outputs": [
    {
     "name": "stdout",
     "output_type": "stream",
     "text": [
      "<class 'pandas.core.frame.DataFrame'>\n",
      "RangeIndex: 52096 entries, 0 to 52095\n",
      "Data columns (total 4 columns):\n",
      " #   Column                                   Non-Null Count  Dtype  \n",
      "---  ------                                   --------------  -----  \n",
      " 0   format..day                              52096 non-null  object \n",
      " 1   hour                                     52084 non-null  float64\n",
      " 2   forecast                                 52084 non-null  float64\n",
      " 3   value..location.102_85.Start...20140101  52084 non-null  float64\n",
      "dtypes: float64(3), object(1)\n",
      "memory usage: 1.6+ MB\n"
     ]
    }
   ],
   "source": [
    "kw2013_pre_pro_1.info()"
   ]
  },
  {
   "cell_type": "code",
   "execution_count": 10,
   "id": "2e8fdd7b",
   "metadata": {},
   "outputs": [],
   "source": [
    "kw2013_pre_pro_1.rename(columns={kw2013_pre_pro_1.columns[0]: 'date', kw2013_pre_pro_1.columns[3]: 'pre_pro_mean'}, inplace=True)"
   ]
  },
  {
   "cell_type": "code",
   "execution_count": 11,
   "id": "8afe0894",
   "metadata": {},
   "outputs": [],
   "source": [
    "kw2013_pre_pro_1[\"date\"] = kw2013_pre_pro_1[\"date\"].str.replace(\" \", \"\")"
   ]
  },
  {
   "cell_type": "code",
   "execution_count": 12,
   "id": "28fa5feb",
   "metadata": {
    "scrolled": true
   },
   "outputs": [
    {
     "name": "stderr",
     "output_type": "stream",
     "text": [
      "/var/folders/1b/6fw3j9nd4_qgymn82k3hygww0000gn/T/ipykernel_22082/1458046885.py:3: SettingWithCopyWarning: \n",
      "A value is trying to be set on a copy of a slice from a DataFrame\n",
      "\n",
      "See the caveats in the documentation: https://pandas.pydata.org/pandas-docs/stable/user_guide/indexing.html#returning-a-view-versus-a-copy\n",
      "  kw2013_pre_pro_1[\"date\"][i] = \"0\" + kw2013_pre_pro_1[\"date\"][i]\n"
     ]
    }
   ],
   "source": [
    "for i in range(len(kw2013_pre_pro_1[\"date\"])):\n",
    "    if len(kw2013_pre_pro_1[\"date\"][i]) == 1:\n",
    "        kw2013_pre_pro_1[\"date\"][i] = \"0\" + kw2013_pre_pro_1[\"date\"][i]"
   ]
  },
  {
   "cell_type": "code",
   "execution_count": 13,
   "id": "81737cc8",
   "metadata": {},
   "outputs": [
    {
     "name": "stdout",
     "output_type": "stream",
     "text": [
      "                 date  hour  forecast  pre_pro_mean\n",
      "4092   Start:20140201   NaN       NaN           NaN\n",
      "7789   Start:20140301   NaN       NaN           NaN\n",
      "11882  Start:20140401   NaN       NaN           NaN\n",
      "16323  Start:20140501   NaN       NaN           NaN\n",
      "20912  Start:20140601   NaN       NaN           NaN\n",
      "25353  Start:20140701   NaN       NaN           NaN\n",
      "29446  Start:20140801   NaN       NaN           NaN\n",
      "34035  Start:20140901   NaN       NaN           NaN\n",
      "38476  Start:20141001   NaN       NaN           NaN\n",
      "43065  Start:20141101   NaN       NaN           NaN\n",
      "47506  Start:20141201   NaN       NaN           NaN\n"
     ]
    }
   ],
   "source": [
    "print(kw2013_pre_pro_1.loc[(kw2013_pre_pro_1['date'] == 'Start:20140201') |\n",
    "                           (kw2013_pre_pro_1['date'] == 'Start:20140301') |\n",
    "                           (kw2013_pre_pro_1['date'] == 'Start:20140401') |\n",
    "                           (kw2013_pre_pro_1['date'] == 'Start:20140501') |\n",
    "                           (kw2013_pre_pro_1['date'] == 'Start:20140601') |\n",
    "                           (kw2013_pre_pro_1['date'] == 'Start:20140701') |\n",
    "                           (kw2013_pre_pro_1['date'] == 'Start:20140801') |\n",
    "                           (kw2013_pre_pro_1['date'] == 'Start:20140901') |\n",
    "                           (kw2013_pre_pro_1['date'] == 'Start:20141001') |\n",
    "                           (kw2013_pre_pro_1['date'] == 'Start:20141101') |\n",
    "                           (kw2013_pre_pro_1['date'] == 'Start:20141201')])"
   ]
  },
  {
   "cell_type": "code",
   "execution_count": 14,
   "id": "5339eb30",
   "metadata": {
    "scrolled": true
   },
   "outputs": [
    {
     "name": "stderr",
     "output_type": "stream",
     "text": [
      "/var/folders/1b/6fw3j9nd4_qgymn82k3hygww0000gn/T/ipykernel_22082/3000754765.py:1: SettingWithCopyWarning: \n",
      "A value is trying to be set on a copy of a slice from a DataFrame.\n",
      "Try using .loc[row_indexer,col_indexer] = value instead\n",
      "\n",
      "See the caveats in the documentation: https://pandas.pydata.org/pandas-docs/stable/user_guide/indexing.html#returning-a-view-versus-a-copy\n",
      "  kw2013_pre_pro_1.loc[:4091][\"date\"] = \"201401\" + kw2013_pre_pro_1.loc[:4091][\"date\"]\n",
      "/var/folders/1b/6fw3j9nd4_qgymn82k3hygww0000gn/T/ipykernel_22082/3000754765.py:2: SettingWithCopyWarning: \n",
      "A value is trying to be set on a copy of a slice from a DataFrame.\n",
      "Try using .loc[row_indexer,col_indexer] = value instead\n",
      "\n",
      "See the caveats in the documentation: https://pandas.pydata.org/pandas-docs/stable/user_guide/indexing.html#returning-a-view-versus-a-copy\n",
      "  kw2013_pre_pro_1.loc[4093:7788][\"date\"] = \"201402\" + kw2013_pre_pro_1.loc[4093:7788][\"date\"]\n",
      "/var/folders/1b/6fw3j9nd4_qgymn82k3hygww0000gn/T/ipykernel_22082/3000754765.py:3: SettingWithCopyWarning: \n",
      "A value is trying to be set on a copy of a slice from a DataFrame.\n",
      "Try using .loc[row_indexer,col_indexer] = value instead\n",
      "\n",
      "See the caveats in the documentation: https://pandas.pydata.org/pandas-docs/stable/user_guide/indexing.html#returning-a-view-versus-a-copy\n",
      "  kw2013_pre_pro_1.loc[7790:11881][\"date\"] = \"201403\" + kw2013_pre_pro_1.loc[7790:11881][\"date\"]\n",
      "/var/folders/1b/6fw3j9nd4_qgymn82k3hygww0000gn/T/ipykernel_22082/3000754765.py:4: SettingWithCopyWarning: \n",
      "A value is trying to be set on a copy of a slice from a DataFrame.\n",
      "Try using .loc[row_indexer,col_indexer] = value instead\n",
      "\n",
      "See the caveats in the documentation: https://pandas.pydata.org/pandas-docs/stable/user_guide/indexing.html#returning-a-view-versus-a-copy\n",
      "  kw2013_pre_pro_1.loc[11883:16322][\"date\"] = \"201404\" + kw2013_pre_pro_1.loc[11883:16322][\"date\"]\n",
      "/var/folders/1b/6fw3j9nd4_qgymn82k3hygww0000gn/T/ipykernel_22082/3000754765.py:5: SettingWithCopyWarning: \n",
      "A value is trying to be set on a copy of a slice from a DataFrame.\n",
      "Try using .loc[row_indexer,col_indexer] = value instead\n",
      "\n",
      "See the caveats in the documentation: https://pandas.pydata.org/pandas-docs/stable/user_guide/indexing.html#returning-a-view-versus-a-copy\n",
      "  kw2013_pre_pro_1.loc[16324:20911][\"date\"] = \"201405\" + kw2013_pre_pro_1.loc[16324:20911][\"date\"]\n",
      "/var/folders/1b/6fw3j9nd4_qgymn82k3hygww0000gn/T/ipykernel_22082/3000754765.py:6: SettingWithCopyWarning: \n",
      "A value is trying to be set on a copy of a slice from a DataFrame.\n",
      "Try using .loc[row_indexer,col_indexer] = value instead\n",
      "\n",
      "See the caveats in the documentation: https://pandas.pydata.org/pandas-docs/stable/user_guide/indexing.html#returning-a-view-versus-a-copy\n",
      "  kw2013_pre_pro_1.loc[20913:25352][\"date\"] = \"201406\" + kw2013_pre_pro_1.loc[20913:25352][\"date\"]\n",
      "/var/folders/1b/6fw3j9nd4_qgymn82k3hygww0000gn/T/ipykernel_22082/3000754765.py:7: SettingWithCopyWarning: \n",
      "A value is trying to be set on a copy of a slice from a DataFrame.\n",
      "Try using .loc[row_indexer,col_indexer] = value instead\n",
      "\n",
      "See the caveats in the documentation: https://pandas.pydata.org/pandas-docs/stable/user_guide/indexing.html#returning-a-view-versus-a-copy\n",
      "  kw2013_pre_pro_1.loc[25354:29445][\"date\"] = \"201407\" + kw2013_pre_pro_1.loc[25354:29445][\"date\"]\n",
      "/var/folders/1b/6fw3j9nd4_qgymn82k3hygww0000gn/T/ipykernel_22082/3000754765.py:8: SettingWithCopyWarning: \n",
      "A value is trying to be set on a copy of a slice from a DataFrame.\n",
      "Try using .loc[row_indexer,col_indexer] = value instead\n",
      "\n",
      "See the caveats in the documentation: https://pandas.pydata.org/pandas-docs/stable/user_guide/indexing.html#returning-a-view-versus-a-copy\n",
      "  kw2013_pre_pro_1.loc[29447:34034][\"date\"] = \"201408\" + kw2013_pre_pro_1.loc[29447:34034][\"date\"]\n",
      "/var/folders/1b/6fw3j9nd4_qgymn82k3hygww0000gn/T/ipykernel_22082/3000754765.py:9: SettingWithCopyWarning: \n",
      "A value is trying to be set on a copy of a slice from a DataFrame.\n",
      "Try using .loc[row_indexer,col_indexer] = value instead\n",
      "\n",
      "See the caveats in the documentation: https://pandas.pydata.org/pandas-docs/stable/user_guide/indexing.html#returning-a-view-versus-a-copy\n",
      "  kw2013_pre_pro_1.loc[34036:38475][\"date\"] = \"201409\" + kw2013_pre_pro_1.loc[34036:38475][\"date\"]\n",
      "/var/folders/1b/6fw3j9nd4_qgymn82k3hygww0000gn/T/ipykernel_22082/3000754765.py:10: SettingWithCopyWarning: \n",
      "A value is trying to be set on a copy of a slice from a DataFrame.\n",
      "Try using .loc[row_indexer,col_indexer] = value instead\n",
      "\n",
      "See the caveats in the documentation: https://pandas.pydata.org/pandas-docs/stable/user_guide/indexing.html#returning-a-view-versus-a-copy\n",
      "  kw2013_pre_pro_1.loc[38477:43064][\"date\"] = \"201410\" + kw2013_pre_pro_1.loc[38477:43064][\"date\"]\n",
      "/var/folders/1b/6fw3j9nd4_qgymn82k3hygww0000gn/T/ipykernel_22082/3000754765.py:11: SettingWithCopyWarning: \n",
      "A value is trying to be set on a copy of a slice from a DataFrame.\n",
      "Try using .loc[row_indexer,col_indexer] = value instead\n",
      "\n",
      "See the caveats in the documentation: https://pandas.pydata.org/pandas-docs/stable/user_guide/indexing.html#returning-a-view-versus-a-copy\n",
      "  kw2013_pre_pro_1.loc[43066:47505][\"date\"] = \"201411\" + kw2013_pre_pro_1.loc[43066:47505][\"date\"]\n",
      "/var/folders/1b/6fw3j9nd4_qgymn82k3hygww0000gn/T/ipykernel_22082/3000754765.py:12: SettingWithCopyWarning: \n",
      "A value is trying to be set on a copy of a slice from a DataFrame.\n",
      "Try using .loc[row_indexer,col_indexer] = value instead\n",
      "\n",
      "See the caveats in the documentation: https://pandas.pydata.org/pandas-docs/stable/user_guide/indexing.html#returning-a-view-versus-a-copy\n",
      "  kw2013_pre_pro_1.loc[47507:][\"date\"] = \"201412\" + kw2013_pre_pro_1.loc[47507:][\"date\"]\n"
     ]
    }
   ],
   "source": [
    "kw2013_pre_pro_1.loc[:4091][\"date\"] = \"201401\" + kw2013_pre_pro_1.loc[:4091][\"date\"]\n",
    "kw2013_pre_pro_1.loc[4093:7788][\"date\"] = \"201402\" + kw2013_pre_pro_1.loc[4093:7788][\"date\"]\n",
    "kw2013_pre_pro_1.loc[7790:11881][\"date\"] = \"201403\" + kw2013_pre_pro_1.loc[7790:11881][\"date\"]\n",
    "kw2013_pre_pro_1.loc[11883:16322][\"date\"] = \"201404\" + kw2013_pre_pro_1.loc[11883:16322][\"date\"]\n",
    "kw2013_pre_pro_1.loc[16324:20911][\"date\"] = \"201405\" + kw2013_pre_pro_1.loc[16324:20911][\"date\"]\n",
    "kw2013_pre_pro_1.loc[20913:25352][\"date\"] = \"201406\" + kw2013_pre_pro_1.loc[20913:25352][\"date\"]\n",
    "kw2013_pre_pro_1.loc[25354:29445][\"date\"] = \"201407\" + kw2013_pre_pro_1.loc[25354:29445][\"date\"]\n",
    "kw2013_pre_pro_1.loc[29447:34034][\"date\"] = \"201408\" + kw2013_pre_pro_1.loc[29447:34034][\"date\"]\n",
    "kw2013_pre_pro_1.loc[34036:38475][\"date\"] = \"201409\" + kw2013_pre_pro_1.loc[34036:38475][\"date\"]\n",
    "kw2013_pre_pro_1.loc[38477:43064][\"date\"] = \"201410\" + kw2013_pre_pro_1.loc[38477:43064][\"date\"]\n",
    "kw2013_pre_pro_1.loc[43066:47505][\"date\"] = \"201411\" + kw2013_pre_pro_1.loc[43066:47505][\"date\"]\n",
    "kw2013_pre_pro_1.loc[47507:][\"date\"] = \"201412\" + kw2013_pre_pro_1.loc[47507:][\"date\"]"
   ]
  },
  {
   "cell_type": "code",
   "execution_count": 15,
   "id": "b5ee97ce",
   "metadata": {},
   "outputs": [],
   "source": [
    "kw2013_pre_pro_1 = kw2013_pre_pro_1.drop([4092, 7789, 11882, 16323, 20912, 25353, 29446, 34035, 38476, 43065, 47506,52095], axis = 0)"
   ]
  },
  {
   "cell_type": "code",
   "execution_count": 16,
   "id": "5b9d0dc6",
   "metadata": {},
   "outputs": [
    {
     "data": {
      "text/plain": [
       "20141231    148\n",
       "20140603    148\n",
       "20140605    148\n",
       "20140606    148\n",
       "20140607    148\n",
       "           ... \n",
       "20140327    132\n",
       "20140328    132\n",
       "20140329    132\n",
       "20140330    132\n",
       "20140702    132\n",
       "Name: date, Length: 365, dtype: int64"
      ]
     },
     "execution_count": 16,
     "metadata": {},
     "output_type": "execute_result"
    }
   ],
   "source": [
    "kw2013_pre_pro_1[\"date\"].value_counts()"
   ]
  },
  {
   "cell_type": "code",
   "execution_count": 17,
   "id": "23e5236c",
   "metadata": {},
   "outputs": [
    {
     "data": {
      "text/html": [
       "<div>\n",
       "<style scoped>\n",
       "    .dataframe tbody tr th:only-of-type {\n",
       "        vertical-align: middle;\n",
       "    }\n",
       "\n",
       "    .dataframe tbody tr th {\n",
       "        vertical-align: top;\n",
       "    }\n",
       "\n",
       "    .dataframe thead th {\n",
       "        text-align: right;\n",
       "    }\n",
       "</style>\n",
       "<table border=\"1\" class=\"dataframe\">\n",
       "  <thead>\n",
       "    <tr style=\"text-align: right;\">\n",
       "      <th></th>\n",
       "      <th>date</th>\n",
       "      <th>hour</th>\n",
       "      <th>forecast</th>\n",
       "      <th>pre_pro_mean</th>\n",
       "    </tr>\n",
       "  </thead>\n",
       "  <tbody>\n",
       "    <tr>\n",
       "      <th>0</th>\n",
       "      <td>20140101</td>\n",
       "      <td>200.0</td>\n",
       "      <td>4.0</td>\n",
       "      <td>0.0</td>\n",
       "    </tr>\n",
       "    <tr>\n",
       "      <th>16</th>\n",
       "      <td>20140101</td>\n",
       "      <td>500.0</td>\n",
       "      <td>4.0</td>\n",
       "      <td>0.0</td>\n",
       "    </tr>\n",
       "    <tr>\n",
       "      <th>31</th>\n",
       "      <td>20140101</td>\n",
       "      <td>800.0</td>\n",
       "      <td>4.0</td>\n",
       "      <td>0.0</td>\n",
       "    </tr>\n",
       "    <tr>\n",
       "      <th>49</th>\n",
       "      <td>20140101</td>\n",
       "      <td>1100.0</td>\n",
       "      <td>4.0</td>\n",
       "      <td>0.0</td>\n",
       "    </tr>\n",
       "    <tr>\n",
       "      <th>66</th>\n",
       "      <td>20140101</td>\n",
       "      <td>1400.0</td>\n",
       "      <td>4.0</td>\n",
       "      <td>0.0</td>\n",
       "    </tr>\n",
       "  </tbody>\n",
       "</table>\n",
       "</div>"
      ],
      "text/plain": [
       "        date    hour  forecast  pre_pro_mean\n",
       "0   20140101   200.0       4.0           0.0\n",
       "16  20140101   500.0       4.0           0.0\n",
       "31  20140101   800.0       4.0           0.0\n",
       "49  20140101  1100.0       4.0           0.0\n",
       "66  20140101  1400.0       4.0           0.0"
      ]
     },
     "execution_count": 17,
     "metadata": {},
     "output_type": "execute_result"
    }
   ],
   "source": [
    "kw2013_pre_pro_1_fore4 = kw2013_pre_pro_1[kw2013_pre_pro_1['forecast']== 4.0]\n",
    "kw2013_pre_pro_1_fore4.head()"
   ]
  },
  {
   "cell_type": "code",
   "execution_count": 18,
   "id": "bb8bc1b5",
   "metadata": {},
   "outputs": [
    {
     "name": "stderr",
     "output_type": "stream",
     "text": [
      "/var/folders/1b/6fw3j9nd4_qgymn82k3hygww0000gn/T/ipykernel_22082/1176009402.py:1: SettingWithCopyWarning: \n",
      "A value is trying to be set on a copy of a slice from a DataFrame.\n",
      "Try using .loc[row_indexer,col_indexer] = value instead\n",
      "\n",
      "See the caveats in the documentation: https://pandas.pydata.org/pandas-docs/stable/user_guide/indexing.html#returning-a-view-versus-a-copy\n",
      "  kw2013_pre_pro_1_fore4['pre_pro_mean'] = kw2013_pre_pro_1_fore4['pre_pro_mean'].astype('float')\n"
     ]
    }
   ],
   "source": [
    "kw2013_pre_pro_1_fore4['pre_pro_mean'] = kw2013_pre_pro_1_fore4['pre_pro_mean'].astype('float')"
   ]
  },
  {
   "cell_type": "code",
   "execution_count": 19,
   "id": "d60bbb80",
   "metadata": {},
   "outputs": [],
   "source": [
    "kw2013_pre_pro_1_final = pd.DataFrame(kw2013_pre_pro_1_fore4['pre_pro_mean'].groupby(kw2013_pre_pro_1_fore4['date']).mean())"
   ]
  },
  {
   "cell_type": "code",
   "execution_count": 20,
   "id": "fd0ec123",
   "metadata": {},
   "outputs": [
    {
     "data": {
      "text/html": [
       "<div>\n",
       "<style scoped>\n",
       "    .dataframe tbody tr th:only-of-type {\n",
       "        vertical-align: middle;\n",
       "    }\n",
       "\n",
       "    .dataframe tbody tr th {\n",
       "        vertical-align: top;\n",
       "    }\n",
       "\n",
       "    .dataframe thead th {\n",
       "        text-align: right;\n",
       "    }\n",
       "</style>\n",
       "<table border=\"1\" class=\"dataframe\">\n",
       "  <thead>\n",
       "    <tr style=\"text-align: right;\">\n",
       "      <th></th>\n",
       "      <th>date</th>\n",
       "      <th>pre_pro_mean</th>\n",
       "    </tr>\n",
       "  </thead>\n",
       "  <tbody>\n",
       "    <tr>\n",
       "      <th>0</th>\n",
       "      <td>20140101</td>\n",
       "      <td>0.000</td>\n",
       "    </tr>\n",
       "    <tr>\n",
       "      <th>1</th>\n",
       "      <td>20140102</td>\n",
       "      <td>0.000</td>\n",
       "    </tr>\n",
       "    <tr>\n",
       "      <th>2</th>\n",
       "      <td>20140103</td>\n",
       "      <td>0.000</td>\n",
       "    </tr>\n",
       "    <tr>\n",
       "      <th>3</th>\n",
       "      <td>20140104</td>\n",
       "      <td>0.500</td>\n",
       "    </tr>\n",
       "    <tr>\n",
       "      <th>4</th>\n",
       "      <td>20140105</td>\n",
       "      <td>0.000</td>\n",
       "    </tr>\n",
       "    <tr>\n",
       "      <th>...</th>\n",
       "      <td>...</td>\n",
       "      <td>...</td>\n",
       "    </tr>\n",
       "    <tr>\n",
       "      <th>360</th>\n",
       "      <td>20141227</td>\n",
       "      <td>0.000</td>\n",
       "    </tr>\n",
       "    <tr>\n",
       "      <th>361</th>\n",
       "      <td>20141228</td>\n",
       "      <td>0.000</td>\n",
       "    </tr>\n",
       "    <tr>\n",
       "      <th>362</th>\n",
       "      <td>20141229</td>\n",
       "      <td>0.000</td>\n",
       "    </tr>\n",
       "    <tr>\n",
       "      <th>363</th>\n",
       "      <td>20141230</td>\n",
       "      <td>0.125</td>\n",
       "    </tr>\n",
       "    <tr>\n",
       "      <th>364</th>\n",
       "      <td>20141231</td>\n",
       "      <td>0.000</td>\n",
       "    </tr>\n",
       "  </tbody>\n",
       "</table>\n",
       "<p>365 rows × 2 columns</p>\n",
       "</div>"
      ],
      "text/plain": [
       "         date  pre_pro_mean\n",
       "0    20140101         0.000\n",
       "1    20140102         0.000\n",
       "2    20140103         0.000\n",
       "3    20140104         0.500\n",
       "4    20140105         0.000\n",
       "..        ...           ...\n",
       "360  20141227         0.000\n",
       "361  20141228         0.000\n",
       "362  20141229         0.000\n",
       "363  20141230         0.125\n",
       "364  20141231         0.000\n",
       "\n",
       "[365 rows x 2 columns]"
      ]
     },
     "execution_count": 20,
     "metadata": {},
     "output_type": "execute_result"
    }
   ],
   "source": [
    "kw2013_pre_pro_1_final.reset_index(level=['date'], inplace = True)\n",
    "kw2013_pre_pro_1_final"
   ]
  },
  {
   "cell_type": "code",
   "execution_count": 21,
   "id": "28ce7120",
   "metadata": {},
   "outputs": [
    {
     "data": {
      "text/html": [
       "<div>\n",
       "<style scoped>\n",
       "    .dataframe tbody tr th:only-of-type {\n",
       "        vertical-align: middle;\n",
       "    }\n",
       "\n",
       "    .dataframe tbody tr th {\n",
       "        vertical-align: top;\n",
       "    }\n",
       "\n",
       "    .dataframe thead th {\n",
       "        text-align: right;\n",
       "    }\n",
       "</style>\n",
       "<table border=\"1\" class=\"dataframe\">\n",
       "  <thead>\n",
       "    <tr style=\"text-align: right;\">\n",
       "      <th></th>\n",
       "      <th>date</th>\n",
       "      <th>pre_pro_mean</th>\n",
       "    </tr>\n",
       "  </thead>\n",
       "  <tbody>\n",
       "    <tr>\n",
       "      <th>0</th>\n",
       "      <td>20140101</td>\n",
       "      <td>0.000</td>\n",
       "    </tr>\n",
       "    <tr>\n",
       "      <th>1</th>\n",
       "      <td>20140102</td>\n",
       "      <td>0.000</td>\n",
       "    </tr>\n",
       "    <tr>\n",
       "      <th>2</th>\n",
       "      <td>20140103</td>\n",
       "      <td>0.000</td>\n",
       "    </tr>\n",
       "    <tr>\n",
       "      <th>3</th>\n",
       "      <td>20140104</td>\n",
       "      <td>0.500</td>\n",
       "    </tr>\n",
       "    <tr>\n",
       "      <th>4</th>\n",
       "      <td>20140105</td>\n",
       "      <td>0.000</td>\n",
       "    </tr>\n",
       "    <tr>\n",
       "      <th>...</th>\n",
       "      <td>...</td>\n",
       "      <td>...</td>\n",
       "    </tr>\n",
       "    <tr>\n",
       "      <th>360</th>\n",
       "      <td>20141227</td>\n",
       "      <td>0.000</td>\n",
       "    </tr>\n",
       "    <tr>\n",
       "      <th>361</th>\n",
       "      <td>20141228</td>\n",
       "      <td>0.000</td>\n",
       "    </tr>\n",
       "    <tr>\n",
       "      <th>362</th>\n",
       "      <td>20141229</td>\n",
       "      <td>0.000</td>\n",
       "    </tr>\n",
       "    <tr>\n",
       "      <th>363</th>\n",
       "      <td>20141230</td>\n",
       "      <td>0.125</td>\n",
       "    </tr>\n",
       "    <tr>\n",
       "      <th>364</th>\n",
       "      <td>20141231</td>\n",
       "      <td>0.000</td>\n",
       "    </tr>\n",
       "  </tbody>\n",
       "</table>\n",
       "<p>365 rows × 2 columns</p>\n",
       "</div>"
      ],
      "text/plain": [
       "         date  pre_pro_mean\n",
       "0    20140101         0.000\n",
       "1    20140102         0.000\n",
       "2    20140103         0.000\n",
       "3    20140104         0.500\n",
       "4    20140105         0.000\n",
       "..        ...           ...\n",
       "360  20141227         0.000\n",
       "361  20141228         0.000\n",
       "362  20141229         0.000\n",
       "363  20141230         0.125\n",
       "364  20141231         0.000\n",
       "\n",
       "[365 rows x 2 columns]"
      ]
     },
     "execution_count": 21,
     "metadata": {},
     "output_type": "execute_result"
    }
   ],
   "source": [
    "kw2013_pre_pro_final = pd.DataFrame()\n",
    "kw2013_pre_pro_final = pd.concat([kw2013_pre_pro_final, kw2013_pre_pro_1_final], axis = 0, ignore_index=True)\n",
    "kw2013_pre_pro_final"
   ]
  },
  {
   "cell_type": "code",
   "execution_count": 22,
   "id": "1720ff98",
   "metadata": {},
   "outputs": [
    {
     "data": {
      "text/html": [
       "<div>\n",
       "<style scoped>\n",
       "    .dataframe tbody tr th:only-of-type {\n",
       "        vertical-align: middle;\n",
       "    }\n",
       "\n",
       "    .dataframe tbody tr th {\n",
       "        vertical-align: top;\n",
       "    }\n",
       "\n",
       "    .dataframe thead th {\n",
       "        text-align: right;\n",
       "    }\n",
       "</style>\n",
       "<table border=\"1\" class=\"dataframe\">\n",
       "  <thead>\n",
       "    <tr style=\"text-align: right;\">\n",
       "      <th></th>\n",
       "      <th>date</th>\n",
       "      <th>area</th>\n",
       "      <th>pre_pro_mean</th>\n",
       "    </tr>\n",
       "  </thead>\n",
       "  <tbody>\n",
       "    <tr>\n",
       "      <th>0</th>\n",
       "      <td>20140101</td>\n",
       "      <td>울산</td>\n",
       "      <td>0.000</td>\n",
       "    </tr>\n",
       "    <tr>\n",
       "      <th>1</th>\n",
       "      <td>20140102</td>\n",
       "      <td>울산</td>\n",
       "      <td>0.000</td>\n",
       "    </tr>\n",
       "    <tr>\n",
       "      <th>2</th>\n",
       "      <td>20140103</td>\n",
       "      <td>울산</td>\n",
       "      <td>0.000</td>\n",
       "    </tr>\n",
       "    <tr>\n",
       "      <th>3</th>\n",
       "      <td>20140104</td>\n",
       "      <td>울산</td>\n",
       "      <td>0.500</td>\n",
       "    </tr>\n",
       "    <tr>\n",
       "      <th>4</th>\n",
       "      <td>20140105</td>\n",
       "      <td>울산</td>\n",
       "      <td>0.000</td>\n",
       "    </tr>\n",
       "    <tr>\n",
       "      <th>...</th>\n",
       "      <td>...</td>\n",
       "      <td>...</td>\n",
       "      <td>...</td>\n",
       "    </tr>\n",
       "    <tr>\n",
       "      <th>360</th>\n",
       "      <td>20141227</td>\n",
       "      <td>울산</td>\n",
       "      <td>0.000</td>\n",
       "    </tr>\n",
       "    <tr>\n",
       "      <th>361</th>\n",
       "      <td>20141228</td>\n",
       "      <td>울산</td>\n",
       "      <td>0.000</td>\n",
       "    </tr>\n",
       "    <tr>\n",
       "      <th>362</th>\n",
       "      <td>20141229</td>\n",
       "      <td>울산</td>\n",
       "      <td>0.000</td>\n",
       "    </tr>\n",
       "    <tr>\n",
       "      <th>363</th>\n",
       "      <td>20141230</td>\n",
       "      <td>울산</td>\n",
       "      <td>0.125</td>\n",
       "    </tr>\n",
       "    <tr>\n",
       "      <th>364</th>\n",
       "      <td>20141231</td>\n",
       "      <td>울산</td>\n",
       "      <td>0.000</td>\n",
       "    </tr>\n",
       "  </tbody>\n",
       "</table>\n",
       "<p>365 rows × 3 columns</p>\n",
       "</div>"
      ],
      "text/plain": [
       "         date area  pre_pro_mean\n",
       "0    20140101   울산         0.000\n",
       "1    20140102   울산         0.000\n",
       "2    20140103   울산         0.000\n",
       "3    20140104   울산         0.500\n",
       "4    20140105   울산         0.000\n",
       "..        ...  ...           ...\n",
       "360  20141227   울산         0.000\n",
       "361  20141228   울산         0.000\n",
       "362  20141229   울산         0.000\n",
       "363  20141230   울산         0.125\n",
       "364  20141231   울산         0.000\n",
       "\n",
       "[365 rows x 3 columns]"
      ]
     },
     "execution_count": 22,
     "metadata": {},
     "output_type": "execute_result"
    }
   ],
   "source": [
    "pre_pro = pd.DataFrame(kw2013_pre_pro_final['pre_pro_mean'].groupby(kw2013_pre_pro_final['date']).mean())\n",
    "pre_pro.reset_index(level=['date'], inplace = True)\n",
    "pre_pro['area'] = '울산'\n",
    "pre_pro = pre_pro[['date', 'area', 'pre_pro_mean']]\n",
    "pre_pro"
   ]
  },
  {
   "cell_type": "code",
   "execution_count": 23,
   "id": "5290ef5f",
   "metadata": {},
   "outputs": [],
   "source": [
    "pre_pro.to_csv('us.csv', index=False)"
   ]
  },
  {
   "cell_type": "code",
   "execution_count": null,
   "id": "c17dcd6d",
   "metadata": {},
   "outputs": [],
   "source": []
  }
 ],
 "metadata": {
  "kernelspec": {
   "display_name": "Python 3 (ipykernel)",
   "language": "python",
   "name": "python3"
  },
  "language_info": {
   "codemirror_mode": {
    "name": "ipython",
    "version": 3
   },
   "file_extension": ".py",
   "mimetype": "text/x-python",
   "name": "python",
   "nbconvert_exporter": "python",
   "pygments_lexer": "ipython3",
   "version": "3.9.7"
  }
 },
 "nbformat": 4,
 "nbformat_minor": 5
}
