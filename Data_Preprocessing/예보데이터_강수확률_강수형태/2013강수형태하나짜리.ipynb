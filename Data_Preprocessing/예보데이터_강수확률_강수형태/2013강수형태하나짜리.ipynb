{
 "cells": [
  {
   "cell_type": "code",
   "execution_count": 1,
   "id": "fc3ebe3e",
   "metadata": {},
   "outputs": [
    {
     "name": "stdout",
     "output_type": "stream",
     "text": [
      "Directory changed\n"
     ]
    }
   ],
   "source": [
    "import os\n",
    "\n",
    "try:\n",
    "    file_list = os.chdir(\"/Users/cha/Desktop/공모전/날씨 빅데이터 콘테스트/data/예보데이터\")\n",
    "    print(\"Directory changed\")\n",
    "except OSError:\n",
    "    print(\"Can't change the Current Working Directory\")"
   ]
  },
  {
   "cell_type": "code",
   "execution_count": 2,
   "id": "0646ec51",
   "metadata": {},
   "outputs": [],
   "source": [
    "import glob"
   ]
  },
  {
   "cell_type": "code",
   "execution_count": 3,
   "id": "fd7b800d",
   "metadata": {},
   "outputs": [],
   "source": [
    "import pandas as pd\n",
    "import numpy as np"
   ]
  },
  {
   "cell_type": "code",
   "execution_count": 4,
   "id": "54d8b90f",
   "metadata": {},
   "outputs": [],
   "source": [
    "kw2013_pre_pro = glob.glob(os.path.join(\"2013/울산\", \"*_강수형태_201301_201312.csv\"))"
   ]
  },
  {
   "cell_type": "code",
   "execution_count": 5,
   "id": "680aefb6",
   "metadata": {},
   "outputs": [
    {
     "data": {
      "text/plain": [
       "['2013/울산/병영2동_강수형태_201301_201312.csv']"
      ]
     },
     "execution_count": 5,
     "metadata": {},
     "output_type": "execute_result"
    }
   ],
   "source": [
    "kw2013_pre_pro"
   ]
  },
  {
   "cell_type": "code",
   "execution_count": 6,
   "id": "a42acf0d",
   "metadata": {},
   "outputs": [
    {
     "name": "stdout",
     "output_type": "stream",
     "text": [
      "1\n"
     ]
    }
   ],
   "source": [
    "print(len(kw2013_pre_pro))"
   ]
  },
  {
   "cell_type": "code",
   "execution_count": 7,
   "id": "a79ec7c7",
   "metadata": {},
   "outputs": [],
   "source": [
    "j=1\n",
    "for i in kw2013_pre_pro:\n",
    "    globals()['kw2013_pre_pro_{}'.format(j)] = pd.read_csv(i)\n",
    "    j += 1"
   ]
  },
  {
   "cell_type": "code",
   "execution_count": 8,
   "id": "e10ae801",
   "metadata": {},
   "outputs": [
    {
     "data": {
      "text/html": [
       "<div>\n",
       "<style scoped>\n",
       "    .dataframe tbody tr th:only-of-type {\n",
       "        vertical-align: middle;\n",
       "    }\n",
       "\n",
       "    .dataframe tbody tr th {\n",
       "        vertical-align: top;\n",
       "    }\n",
       "\n",
       "    .dataframe thead th {\n",
       "        text-align: right;\n",
       "    }\n",
       "</style>\n",
       "<table border=\"1\" class=\"dataframe\">\n",
       "  <thead>\n",
       "    <tr style=\"text-align: right;\">\n",
       "      <th></th>\n",
       "      <th>format: day</th>\n",
       "      <th>hour</th>\n",
       "      <th>forecast</th>\n",
       "      <th>value  location:102_85 Start : 20130101</th>\n",
       "    </tr>\n",
       "  </thead>\n",
       "  <tbody>\n",
       "    <tr>\n",
       "      <th>0</th>\n",
       "      <td>1</td>\n",
       "      <td>0200</td>\n",
       "      <td>+4</td>\n",
       "      <td>0.000000</td>\n",
       "    </tr>\n",
       "    <tr>\n",
       "      <th>1</th>\n",
       "      <td>1</td>\n",
       "      <td>0200</td>\n",
       "      <td>+7</td>\n",
       "      <td>0.000000</td>\n",
       "    </tr>\n",
       "    <tr>\n",
       "      <th>2</th>\n",
       "      <td>1</td>\n",
       "      <td>0200</td>\n",
       "      <td>+10</td>\n",
       "      <td>0.000000</td>\n",
       "    </tr>\n",
       "    <tr>\n",
       "      <th>3</th>\n",
       "      <td>1</td>\n",
       "      <td>0200</td>\n",
       "      <td>+13</td>\n",
       "      <td>0.000000</td>\n",
       "    </tr>\n",
       "    <tr>\n",
       "      <th>4</th>\n",
       "      <td>1</td>\n",
       "      <td>0200</td>\n",
       "      <td>+16</td>\n",
       "      <td>0.000000</td>\n",
       "    </tr>\n",
       "    <tr>\n",
       "      <th>...</th>\n",
       "      <td>...</td>\n",
       "      <td>...</td>\n",
       "      <td>...</td>\n",
       "      <td>...</td>\n",
       "    </tr>\n",
       "    <tr>\n",
       "      <th>96378</th>\n",
       "      <td>31</td>\n",
       "      <td>2300</td>\n",
       "      <td>+40</td>\n",
       "      <td>0.000000</td>\n",
       "    </tr>\n",
       "    <tr>\n",
       "      <th>96379</th>\n",
       "      <td>31</td>\n",
       "      <td>2300</td>\n",
       "      <td>+43</td>\n",
       "      <td>0.000000</td>\n",
       "    </tr>\n",
       "    <tr>\n",
       "      <th>96380</th>\n",
       "      <td>31</td>\n",
       "      <td>2300</td>\n",
       "      <td>+46</td>\n",
       "      <td>0.000000</td>\n",
       "    </tr>\n",
       "    <tr>\n",
       "      <th>96381</th>\n",
       "      <td>31</td>\n",
       "      <td>2300</td>\n",
       "      <td>+49</td>\n",
       "      <td>0.000000</td>\n",
       "    </tr>\n",
       "    <tr>\n",
       "      <th>96382</th>\n",
       "      <td>31</td>\n",
       "      <td>2300</td>\n",
       "      <td>+52</td>\n",
       "      <td>0.000000</td>\n",
       "    </tr>\n",
       "  </tbody>\n",
       "</table>\n",
       "<p>96383 rows × 4 columns</p>\n",
       "</div>"
      ],
      "text/plain": [
       "       format: day  hour forecast value  location:102_85 Start : 20130101 \n",
       "0                1  0200       +4                                0.000000 \n",
       "1                1  0200       +7                                0.000000 \n",
       "2                1  0200      +10                                0.000000 \n",
       "3                1  0200      +13                                0.000000 \n",
       "4                1  0200      +16                                0.000000 \n",
       "...            ...   ...      ...                                      ...\n",
       "96378           31  2300      +40                                0.000000 \n",
       "96379           31  2300      +43                                0.000000 \n",
       "96380           31  2300      +46                                0.000000 \n",
       "96381           31  2300      +49                                0.000000 \n",
       "96382           31  2300      +52                                0.000000 \n",
       "\n",
       "[96383 rows x 4 columns]"
      ]
     },
     "execution_count": 8,
     "metadata": {},
     "output_type": "execute_result"
    }
   ],
   "source": [
    "kw2013_pre_pro_1"
   ]
  },
  {
   "cell_type": "code",
   "execution_count": 9,
   "id": "f2dc700d",
   "metadata": {},
   "outputs": [
    {
     "name": "stdout",
     "output_type": "stream",
     "text": [
      "<class 'pandas.core.frame.DataFrame'>\n",
      "RangeIndex: 96383 entries, 0 to 96382\n",
      "Data columns (total 4 columns):\n",
      " #   Column                                    Non-Null Count  Dtype \n",
      "---  ------                                    --------------  ----- \n",
      " 0    format: day                              96383 non-null  object\n",
      " 1   hour                                      96361 non-null  object\n",
      " 2   forecast                                  96361 non-null  object\n",
      " 3   value  location:102_85 Start : 20130101   96361 non-null  object\n",
      "dtypes: object(4)\n",
      "memory usage: 2.9+ MB\n"
     ]
    }
   ],
   "source": [
    "kw2013_pre_pro_1.info()"
   ]
  },
  {
   "cell_type": "code",
   "execution_count": 10,
   "id": "2e8fdd7b",
   "metadata": {},
   "outputs": [],
   "source": [
    "kw2013_pre_pro_1.rename(columns={kw2013_pre_pro_1.columns[0]: 'date', kw2013_pre_pro_1.columns[3]: 'pre_pro_mean'}, inplace=True)"
   ]
  },
  {
   "cell_type": "code",
   "execution_count": 11,
   "id": "8afe0894",
   "metadata": {},
   "outputs": [],
   "source": [
    "kw2013_pre_pro_1[\"date\"] = kw2013_pre_pro_1[\"date\"].str.replace(\" \", \"\")"
   ]
  },
  {
   "cell_type": "code",
   "execution_count": 12,
   "id": "28fa5feb",
   "metadata": {
    "scrolled": true
   },
   "outputs": [],
   "source": [
    "for i in range(len(kw2013_pre_pro_1[\"date\"])):\n",
    "    if len(kw2013_pre_pro_1[\"date\"][i]) == 1:\n",
    "        kw2013_pre_pro_1[\"date\"][i] = \"0\" + kw2013_pre_pro_1[\"date\"][i]"
   ]
  },
  {
   "cell_type": "code",
   "execution_count": 13,
   "id": "81737cc8",
   "metadata": {},
   "outputs": [
    {
     "name": "stdout",
     "output_type": "stream",
     "text": [
      "                 date hour forecast pre_pro_mean\n",
      "4092   Start:20130201  NaN      NaN          NaN\n",
      "7789   Start:20130301  NaN      NaN          NaN\n",
      "11882  Start:20130401  NaN      NaN          NaN\n",
      "15843  Start:20130501  NaN      NaN          NaN\n",
      "19936  Start:20130601  NaN      NaN          NaN\n",
      "23897  Start:20130701  NaN      NaN          NaN\n",
      "27990  Start:20130801  NaN      NaN          NaN\n",
      "32083  Start:20130901  NaN      NaN          NaN\n",
      "36044  Start:20131001  NaN      NaN          NaN\n",
      "40137  Start:20131101  NaN      NaN          NaN\n",
      "44098  Start:20131201  NaN      NaN          NaN\n",
      "52284  Start:20130201  NaN      NaN          NaN\n",
      "55981  Start:20130301  NaN      NaN          NaN\n",
      "60074  Start:20130401  NaN      NaN          NaN\n",
      "64035  Start:20130501  NaN      NaN          NaN\n",
      "68128  Start:20130601  NaN      NaN          NaN\n",
      "72089  Start:20130701  NaN      NaN          NaN\n",
      "76182  Start:20130801  NaN      NaN          NaN\n",
      "80275  Start:20130901  NaN      NaN          NaN\n",
      "84236  Start:20131001  NaN      NaN          NaN\n",
      "88329  Start:20131101  NaN      NaN          NaN\n",
      "92290  Start:20131201  NaN      NaN          NaN\n"
     ]
    }
   ],
   "source": [
    "print(kw2013_pre_pro_1.loc[(kw2013_pre_pro_1['date'] == 'Start:20130201') |\n",
    "                           (kw2013_pre_pro_1['date'] == 'Start:20130301') |\n",
    "                           (kw2013_pre_pro_1['date'] == 'Start:20130401') |\n",
    "                           (kw2013_pre_pro_1['date'] == 'Start:20130501') |\n",
    "                           (kw2013_pre_pro_1['date'] == 'Start:20130601') |\n",
    "                           (kw2013_pre_pro_1['date'] == 'Start:20130701') |\n",
    "                           (kw2013_pre_pro_1['date'] == 'Start:20130801') |\n",
    "                           (kw2013_pre_pro_1['date'] == 'Start:20130901') |\n",
    "                           (kw2013_pre_pro_1['date'] == 'Start:20131001') |\n",
    "                           (kw2013_pre_pro_1['date'] == 'Start:20131101') |\n",
    "                           (kw2013_pre_pro_1['date'] == 'Start:20131201')])"
   ]
  },
  {
   "cell_type": "code",
   "execution_count": 14,
   "id": "725ed0c8",
   "metadata": {},
   "outputs": [],
   "source": [
    "kw2013_pre_pro_1 = kw2013_pre_pro_1.loc[:52283]"
   ]
  },
  {
   "cell_type": "code",
   "execution_count": 15,
   "id": "5339eb30",
   "metadata": {
    "scrolled": true
   },
   "outputs": [
    {
     "name": "stderr",
     "output_type": "stream",
     "text": [
      "/var/folders/1b/6fw3j9nd4_qgymn82k3hygww0000gn/T/ipykernel_21634/659142922.py:1: SettingWithCopyWarning: \n",
      "A value is trying to be set on a copy of a slice from a DataFrame.\n",
      "Try using .loc[row_indexer,col_indexer] = value instead\n",
      "\n",
      "See the caveats in the documentation: https://pandas.pydata.org/pandas-docs/stable/user_guide/indexing.html#returning-a-view-versus-a-copy\n",
      "  kw2013_pre_pro_1.loc[:4091][\"date\"] = \"201301\" + kw2013_pre_pro_1.loc[:4091][\"date\"]\n",
      "/var/folders/1b/6fw3j9nd4_qgymn82k3hygww0000gn/T/ipykernel_21634/659142922.py:2: SettingWithCopyWarning: \n",
      "A value is trying to be set on a copy of a slice from a DataFrame.\n",
      "Try using .loc[row_indexer,col_indexer] = value instead\n",
      "\n",
      "See the caveats in the documentation: https://pandas.pydata.org/pandas-docs/stable/user_guide/indexing.html#returning-a-view-versus-a-copy\n",
      "  kw2013_pre_pro_1.loc[4093:7788][\"date\"] = \"201302\" + kw2013_pre_pro_1.loc[4093:7788][\"date\"]\n",
      "/var/folders/1b/6fw3j9nd4_qgymn82k3hygww0000gn/T/ipykernel_21634/659142922.py:3: SettingWithCopyWarning: \n",
      "A value is trying to be set on a copy of a slice from a DataFrame.\n",
      "Try using .loc[row_indexer,col_indexer] = value instead\n",
      "\n",
      "See the caveats in the documentation: https://pandas.pydata.org/pandas-docs/stable/user_guide/indexing.html#returning-a-view-versus-a-copy\n",
      "  kw2013_pre_pro_1.loc[7790:11881][\"date\"] = \"201303\" + kw2013_pre_pro_1.loc[7790:11881][\"date\"]\n",
      "/var/folders/1b/6fw3j9nd4_qgymn82k3hygww0000gn/T/ipykernel_21634/659142922.py:4: SettingWithCopyWarning: \n",
      "A value is trying to be set on a copy of a slice from a DataFrame.\n",
      "Try using .loc[row_indexer,col_indexer] = value instead\n",
      "\n",
      "See the caveats in the documentation: https://pandas.pydata.org/pandas-docs/stable/user_guide/indexing.html#returning-a-view-versus-a-copy\n",
      "  kw2013_pre_pro_1.loc[11883:15842][\"date\"] = \"201304\" + kw2013_pre_pro_1.loc[11883:15842][\"date\"]\n",
      "/var/folders/1b/6fw3j9nd4_qgymn82k3hygww0000gn/T/ipykernel_21634/659142922.py:5: SettingWithCopyWarning: \n",
      "A value is trying to be set on a copy of a slice from a DataFrame.\n",
      "Try using .loc[row_indexer,col_indexer] = value instead\n",
      "\n",
      "See the caveats in the documentation: https://pandas.pydata.org/pandas-docs/stable/user_guide/indexing.html#returning-a-view-versus-a-copy\n",
      "  kw2013_pre_pro_1.loc[15844:19935][\"date\"] = \"201305\" + kw2013_pre_pro_1.loc[15844:19935][\"date\"]\n",
      "/var/folders/1b/6fw3j9nd4_qgymn82k3hygww0000gn/T/ipykernel_21634/659142922.py:6: SettingWithCopyWarning: \n",
      "A value is trying to be set on a copy of a slice from a DataFrame.\n",
      "Try using .loc[row_indexer,col_indexer] = value instead\n",
      "\n",
      "See the caveats in the documentation: https://pandas.pydata.org/pandas-docs/stable/user_guide/indexing.html#returning-a-view-versus-a-copy\n",
      "  kw2013_pre_pro_1.loc[19937:23896][\"date\"] = \"201306\" + kw2013_pre_pro_1.loc[19937:23896][\"date\"]\n",
      "/var/folders/1b/6fw3j9nd4_qgymn82k3hygww0000gn/T/ipykernel_21634/659142922.py:7: SettingWithCopyWarning: \n",
      "A value is trying to be set on a copy of a slice from a DataFrame.\n",
      "Try using .loc[row_indexer,col_indexer] = value instead\n",
      "\n",
      "See the caveats in the documentation: https://pandas.pydata.org/pandas-docs/stable/user_guide/indexing.html#returning-a-view-versus-a-copy\n",
      "  kw2013_pre_pro_1.loc[23898:27989][\"date\"] = \"201307\" + kw2013_pre_pro_1.loc[23898:27989][\"date\"]\n",
      "/var/folders/1b/6fw3j9nd4_qgymn82k3hygww0000gn/T/ipykernel_21634/659142922.py:8: SettingWithCopyWarning: \n",
      "A value is trying to be set on a copy of a slice from a DataFrame.\n",
      "Try using .loc[row_indexer,col_indexer] = value instead\n",
      "\n",
      "See the caveats in the documentation: https://pandas.pydata.org/pandas-docs/stable/user_guide/indexing.html#returning-a-view-versus-a-copy\n",
      "  kw2013_pre_pro_1.loc[27991:32082][\"date\"] = \"201308\" + kw2013_pre_pro_1.loc[27991:32082][\"date\"]\n",
      "/var/folders/1b/6fw3j9nd4_qgymn82k3hygww0000gn/T/ipykernel_21634/659142922.py:9: SettingWithCopyWarning: \n",
      "A value is trying to be set on a copy of a slice from a DataFrame.\n",
      "Try using .loc[row_indexer,col_indexer] = value instead\n",
      "\n",
      "See the caveats in the documentation: https://pandas.pydata.org/pandas-docs/stable/user_guide/indexing.html#returning-a-view-versus-a-copy\n",
      "  kw2013_pre_pro_1.loc[32084:36043][\"date\"] = \"201309\" + kw2013_pre_pro_1.loc[32084:36043][\"date\"]\n",
      "/var/folders/1b/6fw3j9nd4_qgymn82k3hygww0000gn/T/ipykernel_21634/659142922.py:10: SettingWithCopyWarning: \n",
      "A value is trying to be set on a copy of a slice from a DataFrame.\n",
      "Try using .loc[row_indexer,col_indexer] = value instead\n",
      "\n",
      "See the caveats in the documentation: https://pandas.pydata.org/pandas-docs/stable/user_guide/indexing.html#returning-a-view-versus-a-copy\n",
      "  kw2013_pre_pro_1.loc[36045:40136][\"date\"] = \"201310\" + kw2013_pre_pro_1.loc[36045:40136][\"date\"]\n",
      "/var/folders/1b/6fw3j9nd4_qgymn82k3hygww0000gn/T/ipykernel_21634/659142922.py:11: SettingWithCopyWarning: \n",
      "A value is trying to be set on a copy of a slice from a DataFrame.\n",
      "Try using .loc[row_indexer,col_indexer] = value instead\n",
      "\n",
      "See the caveats in the documentation: https://pandas.pydata.org/pandas-docs/stable/user_guide/indexing.html#returning-a-view-versus-a-copy\n",
      "  kw2013_pre_pro_1.loc[40138:44097][\"date\"] = \"201311\" + kw2013_pre_pro_1.loc[40138:44097][\"date\"]\n",
      "/var/folders/1b/6fw3j9nd4_qgymn82k3hygww0000gn/T/ipykernel_21634/659142922.py:13: SettingWithCopyWarning: \n",
      "A value is trying to be set on a copy of a slice from a DataFrame.\n",
      "Try using .loc[row_indexer,col_indexer] = value instead\n",
      "\n",
      "See the caveats in the documentation: https://pandas.pydata.org/pandas-docs/stable/user_guide/indexing.html#returning-a-view-versus-a-copy\n",
      "  kw2013_pre_pro_1.loc[44099:52283][\"date\"] = \"201312\" + kw2013_pre_pro_1.loc[44099:52283][\"date\"]\n"
     ]
    }
   ],
   "source": [
    "kw2013_pre_pro_1.loc[:4091][\"date\"] = \"201301\" + kw2013_pre_pro_1.loc[:4091][\"date\"]\n",
    "kw2013_pre_pro_1.loc[4093:7788][\"date\"] = \"201302\" + kw2013_pre_pro_1.loc[4093:7788][\"date\"]\n",
    "kw2013_pre_pro_1.loc[7790:11881][\"date\"] = \"201303\" + kw2013_pre_pro_1.loc[7790:11881][\"date\"]\n",
    "kw2013_pre_pro_1.loc[11883:15842][\"date\"] = \"201304\" + kw2013_pre_pro_1.loc[11883:15842][\"date\"]\n",
    "kw2013_pre_pro_1.loc[15844:19935][\"date\"] = \"201305\" + kw2013_pre_pro_1.loc[15844:19935][\"date\"]\n",
    "kw2013_pre_pro_1.loc[19937:23896][\"date\"] = \"201306\" + kw2013_pre_pro_1.loc[19937:23896][\"date\"]\n",
    "kw2013_pre_pro_1.loc[23898:27989][\"date\"] = \"201307\" + kw2013_pre_pro_1.loc[23898:27989][\"date\"]\n",
    "kw2013_pre_pro_1.loc[27991:32082][\"date\"] = \"201308\" + kw2013_pre_pro_1.loc[27991:32082][\"date\"]\n",
    "kw2013_pre_pro_1.loc[32084:36043][\"date\"] = \"201309\" + kw2013_pre_pro_1.loc[32084:36043][\"date\"]\n",
    "kw2013_pre_pro_1.loc[36045:40136][\"date\"] = \"201310\" + kw2013_pre_pro_1.loc[36045:40136][\"date\"]\n",
    "kw2013_pre_pro_1.loc[40138:44097][\"date\"] = \"201311\" + kw2013_pre_pro_1.loc[40138:44097][\"date\"]\n",
    "#kw2013_pre_pro_1.loc[44099:][\"date\"] = \"201312\" + kw2013_pre_pro_1.loc[44099:][\"date\"]\n",
    "kw2013_pre_pro_1.loc[44099:52283][\"date\"] = \"201312\" + kw2013_pre_pro_1.loc[44099:52283][\"date\"]"
   ]
  },
  {
   "cell_type": "code",
   "execution_count": 16,
   "id": "b5ee97ce",
   "metadata": {},
   "outputs": [],
   "source": [
    "#kw2013_pre_pro_1 = kw2013_pre_pro_1.drop([4092, 7789, 11882, 15843, 19936, 23897, 27990, 32083, 36044, 40137, 44098], axis = 0)\n",
    "kw2013_pre_pro_1 = kw2013_pre_pro_1.drop([4092, 7789, 11882, 15843, 19936, 23897, 27990, 32083, 36044, 40137, 44098, 48191], axis = 0)"
   ]
  },
  {
   "cell_type": "code",
   "execution_count": 17,
   "id": "5b9d0dc6",
   "metadata": {},
   "outputs": [
    {
     "data": {
      "text/plain": [
       "20131231    264\n",
       "20131216    264\n",
       "20131201    264\n",
       "20131202    264\n",
       "20131203    264\n",
       "           ... \n",
       "20130501    132\n",
       "20130430    132\n",
       "20130429    132\n",
       "20130428    132\n",
       "20130702    132\n",
       "Name: date, Length: 365, dtype: int64"
      ]
     },
     "execution_count": 17,
     "metadata": {},
     "output_type": "execute_result"
    }
   ],
   "source": [
    "kw2013_pre_pro_1[\"date\"].value_counts()"
   ]
  },
  {
   "cell_type": "code",
   "execution_count": 18,
   "id": "23e5236c",
   "metadata": {},
   "outputs": [
    {
     "data": {
      "text/html": [
       "<div>\n",
       "<style scoped>\n",
       "    .dataframe tbody tr th:only-of-type {\n",
       "        vertical-align: middle;\n",
       "    }\n",
       "\n",
       "    .dataframe tbody tr th {\n",
       "        vertical-align: top;\n",
       "    }\n",
       "\n",
       "    .dataframe thead th {\n",
       "        text-align: right;\n",
       "    }\n",
       "</style>\n",
       "<table border=\"1\" class=\"dataframe\">\n",
       "  <thead>\n",
       "    <tr style=\"text-align: right;\">\n",
       "      <th></th>\n",
       "      <th>date</th>\n",
       "      <th>hour</th>\n",
       "      <th>forecast</th>\n",
       "      <th>pre_pro_mean</th>\n",
       "    </tr>\n",
       "  </thead>\n",
       "  <tbody>\n",
       "    <tr>\n",
       "      <th>0</th>\n",
       "      <td>20130101</td>\n",
       "      <td>0200</td>\n",
       "      <td>+4</td>\n",
       "      <td>0.000000</td>\n",
       "    </tr>\n",
       "    <tr>\n",
       "      <th>16</th>\n",
       "      <td>20130101</td>\n",
       "      <td>0500</td>\n",
       "      <td>+4</td>\n",
       "      <td>0.000000</td>\n",
       "    </tr>\n",
       "    <tr>\n",
       "      <th>31</th>\n",
       "      <td>20130101</td>\n",
       "      <td>0800</td>\n",
       "      <td>+4</td>\n",
       "      <td>0.000000</td>\n",
       "    </tr>\n",
       "    <tr>\n",
       "      <th>49</th>\n",
       "      <td>20130101</td>\n",
       "      <td>1100</td>\n",
       "      <td>+4</td>\n",
       "      <td>0.000000</td>\n",
       "    </tr>\n",
       "    <tr>\n",
       "      <th>66</th>\n",
       "      <td>20130101</td>\n",
       "      <td>1400</td>\n",
       "      <td>+4</td>\n",
       "      <td>0.000000</td>\n",
       "    </tr>\n",
       "  </tbody>\n",
       "</table>\n",
       "</div>"
      ],
      "text/plain": [
       "        date  hour forecast pre_pro_mean\n",
       "0   20130101  0200       +4    0.000000 \n",
       "16  20130101  0500       +4    0.000000 \n",
       "31  20130101  0800       +4    0.000000 \n",
       "49  20130101  1100       +4    0.000000 \n",
       "66  20130101  1400       +4    0.000000 "
      ]
     },
     "execution_count": 18,
     "metadata": {},
     "output_type": "execute_result"
    }
   ],
   "source": [
    "#kw2013_pre_pro_1_fore4 = kw2013_pre_pro_1[kw2013_pre_pro_1['forecast']== 4.0]\n",
    "kw2013_pre_pro_1_fore4 = kw2013_pre_pro_1[kw2013_pre_pro_1['forecast']== '+4']\n",
    "kw2013_pre_pro_1_fore4.head()"
   ]
  },
  {
   "cell_type": "code",
   "execution_count": 19,
   "id": "bb8bc1b5",
   "metadata": {},
   "outputs": [
    {
     "name": "stderr",
     "output_type": "stream",
     "text": [
      "/var/folders/1b/6fw3j9nd4_qgymn82k3hygww0000gn/T/ipykernel_21634/1176009402.py:1: SettingWithCopyWarning: \n",
      "A value is trying to be set on a copy of a slice from a DataFrame.\n",
      "Try using .loc[row_indexer,col_indexer] = value instead\n",
      "\n",
      "See the caveats in the documentation: https://pandas.pydata.org/pandas-docs/stable/user_guide/indexing.html#returning-a-view-versus-a-copy\n",
      "  kw2013_pre_pro_1_fore4['pre_pro_mean'] = kw2013_pre_pro_1_fore4['pre_pro_mean'].astype('float')\n"
     ]
    }
   ],
   "source": [
    "kw2013_pre_pro_1_fore4['pre_pro_mean'] = kw2013_pre_pro_1_fore4['pre_pro_mean'].astype('float')"
   ]
  },
  {
   "cell_type": "code",
   "execution_count": 20,
   "id": "d60bbb80",
   "metadata": {},
   "outputs": [],
   "source": [
    "kw2013_pre_pro_1_final = pd.DataFrame(kw2013_pre_pro_1_fore4['pre_pro_mean'].groupby(kw2013_pre_pro_1_fore4['date']).mean())"
   ]
  },
  {
   "cell_type": "code",
   "execution_count": 21,
   "id": "fd0ec123",
   "metadata": {},
   "outputs": [
    {
     "data": {
      "text/html": [
       "<div>\n",
       "<style scoped>\n",
       "    .dataframe tbody tr th:only-of-type {\n",
       "        vertical-align: middle;\n",
       "    }\n",
       "\n",
       "    .dataframe tbody tr th {\n",
       "        vertical-align: top;\n",
       "    }\n",
       "\n",
       "    .dataframe thead th {\n",
       "        text-align: right;\n",
       "    }\n",
       "</style>\n",
       "<table border=\"1\" class=\"dataframe\">\n",
       "  <thead>\n",
       "    <tr style=\"text-align: right;\">\n",
       "      <th></th>\n",
       "      <th>date</th>\n",
       "      <th>pre_pro_mean</th>\n",
       "    </tr>\n",
       "  </thead>\n",
       "  <tbody>\n",
       "    <tr>\n",
       "      <th>0</th>\n",
       "      <td>20130101</td>\n",
       "      <td>0.0000</td>\n",
       "    </tr>\n",
       "    <tr>\n",
       "      <th>1</th>\n",
       "      <td>20130102</td>\n",
       "      <td>0.0000</td>\n",
       "    </tr>\n",
       "    <tr>\n",
       "      <th>2</th>\n",
       "      <td>20130103</td>\n",
       "      <td>0.0000</td>\n",
       "    </tr>\n",
       "    <tr>\n",
       "      <th>3</th>\n",
       "      <td>20130104</td>\n",
       "      <td>0.0000</td>\n",
       "    </tr>\n",
       "    <tr>\n",
       "      <th>4</th>\n",
       "      <td>20130105</td>\n",
       "      <td>0.0000</td>\n",
       "    </tr>\n",
       "    <tr>\n",
       "      <th>...</th>\n",
       "      <td>...</td>\n",
       "      <td>...</td>\n",
       "    </tr>\n",
       "    <tr>\n",
       "      <th>360</th>\n",
       "      <td>20131227</td>\n",
       "      <td>0.0000</td>\n",
       "    </tr>\n",
       "    <tr>\n",
       "      <th>361</th>\n",
       "      <td>20131228</td>\n",
       "      <td>0.0000</td>\n",
       "    </tr>\n",
       "    <tr>\n",
       "      <th>362</th>\n",
       "      <td>20131229</td>\n",
       "      <td>0.0000</td>\n",
       "    </tr>\n",
       "    <tr>\n",
       "      <th>363</th>\n",
       "      <td>20131230</td>\n",
       "      <td>0.0000</td>\n",
       "    </tr>\n",
       "    <tr>\n",
       "      <th>364</th>\n",
       "      <td>20131231</td>\n",
       "      <td>0.1875</td>\n",
       "    </tr>\n",
       "  </tbody>\n",
       "</table>\n",
       "<p>365 rows × 2 columns</p>\n",
       "</div>"
      ],
      "text/plain": [
       "         date  pre_pro_mean\n",
       "0    20130101        0.0000\n",
       "1    20130102        0.0000\n",
       "2    20130103        0.0000\n",
       "3    20130104        0.0000\n",
       "4    20130105        0.0000\n",
       "..        ...           ...\n",
       "360  20131227        0.0000\n",
       "361  20131228        0.0000\n",
       "362  20131229        0.0000\n",
       "363  20131230        0.0000\n",
       "364  20131231        0.1875\n",
       "\n",
       "[365 rows x 2 columns]"
      ]
     },
     "execution_count": 21,
     "metadata": {},
     "output_type": "execute_result"
    }
   ],
   "source": [
    "kw2013_pre_pro_1_final.reset_index(level=['date'], inplace = True)\n",
    "kw2013_pre_pro_1_final"
   ]
  },
  {
   "cell_type": "code",
   "execution_count": 22,
   "id": "28ce7120",
   "metadata": {},
   "outputs": [
    {
     "data": {
      "text/html": [
       "<div>\n",
       "<style scoped>\n",
       "    .dataframe tbody tr th:only-of-type {\n",
       "        vertical-align: middle;\n",
       "    }\n",
       "\n",
       "    .dataframe tbody tr th {\n",
       "        vertical-align: top;\n",
       "    }\n",
       "\n",
       "    .dataframe thead th {\n",
       "        text-align: right;\n",
       "    }\n",
       "</style>\n",
       "<table border=\"1\" class=\"dataframe\">\n",
       "  <thead>\n",
       "    <tr style=\"text-align: right;\">\n",
       "      <th></th>\n",
       "      <th>date</th>\n",
       "      <th>pre_pro_mean</th>\n",
       "    </tr>\n",
       "  </thead>\n",
       "  <tbody>\n",
       "    <tr>\n",
       "      <th>0</th>\n",
       "      <td>20130101</td>\n",
       "      <td>0.0000</td>\n",
       "    </tr>\n",
       "    <tr>\n",
       "      <th>1</th>\n",
       "      <td>20130102</td>\n",
       "      <td>0.0000</td>\n",
       "    </tr>\n",
       "    <tr>\n",
       "      <th>2</th>\n",
       "      <td>20130103</td>\n",
       "      <td>0.0000</td>\n",
       "    </tr>\n",
       "    <tr>\n",
       "      <th>3</th>\n",
       "      <td>20130104</td>\n",
       "      <td>0.0000</td>\n",
       "    </tr>\n",
       "    <tr>\n",
       "      <th>4</th>\n",
       "      <td>20130105</td>\n",
       "      <td>0.0000</td>\n",
       "    </tr>\n",
       "    <tr>\n",
       "      <th>...</th>\n",
       "      <td>...</td>\n",
       "      <td>...</td>\n",
       "    </tr>\n",
       "    <tr>\n",
       "      <th>360</th>\n",
       "      <td>20131227</td>\n",
       "      <td>0.0000</td>\n",
       "    </tr>\n",
       "    <tr>\n",
       "      <th>361</th>\n",
       "      <td>20131228</td>\n",
       "      <td>0.0000</td>\n",
       "    </tr>\n",
       "    <tr>\n",
       "      <th>362</th>\n",
       "      <td>20131229</td>\n",
       "      <td>0.0000</td>\n",
       "    </tr>\n",
       "    <tr>\n",
       "      <th>363</th>\n",
       "      <td>20131230</td>\n",
       "      <td>0.0000</td>\n",
       "    </tr>\n",
       "    <tr>\n",
       "      <th>364</th>\n",
       "      <td>20131231</td>\n",
       "      <td>0.1875</td>\n",
       "    </tr>\n",
       "  </tbody>\n",
       "</table>\n",
       "<p>365 rows × 2 columns</p>\n",
       "</div>"
      ],
      "text/plain": [
       "         date  pre_pro_mean\n",
       "0    20130101        0.0000\n",
       "1    20130102        0.0000\n",
       "2    20130103        0.0000\n",
       "3    20130104        0.0000\n",
       "4    20130105        0.0000\n",
       "..        ...           ...\n",
       "360  20131227        0.0000\n",
       "361  20131228        0.0000\n",
       "362  20131229        0.0000\n",
       "363  20131230        0.0000\n",
       "364  20131231        0.1875\n",
       "\n",
       "[365 rows x 2 columns]"
      ]
     },
     "execution_count": 22,
     "metadata": {},
     "output_type": "execute_result"
    }
   ],
   "source": [
    "kw2013_pre_pro_final = pd.DataFrame()\n",
    "kw2013_pre_pro_final = pd.concat([kw2013_pre_pro_final, kw2013_pre_pro_1_final], axis = 0, ignore_index=True)\n",
    "kw2013_pre_pro_final"
   ]
  },
  {
   "cell_type": "code",
   "execution_count": 23,
   "id": "1720ff98",
   "metadata": {},
   "outputs": [
    {
     "data": {
      "text/html": [
       "<div>\n",
       "<style scoped>\n",
       "    .dataframe tbody tr th:only-of-type {\n",
       "        vertical-align: middle;\n",
       "    }\n",
       "\n",
       "    .dataframe tbody tr th {\n",
       "        vertical-align: top;\n",
       "    }\n",
       "\n",
       "    .dataframe thead th {\n",
       "        text-align: right;\n",
       "    }\n",
       "</style>\n",
       "<table border=\"1\" class=\"dataframe\">\n",
       "  <thead>\n",
       "    <tr style=\"text-align: right;\">\n",
       "      <th></th>\n",
       "      <th>date</th>\n",
       "      <th>area</th>\n",
       "      <th>pre_pro_mean</th>\n",
       "    </tr>\n",
       "  </thead>\n",
       "  <tbody>\n",
       "    <tr>\n",
       "      <th>0</th>\n",
       "      <td>20130101</td>\n",
       "      <td>울산</td>\n",
       "      <td>0.0000</td>\n",
       "    </tr>\n",
       "    <tr>\n",
       "      <th>1</th>\n",
       "      <td>20130102</td>\n",
       "      <td>울산</td>\n",
       "      <td>0.0000</td>\n",
       "    </tr>\n",
       "    <tr>\n",
       "      <th>2</th>\n",
       "      <td>20130103</td>\n",
       "      <td>울산</td>\n",
       "      <td>0.0000</td>\n",
       "    </tr>\n",
       "    <tr>\n",
       "      <th>3</th>\n",
       "      <td>20130104</td>\n",
       "      <td>울산</td>\n",
       "      <td>0.0000</td>\n",
       "    </tr>\n",
       "    <tr>\n",
       "      <th>4</th>\n",
       "      <td>20130105</td>\n",
       "      <td>울산</td>\n",
       "      <td>0.0000</td>\n",
       "    </tr>\n",
       "    <tr>\n",
       "      <th>...</th>\n",
       "      <td>...</td>\n",
       "      <td>...</td>\n",
       "      <td>...</td>\n",
       "    </tr>\n",
       "    <tr>\n",
       "      <th>360</th>\n",
       "      <td>20131227</td>\n",
       "      <td>울산</td>\n",
       "      <td>0.0000</td>\n",
       "    </tr>\n",
       "    <tr>\n",
       "      <th>361</th>\n",
       "      <td>20131228</td>\n",
       "      <td>울산</td>\n",
       "      <td>0.0000</td>\n",
       "    </tr>\n",
       "    <tr>\n",
       "      <th>362</th>\n",
       "      <td>20131229</td>\n",
       "      <td>울산</td>\n",
       "      <td>0.0000</td>\n",
       "    </tr>\n",
       "    <tr>\n",
       "      <th>363</th>\n",
       "      <td>20131230</td>\n",
       "      <td>울산</td>\n",
       "      <td>0.0000</td>\n",
       "    </tr>\n",
       "    <tr>\n",
       "      <th>364</th>\n",
       "      <td>20131231</td>\n",
       "      <td>울산</td>\n",
       "      <td>0.1875</td>\n",
       "    </tr>\n",
       "  </tbody>\n",
       "</table>\n",
       "<p>365 rows × 3 columns</p>\n",
       "</div>"
      ],
      "text/plain": [
       "         date area  pre_pro_mean\n",
       "0    20130101   울산        0.0000\n",
       "1    20130102   울산        0.0000\n",
       "2    20130103   울산        0.0000\n",
       "3    20130104   울산        0.0000\n",
       "4    20130105   울산        0.0000\n",
       "..        ...  ...           ...\n",
       "360  20131227   울산        0.0000\n",
       "361  20131228   울산        0.0000\n",
       "362  20131229   울산        0.0000\n",
       "363  20131230   울산        0.0000\n",
       "364  20131231   울산        0.1875\n",
       "\n",
       "[365 rows x 3 columns]"
      ]
     },
     "execution_count": 23,
     "metadata": {},
     "output_type": "execute_result"
    }
   ],
   "source": [
    "pre_pro = pd.DataFrame(kw2013_pre_pro_final['pre_pro_mean'].groupby(kw2013_pre_pro_final['date']).mean())\n",
    "pre_pro.reset_index(level=['date'], inplace = True)\n",
    "pre_pro['area'] = '울산'\n",
    "pre_pro = pre_pro[['date', 'area', 'pre_pro_mean']]\n",
    "pre_pro"
   ]
  },
  {
   "cell_type": "code",
   "execution_count": 24,
   "id": "5290ef5f",
   "metadata": {},
   "outputs": [],
   "source": [
    "pre_pro.to_csv('us.csv', index=False)"
   ]
  },
  {
   "cell_type": "code",
   "execution_count": null,
   "id": "c17dcd6d",
   "metadata": {},
   "outputs": [],
   "source": []
  }
 ],
 "metadata": {
  "kernelspec": {
   "display_name": "Python 3 (ipykernel)",
   "language": "python",
   "name": "python3"
  },
  "language_info": {
   "codemirror_mode": {
    "name": "ipython",
    "version": 3
   },
   "file_extension": ".py",
   "mimetype": "text/x-python",
   "name": "python",
   "nbconvert_exporter": "python",
   "pygments_lexer": "ipython3",
   "version": "3.9.7"
  }
 },
 "nbformat": 4,
 "nbformat_minor": 5
}
