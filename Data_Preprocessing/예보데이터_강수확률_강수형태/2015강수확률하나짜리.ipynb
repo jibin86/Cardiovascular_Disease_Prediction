{
 "cells": [
  {
   "cell_type": "code",
   "execution_count": 1,
   "id": "fc3ebe3e",
   "metadata": {},
   "outputs": [
    {
     "name": "stdout",
     "output_type": "stream",
     "text": [
      "Directory changed\n"
     ]
    }
   ],
   "source": [
    "import os\n",
    "\n",
    "try:\n",
    "    file_list = os.chdir(\"/Users/cha/Desktop/공모전/날씨 빅데이터 콘테스트/data/예보데이터\")\n",
    "    print(\"Directory changed\")\n",
    "except OSError:\n",
    "    print(\"Can't change the Current Working Directory\")"
   ]
  },
  {
   "cell_type": "code",
   "execution_count": 2,
   "id": "0646ec51",
   "metadata": {},
   "outputs": [],
   "source": [
    "import glob"
   ]
  },
  {
   "cell_type": "code",
   "execution_count": 3,
   "id": "fd7b800d",
   "metadata": {},
   "outputs": [],
   "source": [
    "import pandas as pd\n",
    "import numpy as np"
   ]
  },
  {
   "cell_type": "code",
   "execution_count": 4,
   "id": "54d8b90f",
   "metadata": {},
   "outputs": [],
   "source": [
    "kw2013_pre_pro = glob.glob(os.path.join(\"2015/인천\", \"*_강수형태_201501_201512.csv\"))"
   ]
  },
  {
   "cell_type": "code",
   "execution_count": 5,
   "id": "680aefb6",
   "metadata": {},
   "outputs": [
    {
     "data": {
      "text/plain": [
       "['2015/인천/덕적면_강수형태_201501_201512.csv']"
      ]
     },
     "execution_count": 5,
     "metadata": {},
     "output_type": "execute_result"
    }
   ],
   "source": [
    "kw2013_pre_pro"
   ]
  },
  {
   "cell_type": "code",
   "execution_count": 6,
   "id": "a42acf0d",
   "metadata": {},
   "outputs": [
    {
     "name": "stdout",
     "output_type": "stream",
     "text": [
      "1\n"
     ]
    }
   ],
   "source": [
    "print(len(kw2013_pre_pro))"
   ]
  },
  {
   "cell_type": "code",
   "execution_count": 7,
   "id": "a79ec7c7",
   "metadata": {},
   "outputs": [],
   "source": [
    "j=1\n",
    "for i in kw2013_pre_pro:\n",
    "    globals()['kw2013_pre_pro_{}'.format(j)] = pd.read_csv(i)\n",
    "    j += 1"
   ]
  },
  {
   "cell_type": "code",
   "execution_count": 8,
   "id": "e10ae801",
   "metadata": {},
   "outputs": [
    {
     "data": {
      "text/html": [
       "<div>\n",
       "<style scoped>\n",
       "    .dataframe tbody tr th:only-of-type {\n",
       "        vertical-align: middle;\n",
       "    }\n",
       "\n",
       "    .dataframe tbody tr th {\n",
       "        vertical-align: top;\n",
       "    }\n",
       "\n",
       "    .dataframe thead th {\n",
       "        text-align: right;\n",
       "    }\n",
       "</style>\n",
       "<table border=\"1\" class=\"dataframe\">\n",
       "  <thead>\n",
       "    <tr style=\"text-align: right;\">\n",
       "      <th></th>\n",
       "      <th>format: day</th>\n",
       "      <th>hour</th>\n",
       "      <th>forecast</th>\n",
       "      <th>value  location:46_119 Start : 20150101</th>\n",
       "    </tr>\n",
       "  </thead>\n",
       "  <tbody>\n",
       "    <tr>\n",
       "      <th>0</th>\n",
       "      <td>1</td>\n",
       "      <td>200.0</td>\n",
       "      <td>4.0</td>\n",
       "      <td>0.0</td>\n",
       "    </tr>\n",
       "    <tr>\n",
       "      <th>1</th>\n",
       "      <td>1</td>\n",
       "      <td>200.0</td>\n",
       "      <td>7.0</td>\n",
       "      <td>0.0</td>\n",
       "    </tr>\n",
       "    <tr>\n",
       "      <th>2</th>\n",
       "      <td>1</td>\n",
       "      <td>200.0</td>\n",
       "      <td>10.0</td>\n",
       "      <td>0.0</td>\n",
       "    </tr>\n",
       "    <tr>\n",
       "      <th>3</th>\n",
       "      <td>1</td>\n",
       "      <td>200.0</td>\n",
       "      <td>13.0</td>\n",
       "      <td>0.0</td>\n",
       "    </tr>\n",
       "    <tr>\n",
       "      <th>4</th>\n",
       "      <td>1</td>\n",
       "      <td>200.0</td>\n",
       "      <td>16.0</td>\n",
       "      <td>0.0</td>\n",
       "    </tr>\n",
       "    <tr>\n",
       "      <th>...</th>\n",
       "      <td>...</td>\n",
       "      <td>...</td>\n",
       "      <td>...</td>\n",
       "      <td>...</td>\n",
       "    </tr>\n",
       "    <tr>\n",
       "      <th>52525</th>\n",
       "      <td>31</td>\n",
       "      <td>2300.0</td>\n",
       "      <td>52.0</td>\n",
       "      <td>0.0</td>\n",
       "    </tr>\n",
       "    <tr>\n",
       "      <th>52526</th>\n",
       "      <td>31</td>\n",
       "      <td>2300.0</td>\n",
       "      <td>55.0</td>\n",
       "      <td>0.0</td>\n",
       "    </tr>\n",
       "    <tr>\n",
       "      <th>52527</th>\n",
       "      <td>31</td>\n",
       "      <td>2300.0</td>\n",
       "      <td>58.0</td>\n",
       "      <td>0.0</td>\n",
       "    </tr>\n",
       "    <tr>\n",
       "      <th>52528</th>\n",
       "      <td>31</td>\n",
       "      <td>2300.0</td>\n",
       "      <td>61.0</td>\n",
       "      <td>0.0</td>\n",
       "    </tr>\n",
       "    <tr>\n",
       "      <th>52529</th>\n",
       "      <td>31</td>\n",
       "      <td>2300.0</td>\n",
       "      <td>64.0</td>\n",
       "      <td>0.0</td>\n",
       "    </tr>\n",
       "  </tbody>\n",
       "</table>\n",
       "<p>52530 rows × 4 columns</p>\n",
       "</div>"
      ],
      "text/plain": [
       "       format: day    hour  forecast  value  location:46_119 Start : 20150101 \n",
       "0                1   200.0       4.0                                       0.0\n",
       "1                1   200.0       7.0                                       0.0\n",
       "2                1   200.0      10.0                                       0.0\n",
       "3                1   200.0      13.0                                       0.0\n",
       "4                1   200.0      16.0                                       0.0\n",
       "...            ...     ...       ...                                       ...\n",
       "52525           31  2300.0      52.0                                       0.0\n",
       "52526           31  2300.0      55.0                                       0.0\n",
       "52527           31  2300.0      58.0                                       0.0\n",
       "52528           31  2300.0      61.0                                       0.0\n",
       "52529           31  2300.0      64.0                                       0.0\n",
       "\n",
       "[52530 rows x 4 columns]"
      ]
     },
     "execution_count": 8,
     "metadata": {},
     "output_type": "execute_result"
    }
   ],
   "source": [
    "kw2013_pre_pro_1"
   ]
  },
  {
   "cell_type": "code",
   "execution_count": 9,
   "id": "f2dc700d",
   "metadata": {},
   "outputs": [
    {
     "name": "stdout",
     "output_type": "stream",
     "text": [
      "<class 'pandas.core.frame.DataFrame'>\n",
      "RangeIndex: 52530 entries, 0 to 52529\n",
      "Data columns (total 4 columns):\n",
      " #   Column                                    Non-Null Count  Dtype  \n",
      "---  ------                                    --------------  -----  \n",
      " 0    format: day                              52530 non-null  object \n",
      " 1   hour                                      52519 non-null  float64\n",
      " 2   forecast                                  52519 non-null  float64\n",
      " 3   value  location:46_119 Start : 20150101   52519 non-null  float64\n",
      "dtypes: float64(3), object(1)\n",
      "memory usage: 1.6+ MB\n"
     ]
    }
   ],
   "source": [
    "kw2013_pre_pro_1.info()"
   ]
  },
  {
   "cell_type": "code",
   "execution_count": 10,
   "id": "2e8fdd7b",
   "metadata": {},
   "outputs": [],
   "source": [
    "kw2013_pre_pro_1.rename(columns={kw2013_pre_pro_1.columns[0]: 'date', kw2013_pre_pro_1.columns[3]: 'pre_pro_mean'}, inplace=True)"
   ]
  },
  {
   "cell_type": "code",
   "execution_count": 11,
   "id": "8afe0894",
   "metadata": {},
   "outputs": [],
   "source": [
    "kw2013_pre_pro_1[\"date\"] = kw2013_pre_pro_1[\"date\"].str.replace(\" \", \"\")"
   ]
  },
  {
   "cell_type": "code",
   "execution_count": 12,
   "id": "28fa5feb",
   "metadata": {
    "scrolled": true
   },
   "outputs": [
    {
     "name": "stderr",
     "output_type": "stream",
     "text": [
      "/var/folders/1b/6fw3j9nd4_qgymn82k3hygww0000gn/T/ipykernel_22314/1458046885.py:3: SettingWithCopyWarning: \n",
      "A value is trying to be set on a copy of a slice from a DataFrame\n",
      "\n",
      "See the caveats in the documentation: https://pandas.pydata.org/pandas-docs/stable/user_guide/indexing.html#returning-a-view-versus-a-copy\n",
      "  kw2013_pre_pro_1[\"date\"][i] = \"0\" + kw2013_pre_pro_1[\"date\"][i]\n"
     ]
    }
   ],
   "source": [
    "for i in range(len(kw2013_pre_pro_1[\"date\"])):\n",
    "    if len(kw2013_pre_pro_1[\"date\"][i]) == 1:\n",
    "        kw2013_pre_pro_1[\"date\"][i] = \"0\" + kw2013_pre_pro_1[\"date\"][i]"
   ]
  },
  {
   "cell_type": "code",
   "execution_count": 13,
   "id": "81737cc8",
   "metadata": {},
   "outputs": [
    {
     "name": "stdout",
     "output_type": "stream",
     "text": [
      "                 date  hour  forecast  pre_pro_mean\n",
      "4588   Start:20150201   NaN       NaN           NaN\n",
      "8733   Start:20150301   NaN       NaN           NaN\n",
      "13322  Start:20150401   NaN       NaN           NaN\n",
      "17763  Start:20150501   NaN       NaN           NaN\n",
      "20851  Start:20150601   NaN       NaN           NaN\n",
      "25292  Start:20150701   NaN       NaN           NaN\n",
      "29881  Start:20150801   NaN       NaN           NaN\n",
      "34470  Start:20150901   NaN       NaN           NaN\n",
      "38911  Start:20151001   NaN       NaN           NaN\n",
      "43500  Start:20151101   NaN       NaN           NaN\n",
      "47941  Start:20151201   NaN       NaN           NaN\n"
     ]
    }
   ],
   "source": [
    "print(kw2013_pre_pro_1.loc[(kw2013_pre_pro_1['date'] == 'Start:20150201') |\n",
    "                           (kw2013_pre_pro_1['date'] == 'Start:20150301') |\n",
    "                           (kw2013_pre_pro_1['date'] == 'Start:20150401') |\n",
    "                           (kw2013_pre_pro_1['date'] == 'Start:20150501') |\n",
    "                           (kw2013_pre_pro_1['date'] == 'Start:20150601') |\n",
    "                           (kw2013_pre_pro_1['date'] == 'Start:20150701') |\n",
    "                           (kw2013_pre_pro_1['date'] == 'Start:20150801') |\n",
    "                           (kw2013_pre_pro_1['date'] == 'Start:20150901') |\n",
    "                           (kw2013_pre_pro_1['date'] == 'Start:20151001') |\n",
    "                           (kw2013_pre_pro_1['date'] == 'Start:20151101') |\n",
    "                           (kw2013_pre_pro_1['date'] == 'Start:20151201')])"
   ]
  },
  {
   "cell_type": "code",
   "execution_count": 14,
   "id": "5339eb30",
   "metadata": {
    "scrolled": true
   },
   "outputs": [
    {
     "name": "stderr",
     "output_type": "stream",
     "text": [
      "/var/folders/1b/6fw3j9nd4_qgymn82k3hygww0000gn/T/ipykernel_22314/1483893122.py:1: SettingWithCopyWarning: \n",
      "A value is trying to be set on a copy of a slice from a DataFrame.\n",
      "Try using .loc[row_indexer,col_indexer] = value instead\n",
      "\n",
      "See the caveats in the documentation: https://pandas.pydata.org/pandas-docs/stable/user_guide/indexing.html#returning-a-view-versus-a-copy\n",
      "  kw2013_pre_pro_1.loc[:4587][\"date\"] = \"201501\" + kw2013_pre_pro_1.loc[:4587][\"date\"]\n",
      "/var/folders/1b/6fw3j9nd4_qgymn82k3hygww0000gn/T/ipykernel_22314/1483893122.py:2: SettingWithCopyWarning: \n",
      "A value is trying to be set on a copy of a slice from a DataFrame.\n",
      "Try using .loc[row_indexer,col_indexer] = value instead\n",
      "\n",
      "See the caveats in the documentation: https://pandas.pydata.org/pandas-docs/stable/user_guide/indexing.html#returning-a-view-versus-a-copy\n",
      "  kw2013_pre_pro_1.loc[4589:8732][\"date\"] = \"201502\" + kw2013_pre_pro_1.loc[4589:8732][\"date\"]\n",
      "/var/folders/1b/6fw3j9nd4_qgymn82k3hygww0000gn/T/ipykernel_22314/1483893122.py:3: SettingWithCopyWarning: \n",
      "A value is trying to be set on a copy of a slice from a DataFrame.\n",
      "Try using .loc[row_indexer,col_indexer] = value instead\n",
      "\n",
      "See the caveats in the documentation: https://pandas.pydata.org/pandas-docs/stable/user_guide/indexing.html#returning-a-view-versus-a-copy\n",
      "  kw2013_pre_pro_1.loc[8734:13321][\"date\"] = \"201503\" + kw2013_pre_pro_1.loc[8734:13321][\"date\"]\n",
      "/var/folders/1b/6fw3j9nd4_qgymn82k3hygww0000gn/T/ipykernel_22314/1483893122.py:4: SettingWithCopyWarning: \n",
      "A value is trying to be set on a copy of a slice from a DataFrame.\n",
      "Try using .loc[row_indexer,col_indexer] = value instead\n",
      "\n",
      "See the caveats in the documentation: https://pandas.pydata.org/pandas-docs/stable/user_guide/indexing.html#returning-a-view-versus-a-copy\n",
      "  kw2013_pre_pro_1.loc[13323:17762][\"date\"] = \"201504\" + kw2013_pre_pro_1.loc[13323:17762][\"date\"]\n",
      "/var/folders/1b/6fw3j9nd4_qgymn82k3hygww0000gn/T/ipykernel_22314/1483893122.py:5: SettingWithCopyWarning: \n",
      "A value is trying to be set on a copy of a slice from a DataFrame.\n",
      "Try using .loc[row_indexer,col_indexer] = value instead\n",
      "\n",
      "See the caveats in the documentation: https://pandas.pydata.org/pandas-docs/stable/user_guide/indexing.html#returning-a-view-versus-a-copy\n",
      "  kw2013_pre_pro_1.loc[17764:20850][\"date\"] = \"201505\" + kw2013_pre_pro_1.loc[17764:20850][\"date\"]\n",
      "/var/folders/1b/6fw3j9nd4_qgymn82k3hygww0000gn/T/ipykernel_22314/1483893122.py:6: SettingWithCopyWarning: \n",
      "A value is trying to be set on a copy of a slice from a DataFrame.\n",
      "Try using .loc[row_indexer,col_indexer] = value instead\n",
      "\n",
      "See the caveats in the documentation: https://pandas.pydata.org/pandas-docs/stable/user_guide/indexing.html#returning-a-view-versus-a-copy\n",
      "  kw2013_pre_pro_1.loc[20852:25291][\"date\"] = \"201506\" + kw2013_pre_pro_1.loc[20852:25291][\"date\"]\n",
      "/var/folders/1b/6fw3j9nd4_qgymn82k3hygww0000gn/T/ipykernel_22314/1483893122.py:7: SettingWithCopyWarning: \n",
      "A value is trying to be set on a copy of a slice from a DataFrame.\n",
      "Try using .loc[row_indexer,col_indexer] = value instead\n",
      "\n",
      "See the caveats in the documentation: https://pandas.pydata.org/pandas-docs/stable/user_guide/indexing.html#returning-a-view-versus-a-copy\n",
      "  kw2013_pre_pro_1.loc[25293:29880][\"date\"] = \"201507\" + kw2013_pre_pro_1.loc[25293:29880][\"date\"]\n",
      "/var/folders/1b/6fw3j9nd4_qgymn82k3hygww0000gn/T/ipykernel_22314/1483893122.py:8: SettingWithCopyWarning: \n",
      "A value is trying to be set on a copy of a slice from a DataFrame.\n",
      "Try using .loc[row_indexer,col_indexer] = value instead\n",
      "\n",
      "See the caveats in the documentation: https://pandas.pydata.org/pandas-docs/stable/user_guide/indexing.html#returning-a-view-versus-a-copy\n",
      "  kw2013_pre_pro_1.loc[29882:34469][\"date\"] = \"201508\" + kw2013_pre_pro_1.loc[29882:34469][\"date\"]\n",
      "/var/folders/1b/6fw3j9nd4_qgymn82k3hygww0000gn/T/ipykernel_22314/1483893122.py:9: SettingWithCopyWarning: \n",
      "A value is trying to be set on a copy of a slice from a DataFrame.\n",
      "Try using .loc[row_indexer,col_indexer] = value instead\n",
      "\n",
      "See the caveats in the documentation: https://pandas.pydata.org/pandas-docs/stable/user_guide/indexing.html#returning-a-view-versus-a-copy\n",
      "  kw2013_pre_pro_1.loc[34471:38910][\"date\"] = \"201509\" + kw2013_pre_pro_1.loc[34471:38910][\"date\"]\n",
      "/var/folders/1b/6fw3j9nd4_qgymn82k3hygww0000gn/T/ipykernel_22314/1483893122.py:10: SettingWithCopyWarning: \n",
      "A value is trying to be set on a copy of a slice from a DataFrame.\n",
      "Try using .loc[row_indexer,col_indexer] = value instead\n",
      "\n",
      "See the caveats in the documentation: https://pandas.pydata.org/pandas-docs/stable/user_guide/indexing.html#returning-a-view-versus-a-copy\n",
      "  kw2013_pre_pro_1.loc[38912:43499][\"date\"] = \"201510\" + kw2013_pre_pro_1.loc[38912:43499][\"date\"]\n",
      "/var/folders/1b/6fw3j9nd4_qgymn82k3hygww0000gn/T/ipykernel_22314/1483893122.py:11: SettingWithCopyWarning: \n",
      "A value is trying to be set on a copy of a slice from a DataFrame.\n",
      "Try using .loc[row_indexer,col_indexer] = value instead\n",
      "\n",
      "See the caveats in the documentation: https://pandas.pydata.org/pandas-docs/stable/user_guide/indexing.html#returning-a-view-versus-a-copy\n",
      "  kw2013_pre_pro_1.loc[43501:47940][\"date\"] = \"201511\" + kw2013_pre_pro_1.loc[43501:47940][\"date\"]\n",
      "/var/folders/1b/6fw3j9nd4_qgymn82k3hygww0000gn/T/ipykernel_22314/1483893122.py:12: SettingWithCopyWarning: \n",
      "A value is trying to be set on a copy of a slice from a DataFrame.\n",
      "Try using .loc[row_indexer,col_indexer] = value instead\n",
      "\n",
      "See the caveats in the documentation: https://pandas.pydata.org/pandas-docs/stable/user_guide/indexing.html#returning-a-view-versus-a-copy\n",
      "  kw2013_pre_pro_1.loc[47942:][\"date\"] = \"201512\" + kw2013_pre_pro_1.loc[47942:][\"date\"]\n"
     ]
    }
   ],
   "source": [
    "kw2013_pre_pro_1.loc[:4587][\"date\"] = \"201501\" + kw2013_pre_pro_1.loc[:4587][\"date\"]\n",
    "kw2013_pre_pro_1.loc[4589:8732][\"date\"] = \"201502\" + kw2013_pre_pro_1.loc[4589:8732][\"date\"]\n",
    "kw2013_pre_pro_1.loc[8734:13321][\"date\"] = \"201503\" + kw2013_pre_pro_1.loc[8734:13321][\"date\"]\n",
    "kw2013_pre_pro_1.loc[13323:17762][\"date\"] = \"201504\" + kw2013_pre_pro_1.loc[13323:17762][\"date\"]\n",
    "kw2013_pre_pro_1.loc[17764:20850][\"date\"] = \"201505\" + kw2013_pre_pro_1.loc[17764:20850][\"date\"]\n",
    "kw2013_pre_pro_1.loc[20852:25291][\"date\"] = \"201506\" + kw2013_pre_pro_1.loc[20852:25291][\"date\"]\n",
    "kw2013_pre_pro_1.loc[25293:29880][\"date\"] = \"201507\" + kw2013_pre_pro_1.loc[25293:29880][\"date\"]\n",
    "kw2013_pre_pro_1.loc[29882:34469][\"date\"] = \"201508\" + kw2013_pre_pro_1.loc[29882:34469][\"date\"]\n",
    "kw2013_pre_pro_1.loc[34471:38910][\"date\"] = \"201509\" + kw2013_pre_pro_1.loc[34471:38910][\"date\"]\n",
    "kw2013_pre_pro_1.loc[38912:43499][\"date\"] = \"201510\" + kw2013_pre_pro_1.loc[38912:43499][\"date\"]\n",
    "kw2013_pre_pro_1.loc[43501:47940][\"date\"] = \"201511\" + kw2013_pre_pro_1.loc[43501:47940][\"date\"]\n",
    "kw2013_pre_pro_1.loc[47942:][\"date\"] = \"201512\" + kw2013_pre_pro_1.loc[47942:][\"date\"]"
   ]
  },
  {
   "cell_type": "code",
   "execution_count": 15,
   "id": "b5ee97ce",
   "metadata": {},
   "outputs": [],
   "source": [
    "kw2013_pre_pro_1 = kw2013_pre_pro_1.drop([4588, 8733, 13322, 17763, 20851, 25292, 29881, 34470, 38911, 43500, 47941], axis = 0)"
   ]
  },
  {
   "cell_type": "code",
   "execution_count": 16,
   "id": "5b9d0dc6",
   "metadata": {},
   "outputs": [
    {
     "data": {
      "text/plain": [
       "20150101    148\n",
       "20151004    148\n",
       "20150910    148\n",
       "20150909    148\n",
       "20150908    148\n",
       "           ... \n",
       "20150427    148\n",
       "20150426    148\n",
       "20150425    148\n",
       "20151231    148\n",
       "20150521    127\n",
       "Name: date, Length: 355, dtype: int64"
      ]
     },
     "execution_count": 16,
     "metadata": {},
     "output_type": "execute_result"
    }
   ],
   "source": [
    "kw2013_pre_pro_1[\"date\"].value_counts()"
   ]
  },
  {
   "cell_type": "code",
   "execution_count": 17,
   "id": "23e5236c",
   "metadata": {},
   "outputs": [
    {
     "data": {
      "text/html": [
       "<div>\n",
       "<style scoped>\n",
       "    .dataframe tbody tr th:only-of-type {\n",
       "        vertical-align: middle;\n",
       "    }\n",
       "\n",
       "    .dataframe tbody tr th {\n",
       "        vertical-align: top;\n",
       "    }\n",
       "\n",
       "    .dataframe thead th {\n",
       "        text-align: right;\n",
       "    }\n",
       "</style>\n",
       "<table border=\"1\" class=\"dataframe\">\n",
       "  <thead>\n",
       "    <tr style=\"text-align: right;\">\n",
       "      <th></th>\n",
       "      <th>date</th>\n",
       "      <th>hour</th>\n",
       "      <th>forecast</th>\n",
       "      <th>pre_pro_mean</th>\n",
       "    </tr>\n",
       "  </thead>\n",
       "  <tbody>\n",
       "    <tr>\n",
       "      <th>0</th>\n",
       "      <td>20150101</td>\n",
       "      <td>200.0</td>\n",
       "      <td>4.0</td>\n",
       "      <td>0.0</td>\n",
       "    </tr>\n",
       "    <tr>\n",
       "      <th>20</th>\n",
       "      <td>20150101</td>\n",
       "      <td>500.0</td>\n",
       "      <td>4.0</td>\n",
       "      <td>0.0</td>\n",
       "    </tr>\n",
       "    <tr>\n",
       "      <th>39</th>\n",
       "      <td>20150101</td>\n",
       "      <td>800.0</td>\n",
       "      <td>4.0</td>\n",
       "      <td>0.0</td>\n",
       "    </tr>\n",
       "    <tr>\n",
       "      <th>57</th>\n",
       "      <td>20150101</td>\n",
       "      <td>1100.0</td>\n",
       "      <td>4.0</td>\n",
       "      <td>0.0</td>\n",
       "    </tr>\n",
       "    <tr>\n",
       "      <th>74</th>\n",
       "      <td>20150101</td>\n",
       "      <td>1400.0</td>\n",
       "      <td>4.0</td>\n",
       "      <td>0.0</td>\n",
       "    </tr>\n",
       "  </tbody>\n",
       "</table>\n",
       "</div>"
      ],
      "text/plain": [
       "        date    hour  forecast  pre_pro_mean\n",
       "0   20150101   200.0       4.0           0.0\n",
       "20  20150101   500.0       4.0           0.0\n",
       "39  20150101   800.0       4.0           0.0\n",
       "57  20150101  1100.0       4.0           0.0\n",
       "74  20150101  1400.0       4.0           0.0"
      ]
     },
     "execution_count": 17,
     "metadata": {},
     "output_type": "execute_result"
    }
   ],
   "source": [
    "kw2013_pre_pro_1_fore4 = kw2013_pre_pro_1[kw2013_pre_pro_1['forecast']== 4.0]\n",
    "kw2013_pre_pro_1_fore4.head()"
   ]
  },
  {
   "cell_type": "code",
   "execution_count": 18,
   "id": "bb8bc1b5",
   "metadata": {},
   "outputs": [
    {
     "name": "stderr",
     "output_type": "stream",
     "text": [
      "/var/folders/1b/6fw3j9nd4_qgymn82k3hygww0000gn/T/ipykernel_22314/1176009402.py:1: SettingWithCopyWarning: \n",
      "A value is trying to be set on a copy of a slice from a DataFrame.\n",
      "Try using .loc[row_indexer,col_indexer] = value instead\n",
      "\n",
      "See the caveats in the documentation: https://pandas.pydata.org/pandas-docs/stable/user_guide/indexing.html#returning-a-view-versus-a-copy\n",
      "  kw2013_pre_pro_1_fore4['pre_pro_mean'] = kw2013_pre_pro_1_fore4['pre_pro_mean'].astype('float')\n"
     ]
    }
   ],
   "source": [
    "kw2013_pre_pro_1_fore4['pre_pro_mean'] = kw2013_pre_pro_1_fore4['pre_pro_mean'].astype('float')"
   ]
  },
  {
   "cell_type": "code",
   "execution_count": 19,
   "id": "d60bbb80",
   "metadata": {},
   "outputs": [],
   "source": [
    "kw2013_pre_pro_1_final = pd.DataFrame(kw2013_pre_pro_1_fore4['pre_pro_mean'].groupby(kw2013_pre_pro_1_fore4['date']).mean())"
   ]
  },
  {
   "cell_type": "code",
   "execution_count": 20,
   "id": "fd0ec123",
   "metadata": {},
   "outputs": [
    {
     "data": {
      "text/html": [
       "<div>\n",
       "<style scoped>\n",
       "    .dataframe tbody tr th:only-of-type {\n",
       "        vertical-align: middle;\n",
       "    }\n",
       "\n",
       "    .dataframe tbody tr th {\n",
       "        vertical-align: top;\n",
       "    }\n",
       "\n",
       "    .dataframe thead th {\n",
       "        text-align: right;\n",
       "    }\n",
       "</style>\n",
       "<table border=\"1\" class=\"dataframe\">\n",
       "  <thead>\n",
       "    <tr style=\"text-align: right;\">\n",
       "      <th></th>\n",
       "      <th>date</th>\n",
       "      <th>pre_pro_mean</th>\n",
       "    </tr>\n",
       "  </thead>\n",
       "  <tbody>\n",
       "    <tr>\n",
       "      <th>0</th>\n",
       "      <td>20150101</td>\n",
       "      <td>0.750</td>\n",
       "    </tr>\n",
       "    <tr>\n",
       "      <th>1</th>\n",
       "      <td>20150102</td>\n",
       "      <td>0.000</td>\n",
       "    </tr>\n",
       "    <tr>\n",
       "      <th>2</th>\n",
       "      <td>20150103</td>\n",
       "      <td>0.000</td>\n",
       "    </tr>\n",
       "    <tr>\n",
       "      <th>3</th>\n",
       "      <td>20150104</td>\n",
       "      <td>0.000</td>\n",
       "    </tr>\n",
       "    <tr>\n",
       "      <th>4</th>\n",
       "      <td>20150105</td>\n",
       "      <td>0.375</td>\n",
       "    </tr>\n",
       "    <tr>\n",
       "      <th>...</th>\n",
       "      <td>...</td>\n",
       "      <td>...</td>\n",
       "    </tr>\n",
       "    <tr>\n",
       "      <th>350</th>\n",
       "      <td>20151227</td>\n",
       "      <td>0.000</td>\n",
       "    </tr>\n",
       "    <tr>\n",
       "      <th>351</th>\n",
       "      <td>20151228</td>\n",
       "      <td>0.000</td>\n",
       "    </tr>\n",
       "    <tr>\n",
       "      <th>352</th>\n",
       "      <td>20151229</td>\n",
       "      <td>0.000</td>\n",
       "    </tr>\n",
       "    <tr>\n",
       "      <th>353</th>\n",
       "      <td>20151230</td>\n",
       "      <td>0.750</td>\n",
       "    </tr>\n",
       "    <tr>\n",
       "      <th>354</th>\n",
       "      <td>20151231</td>\n",
       "      <td>0.000</td>\n",
       "    </tr>\n",
       "  </tbody>\n",
       "</table>\n",
       "<p>355 rows × 2 columns</p>\n",
       "</div>"
      ],
      "text/plain": [
       "         date  pre_pro_mean\n",
       "0    20150101         0.750\n",
       "1    20150102         0.000\n",
       "2    20150103         0.000\n",
       "3    20150104         0.000\n",
       "4    20150105         0.375\n",
       "..        ...           ...\n",
       "350  20151227         0.000\n",
       "351  20151228         0.000\n",
       "352  20151229         0.000\n",
       "353  20151230         0.750\n",
       "354  20151231         0.000\n",
       "\n",
       "[355 rows x 2 columns]"
      ]
     },
     "execution_count": 20,
     "metadata": {},
     "output_type": "execute_result"
    }
   ],
   "source": [
    "kw2013_pre_pro_1_final.reset_index(level=['date'], inplace = True)\n",
    "kw2013_pre_pro_1_final"
   ]
  },
  {
   "cell_type": "code",
   "execution_count": 21,
   "id": "28ce7120",
   "metadata": {},
   "outputs": [
    {
     "data": {
      "text/html": [
       "<div>\n",
       "<style scoped>\n",
       "    .dataframe tbody tr th:only-of-type {\n",
       "        vertical-align: middle;\n",
       "    }\n",
       "\n",
       "    .dataframe tbody tr th {\n",
       "        vertical-align: top;\n",
       "    }\n",
       "\n",
       "    .dataframe thead th {\n",
       "        text-align: right;\n",
       "    }\n",
       "</style>\n",
       "<table border=\"1\" class=\"dataframe\">\n",
       "  <thead>\n",
       "    <tr style=\"text-align: right;\">\n",
       "      <th></th>\n",
       "      <th>date</th>\n",
       "      <th>pre_pro_mean</th>\n",
       "    </tr>\n",
       "  </thead>\n",
       "  <tbody>\n",
       "    <tr>\n",
       "      <th>0</th>\n",
       "      <td>20150101</td>\n",
       "      <td>0.750</td>\n",
       "    </tr>\n",
       "    <tr>\n",
       "      <th>1</th>\n",
       "      <td>20150102</td>\n",
       "      <td>0.000</td>\n",
       "    </tr>\n",
       "    <tr>\n",
       "      <th>2</th>\n",
       "      <td>20150103</td>\n",
       "      <td>0.000</td>\n",
       "    </tr>\n",
       "    <tr>\n",
       "      <th>3</th>\n",
       "      <td>20150104</td>\n",
       "      <td>0.000</td>\n",
       "    </tr>\n",
       "    <tr>\n",
       "      <th>4</th>\n",
       "      <td>20150105</td>\n",
       "      <td>0.375</td>\n",
       "    </tr>\n",
       "    <tr>\n",
       "      <th>...</th>\n",
       "      <td>...</td>\n",
       "      <td>...</td>\n",
       "    </tr>\n",
       "    <tr>\n",
       "      <th>350</th>\n",
       "      <td>20151227</td>\n",
       "      <td>0.000</td>\n",
       "    </tr>\n",
       "    <tr>\n",
       "      <th>351</th>\n",
       "      <td>20151228</td>\n",
       "      <td>0.000</td>\n",
       "    </tr>\n",
       "    <tr>\n",
       "      <th>352</th>\n",
       "      <td>20151229</td>\n",
       "      <td>0.000</td>\n",
       "    </tr>\n",
       "    <tr>\n",
       "      <th>353</th>\n",
       "      <td>20151230</td>\n",
       "      <td>0.750</td>\n",
       "    </tr>\n",
       "    <tr>\n",
       "      <th>354</th>\n",
       "      <td>20151231</td>\n",
       "      <td>0.000</td>\n",
       "    </tr>\n",
       "  </tbody>\n",
       "</table>\n",
       "<p>355 rows × 2 columns</p>\n",
       "</div>"
      ],
      "text/plain": [
       "         date  pre_pro_mean\n",
       "0    20150101         0.750\n",
       "1    20150102         0.000\n",
       "2    20150103         0.000\n",
       "3    20150104         0.000\n",
       "4    20150105         0.375\n",
       "..        ...           ...\n",
       "350  20151227         0.000\n",
       "351  20151228         0.000\n",
       "352  20151229         0.000\n",
       "353  20151230         0.750\n",
       "354  20151231         0.000\n",
       "\n",
       "[355 rows x 2 columns]"
      ]
     },
     "execution_count": 21,
     "metadata": {},
     "output_type": "execute_result"
    }
   ],
   "source": [
    "kw2013_pre_pro_final = pd.DataFrame()\n",
    "kw2013_pre_pro_final = pd.concat([kw2013_pre_pro_final, kw2013_pre_pro_1_final], axis = 0, ignore_index=True)\n",
    "kw2013_pre_pro_final"
   ]
  },
  {
   "cell_type": "code",
   "execution_count": 22,
   "id": "1720ff98",
   "metadata": {},
   "outputs": [
    {
     "data": {
      "text/html": [
       "<div>\n",
       "<style scoped>\n",
       "    .dataframe tbody tr th:only-of-type {\n",
       "        vertical-align: middle;\n",
       "    }\n",
       "\n",
       "    .dataframe tbody tr th {\n",
       "        vertical-align: top;\n",
       "    }\n",
       "\n",
       "    .dataframe thead th {\n",
       "        text-align: right;\n",
       "    }\n",
       "</style>\n",
       "<table border=\"1\" class=\"dataframe\">\n",
       "  <thead>\n",
       "    <tr style=\"text-align: right;\">\n",
       "      <th></th>\n",
       "      <th>date</th>\n",
       "      <th>area</th>\n",
       "      <th>pre_pro_mean</th>\n",
       "    </tr>\n",
       "  </thead>\n",
       "  <tbody>\n",
       "    <tr>\n",
       "      <th>0</th>\n",
       "      <td>20150101</td>\n",
       "      <td>인천</td>\n",
       "      <td>0.750</td>\n",
       "    </tr>\n",
       "    <tr>\n",
       "      <th>1</th>\n",
       "      <td>20150102</td>\n",
       "      <td>인천</td>\n",
       "      <td>0.000</td>\n",
       "    </tr>\n",
       "    <tr>\n",
       "      <th>2</th>\n",
       "      <td>20150103</td>\n",
       "      <td>인천</td>\n",
       "      <td>0.000</td>\n",
       "    </tr>\n",
       "    <tr>\n",
       "      <th>3</th>\n",
       "      <td>20150104</td>\n",
       "      <td>인천</td>\n",
       "      <td>0.000</td>\n",
       "    </tr>\n",
       "    <tr>\n",
       "      <th>4</th>\n",
       "      <td>20150105</td>\n",
       "      <td>인천</td>\n",
       "      <td>0.375</td>\n",
       "    </tr>\n",
       "    <tr>\n",
       "      <th>...</th>\n",
       "      <td>...</td>\n",
       "      <td>...</td>\n",
       "      <td>...</td>\n",
       "    </tr>\n",
       "    <tr>\n",
       "      <th>350</th>\n",
       "      <td>20151227</td>\n",
       "      <td>인천</td>\n",
       "      <td>0.000</td>\n",
       "    </tr>\n",
       "    <tr>\n",
       "      <th>351</th>\n",
       "      <td>20151228</td>\n",
       "      <td>인천</td>\n",
       "      <td>0.000</td>\n",
       "    </tr>\n",
       "    <tr>\n",
       "      <th>352</th>\n",
       "      <td>20151229</td>\n",
       "      <td>인천</td>\n",
       "      <td>0.000</td>\n",
       "    </tr>\n",
       "    <tr>\n",
       "      <th>353</th>\n",
       "      <td>20151230</td>\n",
       "      <td>인천</td>\n",
       "      <td>0.750</td>\n",
       "    </tr>\n",
       "    <tr>\n",
       "      <th>354</th>\n",
       "      <td>20151231</td>\n",
       "      <td>인천</td>\n",
       "      <td>0.000</td>\n",
       "    </tr>\n",
       "  </tbody>\n",
       "</table>\n",
       "<p>355 rows × 3 columns</p>\n",
       "</div>"
      ],
      "text/plain": [
       "         date area  pre_pro_mean\n",
       "0    20150101   인천         0.750\n",
       "1    20150102   인천         0.000\n",
       "2    20150103   인천         0.000\n",
       "3    20150104   인천         0.000\n",
       "4    20150105   인천         0.375\n",
       "..        ...  ...           ...\n",
       "350  20151227   인천         0.000\n",
       "351  20151228   인천         0.000\n",
       "352  20151229   인천         0.000\n",
       "353  20151230   인천         0.750\n",
       "354  20151231   인천         0.000\n",
       "\n",
       "[355 rows x 3 columns]"
      ]
     },
     "execution_count": 22,
     "metadata": {},
     "output_type": "execute_result"
    }
   ],
   "source": [
    "pre_pro = pd.DataFrame(kw2013_pre_pro_final['pre_pro_mean'].groupby(kw2013_pre_pro_final['date']).mean())\n",
    "pre_pro.reset_index(level=['date'], inplace = True)\n",
    "pre_pro['area'] = '인천'\n",
    "pre_pro = pre_pro[['date', 'area', 'pre_pro_mean']]\n",
    "pre_pro"
   ]
  },
  {
   "cell_type": "code",
   "execution_count": 23,
   "id": "5290ef5f",
   "metadata": {},
   "outputs": [],
   "source": [
    "pre_pro.to_csv('ic.csv', index=False)"
   ]
  },
  {
   "cell_type": "code",
   "execution_count": null,
   "id": "c17dcd6d",
   "metadata": {},
   "outputs": [],
   "source": []
  }
 ],
 "metadata": {
  "kernelspec": {
   "display_name": "Python 3 (ipykernel)",
   "language": "python",
   "name": "python3"
  },
  "language_info": {
   "codemirror_mode": {
    "name": "ipython",
    "version": 3
   },
   "file_extension": ".py",
   "mimetype": "text/x-python",
   "name": "python",
   "nbconvert_exporter": "python",
   "pygments_lexer": "ipython3",
   "version": "3.9.7"
  }
 },
 "nbformat": 4,
 "nbformat_minor": 5
}
