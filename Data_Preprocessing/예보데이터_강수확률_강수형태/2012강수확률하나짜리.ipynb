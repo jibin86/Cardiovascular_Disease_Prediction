{
 "cells": [
  {
   "cell_type": "code",
   "execution_count": 1,
   "id": "fc3ebe3e",
   "metadata": {},
   "outputs": [
    {
     "name": "stdout",
     "output_type": "stream",
     "text": [
      "Directory changed\n"
     ]
    }
   ],
   "source": [
    "import os\n",
    "\n",
    "try:\n",
    "    file_list = os.chdir(\"/Users/cha/Desktop/공모전/날씨 빅데이터 콘테스트/data/예보데이터\")\n",
    "    print(\"Directory changed\")\n",
    "except OSError:\n",
    "    print(\"Can't change the Current Working Directory\")"
   ]
  },
  {
   "cell_type": "code",
   "execution_count": 2,
   "id": "0646ec51",
   "metadata": {},
   "outputs": [],
   "source": [
    "import glob"
   ]
  },
  {
   "cell_type": "code",
   "execution_count": 3,
   "id": "fd7b800d",
   "metadata": {},
   "outputs": [],
   "source": [
    "import pandas as pd\n",
    "import numpy as np"
   ]
  },
  {
   "cell_type": "code",
   "execution_count": 4,
   "id": "54d8b90f",
   "metadata": {},
   "outputs": [],
   "source": [
    "kw2013_pre_pro = glob.glob(os.path.join(\"2012/울산\", \"*_강수형태_201201_201212.csv\"))"
   ]
  },
  {
   "cell_type": "code",
   "execution_count": 5,
   "id": "680aefb6",
   "metadata": {},
   "outputs": [
    {
     "data": {
      "text/plain": [
       "[]"
      ]
     },
     "execution_count": 5,
     "metadata": {},
     "output_type": "execute_result"
    }
   ],
   "source": [
    "kw2013_pre_pro"
   ]
  },
  {
   "cell_type": "code",
   "execution_count": 6,
   "id": "a42acf0d",
   "metadata": {},
   "outputs": [
    {
     "name": "stdout",
     "output_type": "stream",
     "text": [
      "1\n"
     ]
    }
   ],
   "source": [
    "print(len(kw2013_pre_pro))"
   ]
  },
  {
   "cell_type": "code",
   "execution_count": 7,
   "id": "a79ec7c7",
   "metadata": {},
   "outputs": [],
   "source": [
    "j=1\n",
    "for i in kw2013_pre_pro:\n",
    "    globals()['kw2013_pre_pro_{}'.format(j)] = pd.read_csv(i)\n",
    "    j += 1"
   ]
  },
  {
   "cell_type": "code",
   "execution_count": 8,
   "id": "e10ae801",
   "metadata": {},
   "outputs": [
    {
     "data": {
      "text/html": [
       "<div>\n",
       "<style scoped>\n",
       "    .dataframe tbody tr th:only-of-type {\n",
       "        vertical-align: middle;\n",
       "    }\n",
       "\n",
       "    .dataframe tbody tr th {\n",
       "        vertical-align: top;\n",
       "    }\n",
       "\n",
       "    .dataframe thead th {\n",
       "        text-align: right;\n",
       "    }\n",
       "</style>\n",
       "<table border=\"1\" class=\"dataframe\">\n",
       "  <thead>\n",
       "    <tr style=\"text-align: right;\">\n",
       "      <th></th>\n",
       "      <th>format..day</th>\n",
       "      <th>hour</th>\n",
       "      <th>forecast</th>\n",
       "      <th>value..location.102_85.Start...20120101</th>\n",
       "    </tr>\n",
       "  </thead>\n",
       "  <tbody>\n",
       "    <tr>\n",
       "      <th>0</th>\n",
       "      <td>1</td>\n",
       "      <td>200.0</td>\n",
       "      <td>4.0</td>\n",
       "      <td>10.0</td>\n",
       "    </tr>\n",
       "    <tr>\n",
       "      <th>1</th>\n",
       "      <td>1</td>\n",
       "      <td>200.0</td>\n",
       "      <td>7.0</td>\n",
       "      <td>10.0</td>\n",
       "    </tr>\n",
       "    <tr>\n",
       "      <th>2</th>\n",
       "      <td>1</td>\n",
       "      <td>200.0</td>\n",
       "      <td>10.0</td>\n",
       "      <td>1.0</td>\n",
       "    </tr>\n",
       "    <tr>\n",
       "      <th>3</th>\n",
       "      <td>1</td>\n",
       "      <td>200.0</td>\n",
       "      <td>13.0</td>\n",
       "      <td>1.0</td>\n",
       "    </tr>\n",
       "    <tr>\n",
       "      <th>4</th>\n",
       "      <td>1</td>\n",
       "      <td>200.0</td>\n",
       "      <td>16.0</td>\n",
       "      <td>1.0</td>\n",
       "    </tr>\n",
       "    <tr>\n",
       "      <th>...</th>\n",
       "      <td>...</td>\n",
       "      <td>...</td>\n",
       "      <td>...</td>\n",
       "      <td>...</td>\n",
       "    </tr>\n",
       "    <tr>\n",
       "      <th>46122</th>\n",
       "      <td>31</td>\n",
       "      <td>2300.0</td>\n",
       "      <td>40.0</td>\n",
       "      <td>0.0</td>\n",
       "    </tr>\n",
       "    <tr>\n",
       "      <th>46123</th>\n",
       "      <td>31</td>\n",
       "      <td>2300.0</td>\n",
       "      <td>43.0</td>\n",
       "      <td>0.0</td>\n",
       "    </tr>\n",
       "    <tr>\n",
       "      <th>46124</th>\n",
       "      <td>31</td>\n",
       "      <td>2300.0</td>\n",
       "      <td>46.0</td>\n",
       "      <td>0.0</td>\n",
       "    </tr>\n",
       "    <tr>\n",
       "      <th>46125</th>\n",
       "      <td>31</td>\n",
       "      <td>2300.0</td>\n",
       "      <td>49.0</td>\n",
       "      <td>0.0</td>\n",
       "    </tr>\n",
       "    <tr>\n",
       "      <th>46126</th>\n",
       "      <td>31</td>\n",
       "      <td>2300.0</td>\n",
       "      <td>52.0</td>\n",
       "      <td>0.0</td>\n",
       "    </tr>\n",
       "  </tbody>\n",
       "</table>\n",
       "<p>46127 rows × 4 columns</p>\n",
       "</div>"
      ],
      "text/plain": [
       "      format..day    hour  forecast  value..location.102_85.Start...20120101\n",
       "0               1   200.0       4.0                                     10.0\n",
       "1               1   200.0       7.0                                     10.0\n",
       "2               1   200.0      10.0                                      1.0\n",
       "3               1   200.0      13.0                                      1.0\n",
       "4               1   200.0      16.0                                      1.0\n",
       "...           ...     ...       ...                                      ...\n",
       "46122          31  2300.0      40.0                                      0.0\n",
       "46123          31  2300.0      43.0                                      0.0\n",
       "46124          31  2300.0      46.0                                      0.0\n",
       "46125          31  2300.0      49.0                                      0.0\n",
       "46126          31  2300.0      52.0                                      0.0\n",
       "\n",
       "[46127 rows x 4 columns]"
      ]
     },
     "execution_count": 8,
     "metadata": {},
     "output_type": "execute_result"
    }
   ],
   "source": [
    "kw2013_pre_pro_1"
   ]
  },
  {
   "cell_type": "code",
   "execution_count": 9,
   "id": "f2dc700d",
   "metadata": {},
   "outputs": [
    {
     "name": "stdout",
     "output_type": "stream",
     "text": [
      "<class 'pandas.core.frame.DataFrame'>\n",
      "RangeIndex: 46127 entries, 0 to 46126\n",
      "Data columns (total 4 columns):\n",
      " #   Column                                   Non-Null Count  Dtype  \n",
      "---  ------                                   --------------  -----  \n",
      " 0   format..day                              46127 non-null  object \n",
      " 1   hour                                     46116 non-null  float64\n",
      " 2   forecast                                 46116 non-null  float64\n",
      " 3   value..location.102_85.Start...20120101  46116 non-null  float64\n",
      "dtypes: float64(3), object(1)\n",
      "memory usage: 1.4+ MB\n"
     ]
    }
   ],
   "source": [
    "kw2013_pre_pro_1.info()"
   ]
  },
  {
   "cell_type": "code",
   "execution_count": 10,
   "id": "2e8fdd7b",
   "metadata": {},
   "outputs": [],
   "source": [
    "kw2013_pre_pro_1.rename(columns={kw2013_pre_pro_1.columns[0]: 'date', kw2013_pre_pro_1.columns[3]: 'pre_pro_mean'}, inplace=True)"
   ]
  },
  {
   "cell_type": "code",
   "execution_count": 11,
   "id": "8afe0894",
   "metadata": {},
   "outputs": [],
   "source": [
    "kw2013_pre_pro_1[\"date\"] = kw2013_pre_pro_1[\"date\"].str.replace(\" \", \"\")"
   ]
  },
  {
   "cell_type": "code",
   "execution_count": 12,
   "id": "28fa5feb",
   "metadata": {
    "scrolled": true
   },
   "outputs": [
    {
     "name": "stderr",
     "output_type": "stream",
     "text": [
      "/var/folders/1b/6fw3j9nd4_qgymn82k3hygww0000gn/T/ipykernel_18737/1458046885.py:3: SettingWithCopyWarning: \n",
      "A value is trying to be set on a copy of a slice from a DataFrame\n",
      "\n",
      "See the caveats in the documentation: https://pandas.pydata.org/pandas-docs/stable/user_guide/indexing.html#returning-a-view-versus-a-copy\n",
      "  kw2013_pre_pro_1[\"date\"][i] = \"0\" + kw2013_pre_pro_1[\"date\"][i]\n"
     ]
    }
   ],
   "source": [
    "for i in range(len(kw2013_pre_pro_1[\"date\"])):\n",
    "    if len(kw2013_pre_pro_1[\"date\"][i]) == 1:\n",
    "        kw2013_pre_pro_1[\"date\"][i] = \"0\" + kw2013_pre_pro_1[\"date\"][i]"
   ]
  },
  {
   "cell_type": "code",
   "execution_count": 13,
   "id": "81737cc8",
   "metadata": {},
   "outputs": [
    {
     "name": "stdout",
     "output_type": "stream",
     "text": [
      "                 date  hour  forecast  pre_pro_mean\n",
      "4092   Start:20120201   NaN       NaN           NaN\n",
      "7921   Start:20120301   NaN       NaN           NaN\n",
      "12014  Start:20120401   NaN       NaN           NaN\n",
      "15975  Start:20120501   NaN       NaN           NaN\n",
      "20068  Start:20120601   NaN       NaN           NaN\n",
      "24029  Start:20120701   NaN       NaN           NaN\n",
      "28122  Start:20120801   NaN       NaN           NaN\n",
      "32215  Start:20120901   NaN       NaN           NaN\n",
      "36176  Start:20121001   NaN       NaN           NaN\n",
      "40269  Start:20121101   NaN       NaN           NaN\n",
      "42034  Start:20121201   NaN       NaN           NaN\n"
     ]
    }
   ],
   "source": [
    "print(kw2013_pre_pro_1.loc[(kw2013_pre_pro_1['date'] == 'Start:20120201') |\n",
    "                           (kw2013_pre_pro_1['date'] == 'Start:20120301') |\n",
    "                           (kw2013_pre_pro_1['date'] == 'Start:20120401') |\n",
    "                           (kw2013_pre_pro_1['date'] == 'Start:20120501') |\n",
    "                           (kw2013_pre_pro_1['date'] == 'Start:20120601') |\n",
    "                           (kw2013_pre_pro_1['date'] == 'Start:20120701') |\n",
    "                           (kw2013_pre_pro_1['date'] == 'Start:20120801') |\n",
    "                           (kw2013_pre_pro_1['date'] == 'Start:20120901') |\n",
    "                           (kw2013_pre_pro_1['date'] == 'Start:20121001') |\n",
    "                           (kw2013_pre_pro_1['date'] == 'Start:20121101') |\n",
    "                           (kw2013_pre_pro_1['date'] == 'Start:20121201')])"
   ]
  },
  {
   "cell_type": "code",
   "execution_count": 14,
   "id": "5339eb30",
   "metadata": {
    "scrolled": true
   },
   "outputs": [
    {
     "name": "stderr",
     "output_type": "stream",
     "text": [
      "/var/folders/1b/6fw3j9nd4_qgymn82k3hygww0000gn/T/ipykernel_18737/2453965924.py:1: SettingWithCopyWarning: \n",
      "A value is trying to be set on a copy of a slice from a DataFrame.\n",
      "Try using .loc[row_indexer,col_indexer] = value instead\n",
      "\n",
      "See the caveats in the documentation: https://pandas.pydata.org/pandas-docs/stable/user_guide/indexing.html#returning-a-view-versus-a-copy\n",
      "  kw2013_pre_pro_1.loc[:4091][\"date\"] = \"201201\" + kw2013_pre_pro_1.loc[:4091][\"date\"]\n",
      "/var/folders/1b/6fw3j9nd4_qgymn82k3hygww0000gn/T/ipykernel_18737/2453965924.py:2: SettingWithCopyWarning: \n",
      "A value is trying to be set on a copy of a slice from a DataFrame.\n",
      "Try using .loc[row_indexer,col_indexer] = value instead\n",
      "\n",
      "See the caveats in the documentation: https://pandas.pydata.org/pandas-docs/stable/user_guide/indexing.html#returning-a-view-versus-a-copy\n",
      "  kw2013_pre_pro_1.loc[4093:7920][\"date\"] = \"201202\" + kw2013_pre_pro_1.loc[4093:7920][\"date\"]\n",
      "/var/folders/1b/6fw3j9nd4_qgymn82k3hygww0000gn/T/ipykernel_18737/2453965924.py:3: SettingWithCopyWarning: \n",
      "A value is trying to be set on a copy of a slice from a DataFrame.\n",
      "Try using .loc[row_indexer,col_indexer] = value instead\n",
      "\n",
      "See the caveats in the documentation: https://pandas.pydata.org/pandas-docs/stable/user_guide/indexing.html#returning-a-view-versus-a-copy\n",
      "  kw2013_pre_pro_1.loc[7922:12013][\"date\"] = \"201203\" + kw2013_pre_pro_1.loc[7922:12013][\"date\"]\n",
      "/var/folders/1b/6fw3j9nd4_qgymn82k3hygww0000gn/T/ipykernel_18737/2453965924.py:4: SettingWithCopyWarning: \n",
      "A value is trying to be set on a copy of a slice from a DataFrame.\n",
      "Try using .loc[row_indexer,col_indexer] = value instead\n",
      "\n",
      "See the caveats in the documentation: https://pandas.pydata.org/pandas-docs/stable/user_guide/indexing.html#returning-a-view-versus-a-copy\n",
      "  kw2013_pre_pro_1.loc[12015:15974][\"date\"] = \"201204\" + kw2013_pre_pro_1.loc[12015:15974][\"date\"]\n",
      "/var/folders/1b/6fw3j9nd4_qgymn82k3hygww0000gn/T/ipykernel_18737/2453965924.py:5: SettingWithCopyWarning: \n",
      "A value is trying to be set on a copy of a slice from a DataFrame.\n",
      "Try using .loc[row_indexer,col_indexer] = value instead\n",
      "\n",
      "See the caveats in the documentation: https://pandas.pydata.org/pandas-docs/stable/user_guide/indexing.html#returning-a-view-versus-a-copy\n",
      "  kw2013_pre_pro_1.loc[15976:20067][\"date\"] = \"201205\" + kw2013_pre_pro_1.loc[15976:20067][\"date\"]\n",
      "/var/folders/1b/6fw3j9nd4_qgymn82k3hygww0000gn/T/ipykernel_18737/2453965924.py:6: SettingWithCopyWarning: \n",
      "A value is trying to be set on a copy of a slice from a DataFrame.\n",
      "Try using .loc[row_indexer,col_indexer] = value instead\n",
      "\n",
      "See the caveats in the documentation: https://pandas.pydata.org/pandas-docs/stable/user_guide/indexing.html#returning-a-view-versus-a-copy\n",
      "  kw2013_pre_pro_1.loc[20069:24028][\"date\"] = \"201206\" + kw2013_pre_pro_1.loc[20069:24028][\"date\"]\n",
      "/var/folders/1b/6fw3j9nd4_qgymn82k3hygww0000gn/T/ipykernel_18737/2453965924.py:7: SettingWithCopyWarning: \n",
      "A value is trying to be set on a copy of a slice from a DataFrame.\n",
      "Try using .loc[row_indexer,col_indexer] = value instead\n",
      "\n",
      "See the caveats in the documentation: https://pandas.pydata.org/pandas-docs/stable/user_guide/indexing.html#returning-a-view-versus-a-copy\n",
      "  kw2013_pre_pro_1.loc[24030:28121][\"date\"] = \"201207\" + kw2013_pre_pro_1.loc[24030:28121][\"date\"]\n",
      "/var/folders/1b/6fw3j9nd4_qgymn82k3hygww0000gn/T/ipykernel_18737/2453965924.py:8: SettingWithCopyWarning: \n",
      "A value is trying to be set on a copy of a slice from a DataFrame.\n",
      "Try using .loc[row_indexer,col_indexer] = value instead\n",
      "\n",
      "See the caveats in the documentation: https://pandas.pydata.org/pandas-docs/stable/user_guide/indexing.html#returning-a-view-versus-a-copy\n",
      "  kw2013_pre_pro_1.loc[28123:32214][\"date\"] = \"201208\" + kw2013_pre_pro_1.loc[28123:32214][\"date\"]\n",
      "/var/folders/1b/6fw3j9nd4_qgymn82k3hygww0000gn/T/ipykernel_18737/2453965924.py:9: SettingWithCopyWarning: \n",
      "A value is trying to be set on a copy of a slice from a DataFrame.\n",
      "Try using .loc[row_indexer,col_indexer] = value instead\n",
      "\n",
      "See the caveats in the documentation: https://pandas.pydata.org/pandas-docs/stable/user_guide/indexing.html#returning-a-view-versus-a-copy\n",
      "  kw2013_pre_pro_1.loc[32216:36175][\"date\"] = \"201209\" + kw2013_pre_pro_1.loc[32216:36175][\"date\"]\n",
      "/var/folders/1b/6fw3j9nd4_qgymn82k3hygww0000gn/T/ipykernel_18737/2453965924.py:10: SettingWithCopyWarning: \n",
      "A value is trying to be set on a copy of a slice from a DataFrame.\n",
      "Try using .loc[row_indexer,col_indexer] = value instead\n",
      "\n",
      "See the caveats in the documentation: https://pandas.pydata.org/pandas-docs/stable/user_guide/indexing.html#returning-a-view-versus-a-copy\n",
      "  kw2013_pre_pro_1.loc[36177:40268][\"date\"] = \"201210\" + kw2013_pre_pro_1.loc[36177:40268][\"date\"]\n",
      "/var/folders/1b/6fw3j9nd4_qgymn82k3hygww0000gn/T/ipykernel_18737/2453965924.py:11: SettingWithCopyWarning: \n",
      "A value is trying to be set on a copy of a slice from a DataFrame.\n",
      "Try using .loc[row_indexer,col_indexer] = value instead\n",
      "\n",
      "See the caveats in the documentation: https://pandas.pydata.org/pandas-docs/stable/user_guide/indexing.html#returning-a-view-versus-a-copy\n",
      "  kw2013_pre_pro_1.loc[40270:42033][\"date\"] = \"201211\" + kw2013_pre_pro_1.loc[40270:42033][\"date\"]\n",
      "/var/folders/1b/6fw3j9nd4_qgymn82k3hygww0000gn/T/ipykernel_18737/2453965924.py:12: SettingWithCopyWarning: \n",
      "A value is trying to be set on a copy of a slice from a DataFrame.\n",
      "Try using .loc[row_indexer,col_indexer] = value instead\n",
      "\n",
      "See the caveats in the documentation: https://pandas.pydata.org/pandas-docs/stable/user_guide/indexing.html#returning-a-view-versus-a-copy\n",
      "  kw2013_pre_pro_1.loc[42035:][\"date\"] = \"201212\" + kw2013_pre_pro_1.loc[42035:][\"date\"]\n"
     ]
    }
   ],
   "source": [
    "kw2013_pre_pro_1.loc[:4091][\"date\"] = \"201201\" + kw2013_pre_pro_1.loc[:4091][\"date\"]\n",
    "kw2013_pre_pro_1.loc[4093:7920][\"date\"] = \"201202\" + kw2013_pre_pro_1.loc[4093:7920][\"date\"]\n",
    "kw2013_pre_pro_1.loc[7922:12013][\"date\"] = \"201203\" + kw2013_pre_pro_1.loc[7922:12013][\"date\"]\n",
    "kw2013_pre_pro_1.loc[12015:15974][\"date\"] = \"201204\" + kw2013_pre_pro_1.loc[12015:15974][\"date\"]\n",
    "kw2013_pre_pro_1.loc[15976:20067][\"date\"] = \"201205\" + kw2013_pre_pro_1.loc[15976:20067][\"date\"]\n",
    "kw2013_pre_pro_1.loc[20069:24028][\"date\"] = \"201206\" + kw2013_pre_pro_1.loc[20069:24028][\"date\"]\n",
    "kw2013_pre_pro_1.loc[24030:28121][\"date\"] = \"201207\" + kw2013_pre_pro_1.loc[24030:28121][\"date\"]\n",
    "kw2013_pre_pro_1.loc[28123:32214][\"date\"] = \"201208\" + kw2013_pre_pro_1.loc[28123:32214][\"date\"]\n",
    "kw2013_pre_pro_1.loc[32216:36175][\"date\"] = \"201209\" + kw2013_pre_pro_1.loc[32216:36175][\"date\"]\n",
    "kw2013_pre_pro_1.loc[36177:40268][\"date\"] = \"201210\" + kw2013_pre_pro_1.loc[36177:40268][\"date\"]\n",
    "kw2013_pre_pro_1.loc[40270:42033][\"date\"] = \"201211\" + kw2013_pre_pro_1.loc[40270:42033][\"date\"]\n",
    "kw2013_pre_pro_1.loc[42035:][\"date\"] = \"201212\" + kw2013_pre_pro_1.loc[42035:][\"date\"]"
   ]
  },
  {
   "cell_type": "code",
   "execution_count": 15,
   "id": "b5ee97ce",
   "metadata": {},
   "outputs": [],
   "source": [
    "kw2013_pre_pro_1 = kw2013_pre_pro_1.drop([4092, 7921, 12014, 15975, 20068, 24029, 28122, 32215, 36176, 40269, 42034], axis = 0)"
   ]
  },
  {
   "cell_type": "code",
   "execution_count": 16,
   "id": "5b9d0dc6",
   "metadata": {},
   "outputs": [
    {
     "data": {
      "text/plain": [
       "20120101    132\n",
       "20120818    132\n",
       "20120826    132\n",
       "20120825    132\n",
       "20120824    132\n",
       "           ... \n",
       "20120425    132\n",
       "20120424    132\n",
       "20120423    132\n",
       "20120422    132\n",
       "20121114     48\n",
       "Name: date, Length: 350, dtype: int64"
      ]
     },
     "execution_count": 16,
     "metadata": {},
     "output_type": "execute_result"
    }
   ],
   "source": [
    "kw2013_pre_pro_1[\"date\"].value_counts()"
   ]
  },
  {
   "cell_type": "code",
   "execution_count": 17,
   "id": "23e5236c",
   "metadata": {},
   "outputs": [
    {
     "data": {
      "text/html": [
       "<div>\n",
       "<style scoped>\n",
       "    .dataframe tbody tr th:only-of-type {\n",
       "        vertical-align: middle;\n",
       "    }\n",
       "\n",
       "    .dataframe tbody tr th {\n",
       "        vertical-align: top;\n",
       "    }\n",
       "\n",
       "    .dataframe thead th {\n",
       "        text-align: right;\n",
       "    }\n",
       "</style>\n",
       "<table border=\"1\" class=\"dataframe\">\n",
       "  <thead>\n",
       "    <tr style=\"text-align: right;\">\n",
       "      <th></th>\n",
       "      <th>date</th>\n",
       "      <th>hour</th>\n",
       "      <th>forecast</th>\n",
       "      <th>pre_pro_mean</th>\n",
       "    </tr>\n",
       "  </thead>\n",
       "  <tbody>\n",
       "    <tr>\n",
       "      <th>0</th>\n",
       "      <td>20120101</td>\n",
       "      <td>200.0</td>\n",
       "      <td>4.0</td>\n",
       "      <td>10.0</td>\n",
       "    </tr>\n",
       "    <tr>\n",
       "      <th>16</th>\n",
       "      <td>20120101</td>\n",
       "      <td>500.0</td>\n",
       "      <td>4.0</td>\n",
       "      <td>10.0</td>\n",
       "    </tr>\n",
       "    <tr>\n",
       "      <th>31</th>\n",
       "      <td>20120101</td>\n",
       "      <td>800.0</td>\n",
       "      <td>4.0</td>\n",
       "      <td>20.0</td>\n",
       "    </tr>\n",
       "    <tr>\n",
       "      <th>49</th>\n",
       "      <td>20120101</td>\n",
       "      <td>1100.0</td>\n",
       "      <td>4.0</td>\n",
       "      <td>19.0</td>\n",
       "    </tr>\n",
       "    <tr>\n",
       "      <th>66</th>\n",
       "      <td>20120101</td>\n",
       "      <td>1400.0</td>\n",
       "      <td>4.0</td>\n",
       "      <td>1.0</td>\n",
       "    </tr>\n",
       "  </tbody>\n",
       "</table>\n",
       "</div>"
      ],
      "text/plain": [
       "        date    hour  forecast  pre_pro_mean\n",
       "0   20120101   200.0       4.0          10.0\n",
       "16  20120101   500.0       4.0          10.0\n",
       "31  20120101   800.0       4.0          20.0\n",
       "49  20120101  1100.0       4.0          19.0\n",
       "66  20120101  1400.0       4.0           1.0"
      ]
     },
     "execution_count": 17,
     "metadata": {},
     "output_type": "execute_result"
    }
   ],
   "source": [
    "kw2013_pre_pro_1_fore4 = kw2013_pre_pro_1[kw2013_pre_pro_1['forecast']== 4.0]\n",
    "kw2013_pre_pro_1_fore4.head()"
   ]
  },
  {
   "cell_type": "code",
   "execution_count": 18,
   "id": "bb8bc1b5",
   "metadata": {},
   "outputs": [
    {
     "name": "stderr",
     "output_type": "stream",
     "text": [
      "/var/folders/1b/6fw3j9nd4_qgymn82k3hygww0000gn/T/ipykernel_18737/1176009402.py:1: SettingWithCopyWarning: \n",
      "A value is trying to be set on a copy of a slice from a DataFrame.\n",
      "Try using .loc[row_indexer,col_indexer] = value instead\n",
      "\n",
      "See the caveats in the documentation: https://pandas.pydata.org/pandas-docs/stable/user_guide/indexing.html#returning-a-view-versus-a-copy\n",
      "  kw2013_pre_pro_1_fore4['pre_pro_mean'] = kw2013_pre_pro_1_fore4['pre_pro_mean'].astype('float')\n"
     ]
    }
   ],
   "source": [
    "kw2013_pre_pro_1_fore4['pre_pro_mean'] = kw2013_pre_pro_1_fore4['pre_pro_mean'].astype('float')"
   ]
  },
  {
   "cell_type": "code",
   "execution_count": 19,
   "id": "d60bbb80",
   "metadata": {},
   "outputs": [],
   "source": [
    "kw2013_pre_pro_1_final = pd.DataFrame(kw2013_pre_pro_1_fore4['pre_pro_mean'].groupby(kw2013_pre_pro_1_fore4['date']).mean())"
   ]
  },
  {
   "cell_type": "code",
   "execution_count": 20,
   "id": "fd0ec123",
   "metadata": {},
   "outputs": [
    {
     "data": {
      "text/html": [
       "<div>\n",
       "<style scoped>\n",
       "    .dataframe tbody tr th:only-of-type {\n",
       "        vertical-align: middle;\n",
       "    }\n",
       "\n",
       "    .dataframe tbody tr th {\n",
       "        vertical-align: top;\n",
       "    }\n",
       "\n",
       "    .dataframe thead th {\n",
       "        text-align: right;\n",
       "    }\n",
       "</style>\n",
       "<table border=\"1\" class=\"dataframe\">\n",
       "  <thead>\n",
       "    <tr style=\"text-align: right;\">\n",
       "      <th></th>\n",
       "      <th>date</th>\n",
       "      <th>pre_pro_mean</th>\n",
       "    </tr>\n",
       "  </thead>\n",
       "  <tbody>\n",
       "    <tr>\n",
       "      <th>0</th>\n",
       "      <td>20120101</td>\n",
       "      <td>7.625</td>\n",
       "    </tr>\n",
       "    <tr>\n",
       "      <th>1</th>\n",
       "      <td>20120102</td>\n",
       "      <td>8.750</td>\n",
       "    </tr>\n",
       "    <tr>\n",
       "      <th>2</th>\n",
       "      <td>20120103</td>\n",
       "      <td>11.250</td>\n",
       "    </tr>\n",
       "    <tr>\n",
       "      <th>3</th>\n",
       "      <td>20120104</td>\n",
       "      <td>0.000</td>\n",
       "    </tr>\n",
       "    <tr>\n",
       "      <th>4</th>\n",
       "      <td>20120105</td>\n",
       "      <td>0.000</td>\n",
       "    </tr>\n",
       "    <tr>\n",
       "      <th>...</th>\n",
       "      <td>...</td>\n",
       "      <td>...</td>\n",
       "    </tr>\n",
       "    <tr>\n",
       "      <th>345</th>\n",
       "      <td>20121227</td>\n",
       "      <td>38.500</td>\n",
       "    </tr>\n",
       "    <tr>\n",
       "      <th>346</th>\n",
       "      <td>20121228</td>\n",
       "      <td>26.000</td>\n",
       "    </tr>\n",
       "    <tr>\n",
       "      <th>347</th>\n",
       "      <td>20121229</td>\n",
       "      <td>38.625</td>\n",
       "    </tr>\n",
       "    <tr>\n",
       "      <th>348</th>\n",
       "      <td>20121230</td>\n",
       "      <td>2.375</td>\n",
       "    </tr>\n",
       "    <tr>\n",
       "      <th>349</th>\n",
       "      <td>20121231</td>\n",
       "      <td>18.500</td>\n",
       "    </tr>\n",
       "  </tbody>\n",
       "</table>\n",
       "<p>350 rows × 2 columns</p>\n",
       "</div>"
      ],
      "text/plain": [
       "         date  pre_pro_mean\n",
       "0    20120101         7.625\n",
       "1    20120102         8.750\n",
       "2    20120103        11.250\n",
       "3    20120104         0.000\n",
       "4    20120105         0.000\n",
       "..        ...           ...\n",
       "345  20121227        38.500\n",
       "346  20121228        26.000\n",
       "347  20121229        38.625\n",
       "348  20121230         2.375\n",
       "349  20121231        18.500\n",
       "\n",
       "[350 rows x 2 columns]"
      ]
     },
     "execution_count": 20,
     "metadata": {},
     "output_type": "execute_result"
    }
   ],
   "source": [
    "kw2013_pre_pro_1_final.reset_index(level=['date'], inplace = True)\n",
    "kw2013_pre_pro_1_final"
   ]
  },
  {
   "cell_type": "code",
   "execution_count": 21,
   "id": "28ce7120",
   "metadata": {},
   "outputs": [
    {
     "data": {
      "text/html": [
       "<div>\n",
       "<style scoped>\n",
       "    .dataframe tbody tr th:only-of-type {\n",
       "        vertical-align: middle;\n",
       "    }\n",
       "\n",
       "    .dataframe tbody tr th {\n",
       "        vertical-align: top;\n",
       "    }\n",
       "\n",
       "    .dataframe thead th {\n",
       "        text-align: right;\n",
       "    }\n",
       "</style>\n",
       "<table border=\"1\" class=\"dataframe\">\n",
       "  <thead>\n",
       "    <tr style=\"text-align: right;\">\n",
       "      <th></th>\n",
       "      <th>date</th>\n",
       "      <th>pre_pro_mean</th>\n",
       "    </tr>\n",
       "  </thead>\n",
       "  <tbody>\n",
       "    <tr>\n",
       "      <th>0</th>\n",
       "      <td>20120101</td>\n",
       "      <td>7.625</td>\n",
       "    </tr>\n",
       "    <tr>\n",
       "      <th>1</th>\n",
       "      <td>20120102</td>\n",
       "      <td>8.750</td>\n",
       "    </tr>\n",
       "    <tr>\n",
       "      <th>2</th>\n",
       "      <td>20120103</td>\n",
       "      <td>11.250</td>\n",
       "    </tr>\n",
       "    <tr>\n",
       "      <th>3</th>\n",
       "      <td>20120104</td>\n",
       "      <td>0.000</td>\n",
       "    </tr>\n",
       "    <tr>\n",
       "      <th>4</th>\n",
       "      <td>20120105</td>\n",
       "      <td>0.000</td>\n",
       "    </tr>\n",
       "    <tr>\n",
       "      <th>...</th>\n",
       "      <td>...</td>\n",
       "      <td>...</td>\n",
       "    </tr>\n",
       "    <tr>\n",
       "      <th>345</th>\n",
       "      <td>20121227</td>\n",
       "      <td>38.500</td>\n",
       "    </tr>\n",
       "    <tr>\n",
       "      <th>346</th>\n",
       "      <td>20121228</td>\n",
       "      <td>26.000</td>\n",
       "    </tr>\n",
       "    <tr>\n",
       "      <th>347</th>\n",
       "      <td>20121229</td>\n",
       "      <td>38.625</td>\n",
       "    </tr>\n",
       "    <tr>\n",
       "      <th>348</th>\n",
       "      <td>20121230</td>\n",
       "      <td>2.375</td>\n",
       "    </tr>\n",
       "    <tr>\n",
       "      <th>349</th>\n",
       "      <td>20121231</td>\n",
       "      <td>18.500</td>\n",
       "    </tr>\n",
       "  </tbody>\n",
       "</table>\n",
       "<p>350 rows × 2 columns</p>\n",
       "</div>"
      ],
      "text/plain": [
       "         date  pre_pro_mean\n",
       "0    20120101         7.625\n",
       "1    20120102         8.750\n",
       "2    20120103        11.250\n",
       "3    20120104         0.000\n",
       "4    20120105         0.000\n",
       "..        ...           ...\n",
       "345  20121227        38.500\n",
       "346  20121228        26.000\n",
       "347  20121229        38.625\n",
       "348  20121230         2.375\n",
       "349  20121231        18.500\n",
       "\n",
       "[350 rows x 2 columns]"
      ]
     },
     "execution_count": 21,
     "metadata": {},
     "output_type": "execute_result"
    }
   ],
   "source": [
    "kw2013_pre_pro_final = pd.DataFrame()\n",
    "kw2013_pre_pro_final = pd.concat([kw2013_pre_pro_final, kw2013_pre_pro_1_final], axis = 0, ignore_index=True)\n",
    "kw2013_pre_pro_final"
   ]
  },
  {
   "cell_type": "code",
   "execution_count": 22,
   "id": "1720ff98",
   "metadata": {},
   "outputs": [
    {
     "data": {
      "text/html": [
       "<div>\n",
       "<style scoped>\n",
       "    .dataframe tbody tr th:only-of-type {\n",
       "        vertical-align: middle;\n",
       "    }\n",
       "\n",
       "    .dataframe tbody tr th {\n",
       "        vertical-align: top;\n",
       "    }\n",
       "\n",
       "    .dataframe thead th {\n",
       "        text-align: right;\n",
       "    }\n",
       "</style>\n",
       "<table border=\"1\" class=\"dataframe\">\n",
       "  <thead>\n",
       "    <tr style=\"text-align: right;\">\n",
       "      <th></th>\n",
       "      <th>date</th>\n",
       "      <th>area</th>\n",
       "      <th>pre_pro_mean</th>\n",
       "    </tr>\n",
       "  </thead>\n",
       "  <tbody>\n",
       "    <tr>\n",
       "      <th>0</th>\n",
       "      <td>20120101</td>\n",
       "      <td>울산</td>\n",
       "      <td>7.625</td>\n",
       "    </tr>\n",
       "    <tr>\n",
       "      <th>1</th>\n",
       "      <td>20120102</td>\n",
       "      <td>울산</td>\n",
       "      <td>8.750</td>\n",
       "    </tr>\n",
       "    <tr>\n",
       "      <th>2</th>\n",
       "      <td>20120103</td>\n",
       "      <td>울산</td>\n",
       "      <td>11.250</td>\n",
       "    </tr>\n",
       "    <tr>\n",
       "      <th>3</th>\n",
       "      <td>20120104</td>\n",
       "      <td>울산</td>\n",
       "      <td>0.000</td>\n",
       "    </tr>\n",
       "    <tr>\n",
       "      <th>4</th>\n",
       "      <td>20120105</td>\n",
       "      <td>울산</td>\n",
       "      <td>0.000</td>\n",
       "    </tr>\n",
       "    <tr>\n",
       "      <th>...</th>\n",
       "      <td>...</td>\n",
       "      <td>...</td>\n",
       "      <td>...</td>\n",
       "    </tr>\n",
       "    <tr>\n",
       "      <th>345</th>\n",
       "      <td>20121227</td>\n",
       "      <td>울산</td>\n",
       "      <td>38.500</td>\n",
       "    </tr>\n",
       "    <tr>\n",
       "      <th>346</th>\n",
       "      <td>20121228</td>\n",
       "      <td>울산</td>\n",
       "      <td>26.000</td>\n",
       "    </tr>\n",
       "    <tr>\n",
       "      <th>347</th>\n",
       "      <td>20121229</td>\n",
       "      <td>울산</td>\n",
       "      <td>38.625</td>\n",
       "    </tr>\n",
       "    <tr>\n",
       "      <th>348</th>\n",
       "      <td>20121230</td>\n",
       "      <td>울산</td>\n",
       "      <td>2.375</td>\n",
       "    </tr>\n",
       "    <tr>\n",
       "      <th>349</th>\n",
       "      <td>20121231</td>\n",
       "      <td>울산</td>\n",
       "      <td>18.500</td>\n",
       "    </tr>\n",
       "  </tbody>\n",
       "</table>\n",
       "<p>350 rows × 3 columns</p>\n",
       "</div>"
      ],
      "text/plain": [
       "         date area  pre_pro_mean\n",
       "0    20120101   울산         7.625\n",
       "1    20120102   울산         8.750\n",
       "2    20120103   울산        11.250\n",
       "3    20120104   울산         0.000\n",
       "4    20120105   울산         0.000\n",
       "..        ...  ...           ...\n",
       "345  20121227   울산        38.500\n",
       "346  20121228   울산        26.000\n",
       "347  20121229   울산        38.625\n",
       "348  20121230   울산         2.375\n",
       "349  20121231   울산        18.500\n",
       "\n",
       "[350 rows x 3 columns]"
      ]
     },
     "execution_count": 22,
     "metadata": {},
     "output_type": "execute_result"
    }
   ],
   "source": [
    "pre_pro = pd.DataFrame(kw2013_pre_pro_final['pre_pro_mean'].groupby(kw2013_pre_pro_final['date']).mean())\n",
    "pre_pro.reset_index(level=['date'], inplace = True)\n",
    "pre_pro['area'] = '울산'\n",
    "pre_pro = pre_pro[['date', 'area', 'pre_pro_mean']]\n",
    "pre_pro"
   ]
  },
  {
   "cell_type": "code",
   "execution_count": 23,
   "id": "5290ef5f",
   "metadata": {},
   "outputs": [],
   "source": [
    "pre_pro.to_csv('us.csv', index=False)"
   ]
  },
  {
   "cell_type": "code",
   "execution_count": null,
   "id": "c17dcd6d",
   "metadata": {},
   "outputs": [],
   "source": []
  }
 ],
 "metadata": {
  "kernelspec": {
   "display_name": "Python 3 (ipykernel)",
   "language": "python",
   "name": "python3"
  },
  "language_info": {
   "codemirror_mode": {
    "name": "ipython",
    "version": 3
   },
   "file_extension": ".py",
   "mimetype": "text/x-python",
   "name": "python",
   "nbconvert_exporter": "python",
   "pygments_lexer": "ipython3",
   "version": "3.9.7"
  }
 },
 "nbformat": 4,
 "nbformat_minor": 5
}
