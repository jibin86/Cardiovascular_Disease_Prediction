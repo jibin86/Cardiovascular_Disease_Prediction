{
 "cells": [
  {
   "cell_type": "code",
   "execution_count": 1,
   "id": "fc3ebe3e",
   "metadata": {},
   "outputs": [
    {
     "name": "stdout",
     "output_type": "stream",
     "text": [
      "Directory changed\n"
     ]
    }
   ],
   "source": [
    "import os\n",
    "\n",
    "try:\n",
    "    file_list = os.chdir(\"/Users/cha/Desktop/공모전/날씨 빅데이터 콘테스트/data1/예보데이터\")\n",
    "    print(\"Directory changed\")\n",
    "except OSError:\n",
    "    print(\"Can't change the Current Working Directory\")"
   ]
  },
  {
   "cell_type": "code",
   "execution_count": 2,
   "id": "0646ec51",
   "metadata": {},
   "outputs": [],
   "source": [
    "import glob"
   ]
  },
  {
   "cell_type": "code",
   "execution_count": 3,
   "id": "fd7b800d",
   "metadata": {},
   "outputs": [],
   "source": [
    "import pandas as pd\n",
    "import numpy as np\n",
    "\n",
    "import warnings\n",
    "warnings.filterwarnings('ignore')"
   ]
  },
  {
   "cell_type": "code",
   "execution_count": 4,
   "id": "54d8b90f",
   "metadata": {},
   "outputs": [],
   "source": [
    "kw2013_pre_pro = glob.glob(os.path.join(\"2016/울산\", \"*_강수형태_201601_201612.csv\"))"
   ]
  },
  {
   "cell_type": "code",
   "execution_count": 5,
   "id": "680aefb6",
   "metadata": {},
   "outputs": [
    {
     "data": {
      "text/plain": [
       "['2016/울산/병영2동_강수형태_201601_201612.csv']"
      ]
     },
     "execution_count": 5,
     "metadata": {},
     "output_type": "execute_result"
    }
   ],
   "source": [
    "kw2013_pre_pro"
   ]
  },
  {
   "cell_type": "code",
   "execution_count": 6,
   "id": "a42acf0d",
   "metadata": {},
   "outputs": [
    {
     "name": "stdout",
     "output_type": "stream",
     "text": [
      "1\n"
     ]
    }
   ],
   "source": [
    "print(len(kw2013_pre_pro))"
   ]
  },
  {
   "cell_type": "code",
   "execution_count": 7,
   "id": "a79ec7c7",
   "metadata": {},
   "outputs": [],
   "source": [
    "j=1\n",
    "for i in kw2013_pre_pro:\n",
    "    globals()['kw2013_pre_pro_{}'.format(j)] = pd.read_csv(i)\n",
    "    j += 1"
   ]
  },
  {
   "cell_type": "code",
   "execution_count": 8,
   "id": "e10ae801",
   "metadata": {},
   "outputs": [
    {
     "data": {
      "text/html": [
       "<div>\n",
       "<style scoped>\n",
       "    .dataframe tbody tr th:only-of-type {\n",
       "        vertical-align: middle;\n",
       "    }\n",
       "\n",
       "    .dataframe tbody tr th {\n",
       "        vertical-align: top;\n",
       "    }\n",
       "\n",
       "    .dataframe thead th {\n",
       "        text-align: right;\n",
       "    }\n",
       "</style>\n",
       "<table border=\"1\" class=\"dataframe\">\n",
       "  <thead>\n",
       "    <tr style=\"text-align: right;\">\n",
       "      <th></th>\n",
       "      <th>format: day</th>\n",
       "      <th>hour</th>\n",
       "      <th>forecast</th>\n",
       "      <th>value  location:102_85 Start : 20160101</th>\n",
       "    </tr>\n",
       "  </thead>\n",
       "  <tbody>\n",
       "    <tr>\n",
       "      <th>0</th>\n",
       "      <td>1</td>\n",
       "      <td>0200</td>\n",
       "      <td>+4</td>\n",
       "      <td>0.000000</td>\n",
       "    </tr>\n",
       "    <tr>\n",
       "      <th>1</th>\n",
       "      <td>1</td>\n",
       "      <td>0200</td>\n",
       "      <td>+7</td>\n",
       "      <td>0.000000</td>\n",
       "    </tr>\n",
       "    <tr>\n",
       "      <th>2</th>\n",
       "      <td>1</td>\n",
       "      <td>0200</td>\n",
       "      <td>+10</td>\n",
       "      <td>0.000000</td>\n",
       "    </tr>\n",
       "    <tr>\n",
       "      <th>3</th>\n",
       "      <td>1</td>\n",
       "      <td>0200</td>\n",
       "      <td>+13</td>\n",
       "      <td>0.000000</td>\n",
       "    </tr>\n",
       "    <tr>\n",
       "      <th>4</th>\n",
       "      <td>1</td>\n",
       "      <td>0200</td>\n",
       "      <td>+16</td>\n",
       "      <td>0.000000</td>\n",
       "    </tr>\n",
       "    <tr>\n",
       "      <th>...</th>\n",
       "      <td>...</td>\n",
       "      <td>...</td>\n",
       "      <td>...</td>\n",
       "      <td>...</td>\n",
       "    </tr>\n",
       "    <tr>\n",
       "      <th>108354</th>\n",
       "      <td>31</td>\n",
       "      <td>2300</td>\n",
       "      <td>+52</td>\n",
       "      <td>0.000000</td>\n",
       "    </tr>\n",
       "    <tr>\n",
       "      <th>108355</th>\n",
       "      <td>31</td>\n",
       "      <td>2300</td>\n",
       "      <td>+55</td>\n",
       "      <td>0.000000</td>\n",
       "    </tr>\n",
       "    <tr>\n",
       "      <th>108356</th>\n",
       "      <td>31</td>\n",
       "      <td>2300</td>\n",
       "      <td>+58</td>\n",
       "      <td>0.000000</td>\n",
       "    </tr>\n",
       "    <tr>\n",
       "      <th>108357</th>\n",
       "      <td>31</td>\n",
       "      <td>2300</td>\n",
       "      <td>+61</td>\n",
       "      <td>0.000000</td>\n",
       "    </tr>\n",
       "    <tr>\n",
       "      <th>108358</th>\n",
       "      <td>31</td>\n",
       "      <td>2300</td>\n",
       "      <td>+64</td>\n",
       "      <td>0.000000</td>\n",
       "    </tr>\n",
       "  </tbody>\n",
       "</table>\n",
       "<p>108359 rows × 4 columns</p>\n",
       "</div>"
      ],
      "text/plain": [
       "        format: day  hour forecast value  location:102_85 Start : 20160101 \n",
       "0                 1  0200       +4                                0.000000 \n",
       "1                 1  0200       +7                                0.000000 \n",
       "2                 1  0200      +10                                0.000000 \n",
       "3                 1  0200      +13                                0.000000 \n",
       "4                 1  0200      +16                                0.000000 \n",
       "...             ...   ...      ...                                      ...\n",
       "108354           31  2300      +52                                0.000000 \n",
       "108355           31  2300      +55                                0.000000 \n",
       "108356           31  2300      +58                                0.000000 \n",
       "108357           31  2300      +61                                0.000000 \n",
       "108358           31  2300      +64                                0.000000 \n",
       "\n",
       "[108359 rows x 4 columns]"
      ]
     },
     "execution_count": 8,
     "metadata": {},
     "output_type": "execute_result"
    }
   ],
   "source": [
    "kw2013_pre_pro_1"
   ]
  },
  {
   "cell_type": "code",
   "execution_count": 9,
   "id": "f2dc700d",
   "metadata": {},
   "outputs": [
    {
     "name": "stdout",
     "output_type": "stream",
     "text": [
      "<class 'pandas.core.frame.DataFrame'>\n",
      "RangeIndex: 108359 entries, 0 to 108358\n",
      "Data columns (total 4 columns):\n",
      " #   Column                                    Non-Null Count   Dtype \n",
      "---  ------                                    --------------   ----- \n",
      " 0    format: day                              108359 non-null  object\n",
      " 1   hour                                      108337 non-null  object\n",
      " 2   forecast                                  108337 non-null  object\n",
      " 3   value  location:102_85 Start : 20160101   108337 non-null  object\n",
      "dtypes: object(4)\n",
      "memory usage: 3.3+ MB\n"
     ]
    }
   ],
   "source": [
    "kw2013_pre_pro_1.info()"
   ]
  },
  {
   "cell_type": "code",
   "execution_count": 10,
   "id": "2e8fdd7b",
   "metadata": {},
   "outputs": [],
   "source": [
    "kw2013_pre_pro_1.rename(columns={kw2013_pre_pro_1.columns[0]: 'date', kw2013_pre_pro_1.columns[3]: 'pre_pro_mean'}, inplace=True)"
   ]
  },
  {
   "cell_type": "code",
   "execution_count": 11,
   "id": "8afe0894",
   "metadata": {},
   "outputs": [],
   "source": [
    "kw2013_pre_pro_1[\"date\"] = kw2013_pre_pro_1[\"date\"].str.replace(\" \", \"\")"
   ]
  },
  {
   "cell_type": "code",
   "execution_count": 12,
   "id": "28fa5feb",
   "metadata": {
    "scrolled": false
   },
   "outputs": [],
   "source": [
    "for i in range(len(kw2013_pre_pro_1[\"date\"])):\n",
    "    if len(kw2013_pre_pro_1[\"date\"][i]) == 1:\n",
    "        kw2013_pre_pro_1[\"date\"][i] = \"0\" + kw2013_pre_pro_1[\"date\"][i]"
   ]
  },
  {
   "cell_type": "code",
   "execution_count": 13,
   "id": "6238ca91",
   "metadata": {
    "scrolled": false
   },
   "outputs": [
    {
     "name": "stdout",
     "output_type": "stream",
     "text": [
      "                  date hour forecast pre_pro_mean\n",
      "4588    Start:20160201  NaN      NaN          NaN\n",
      "8881    Start:20160301  NaN      NaN          NaN\n",
      "13470   Start:20160401  NaN      NaN          NaN\n",
      "17911   Start:20160501  NaN      NaN          NaN\n",
      "22500   Start:20160601  NaN      NaN          NaN\n",
      "26941   Start:20160701  NaN      NaN          NaN\n",
      "31530   Start:20160801  NaN      NaN          NaN\n",
      "36119   Start:20160901  NaN      NaN          NaN\n",
      "40560   Start:20161001  NaN      NaN          NaN\n",
      "45149   Start:20161101  NaN      NaN          NaN\n",
      "49590   Start:20161201  NaN      NaN          NaN\n",
      "58768   Start:20160201  NaN      NaN          NaN\n",
      "63061   Start:20160301  NaN      NaN          NaN\n",
      "67650   Start:20160401  NaN      NaN          NaN\n",
      "72091   Start:20160501  NaN      NaN          NaN\n",
      "76680   Start:20160601  NaN      NaN          NaN\n",
      "81121   Start:20160701  NaN      NaN          NaN\n",
      "85710   Start:20160801  NaN      NaN          NaN\n",
      "90299   Start:20160901  NaN      NaN          NaN\n",
      "94740   Start:20161001  NaN      NaN          NaN\n",
      "99329   Start:20161101  NaN      NaN          NaN\n",
      "103770  Start:20161201  NaN      NaN          NaN\n"
     ]
    }
   ],
   "source": [
    "print(kw2013_pre_pro_1.loc[(kw2013_pre_pro_1['date'] == 'Start:20160201') |\n",
    "                           (kw2013_pre_pro_1['date'] == 'Start:20160301') |\n",
    "                           (kw2013_pre_pro_1['date'] == 'Start:20160401') |\n",
    "                           (kw2013_pre_pro_1['date'] == 'Start:20160501') |\n",
    "                           (kw2013_pre_pro_1['date'] == 'Start:20160601') |\n",
    "                           (kw2013_pre_pro_1['date'] == 'Start:20160701') |\n",
    "                           (kw2013_pre_pro_1['date'] == 'Start:20160801') |\n",
    "                           (kw2013_pre_pro_1['date'] == 'Start:20160901') |\n",
    "                           (kw2013_pre_pro_1['date'] == 'Start:20161001') |\n",
    "                           (kw2013_pre_pro_1['date'] == 'Start:20161101') |\n",
    "                           (kw2013_pre_pro_1['date'] == 'Start:20161201')])"
   ]
  },
  {
   "cell_type": "code",
   "execution_count": 14,
   "id": "2c6495a7",
   "metadata": {},
   "outputs": [],
   "source": [
    "kw2013_pre_pro_1 = kw2013_pre_pro_1.loc[:58767]"
   ]
  },
  {
   "cell_type": "code",
   "execution_count": 15,
   "id": "f3ca5ad8",
   "metadata": {
    "scrolled": true
   },
   "outputs": [],
   "source": [
    "kw2013_pre_pro_1.loc[:4587][\"date\"] = \"201601\" + kw2013_pre_pro_1.loc[:4587][\"date\"]\n",
    "kw2013_pre_pro_1.loc[4589:8880][\"date\"] = \"201602\" + kw2013_pre_pro_1.loc[4589:8880][\"date\"]\n",
    "kw2013_pre_pro_1.loc[8882:13469][\"date\"] = \"201603\" + kw2013_pre_pro_1.loc[8882:13469][\"date\"]\n",
    "kw2013_pre_pro_1.loc[13471:17910][\"date\"] = \"201604\" + kw2013_pre_pro_1.loc[13471:17910][\"date\"]\n",
    "kw2013_pre_pro_1.loc[17912:22499][\"date\"] = \"201605\" + kw2013_pre_pro_1.loc[17912:22499][\"date\"]\n",
    "kw2013_pre_pro_1.loc[22501:26940][\"date\"] = \"201606\" + kw2013_pre_pro_1.loc[22501:26940][\"date\"]\n",
    "kw2013_pre_pro_1.loc[26942:31529][\"date\"] = \"201607\" + kw2013_pre_pro_1.loc[26942:31529][\"date\"]\n",
    "kw2013_pre_pro_1.loc[31531:36118][\"date\"] = \"201608\" + kw2013_pre_pro_1.loc[31531:36118][\"date\"]\n",
    "kw2013_pre_pro_1.loc[36120:40559][\"date\"] = \"201609\" + kw2013_pre_pro_1.loc[36120:40559][\"date\"]\n",
    "kw2013_pre_pro_1.loc[40561:45148][\"date\"] = \"201610\" + kw2013_pre_pro_1.loc[40561:45148][\"date\"]\n",
    "kw2013_pre_pro_1.loc[45150:49589][\"date\"] = \"201611\" + kw2013_pre_pro_1.loc[45150:49589][\"date\"]\n",
    "kw2013_pre_pro_1.loc[49591:58767][\"date\"] = \"201612\" + kw2013_pre_pro_1.loc[49591:58767][\"date\"]"
   ]
  },
  {
   "cell_type": "code",
   "execution_count": 16,
   "id": "9071d88b",
   "metadata": {
    "scrolled": true
   },
   "outputs": [
    {
     "data": {
      "text/plain": [
       "Int64Index([54179], dtype='int64')"
      ]
     },
     "execution_count": 16,
     "metadata": {},
     "output_type": "execute_result"
    }
   ],
   "source": [
    "kw2013_pre_pro_1[kw2013_pre_pro_1[\"date\"] == '201612format:day'].index"
   ]
  },
  {
   "cell_type": "code",
   "execution_count": 17,
   "id": "56f16b06",
   "metadata": {},
   "outputs": [],
   "source": [
    "kw2013_pre_pro_1 = kw2013_pre_pro_1.drop([4588, 8881, 13470, 17911, 22500, 26941, 31530, 36119, 40560, 45149, 49590,54179], axis = 0)"
   ]
  },
  {
   "cell_type": "code",
   "execution_count": 18,
   "id": "5b9d0dc6",
   "metadata": {
    "scrolled": true
   },
   "outputs": [
    {
     "data": {
      "text/plain": [
       "20161231    296\n",
       "20161216    296\n",
       "20161201    296\n",
       "20161202    296\n",
       "20161203    296\n",
       "           ... \n",
       "20160430    148\n",
       "20160429    148\n",
       "20160428    148\n",
       "20160427    148\n",
       "20160702    148\n",
       "Name: date, Length: 366, dtype: int64"
      ]
     },
     "execution_count": 18,
     "metadata": {},
     "output_type": "execute_result"
    }
   ],
   "source": [
    "kw2013_pre_pro_1[\"date\"].value_counts()"
   ]
  },
  {
   "cell_type": "code",
   "execution_count": 19,
   "id": "23e5236c",
   "metadata": {},
   "outputs": [
    {
     "data": {
      "text/html": [
       "<div>\n",
       "<style scoped>\n",
       "    .dataframe tbody tr th:only-of-type {\n",
       "        vertical-align: middle;\n",
       "    }\n",
       "\n",
       "    .dataframe tbody tr th {\n",
       "        vertical-align: top;\n",
       "    }\n",
       "\n",
       "    .dataframe thead th {\n",
       "        text-align: right;\n",
       "    }\n",
       "</style>\n",
       "<table border=\"1\" class=\"dataframe\">\n",
       "  <thead>\n",
       "    <tr style=\"text-align: right;\">\n",
       "      <th></th>\n",
       "      <th>date</th>\n",
       "      <th>hour</th>\n",
       "      <th>forecast</th>\n",
       "      <th>pre_pro_mean</th>\n",
       "    </tr>\n",
       "  </thead>\n",
       "  <tbody>\n",
       "    <tr>\n",
       "      <th>0</th>\n",
       "      <td>20160101</td>\n",
       "      <td>0200</td>\n",
       "      <td>+4</td>\n",
       "      <td>0.000000</td>\n",
       "    </tr>\n",
       "    <tr>\n",
       "      <th>20</th>\n",
       "      <td>20160101</td>\n",
       "      <td>0500</td>\n",
       "      <td>+4</td>\n",
       "      <td>0.000000</td>\n",
       "    </tr>\n",
       "    <tr>\n",
       "      <th>39</th>\n",
       "      <td>20160101</td>\n",
       "      <td>0800</td>\n",
       "      <td>+4</td>\n",
       "      <td>0.000000</td>\n",
       "    </tr>\n",
       "    <tr>\n",
       "      <th>57</th>\n",
       "      <td>20160101</td>\n",
       "      <td>1100</td>\n",
       "      <td>+4</td>\n",
       "      <td>0.000000</td>\n",
       "    </tr>\n",
       "    <tr>\n",
       "      <th>74</th>\n",
       "      <td>20160101</td>\n",
       "      <td>1400</td>\n",
       "      <td>+4</td>\n",
       "      <td>0.000000</td>\n",
       "    </tr>\n",
       "  </tbody>\n",
       "</table>\n",
       "</div>"
      ],
      "text/plain": [
       "        date  hour forecast pre_pro_mean\n",
       "0   20160101  0200       +4    0.000000 \n",
       "20  20160101  0500       +4    0.000000 \n",
       "39  20160101  0800       +4    0.000000 \n",
       "57  20160101  1100       +4    0.000000 \n",
       "74  20160101  1400       +4    0.000000 "
      ]
     },
     "execution_count": 19,
     "metadata": {},
     "output_type": "execute_result"
    }
   ],
   "source": [
    "kw2013_pre_pro_1_fore4 = kw2013_pre_pro_1[kw2013_pre_pro_1['forecast']== '+4']\n",
    "kw2013_pre_pro_1_fore4.head()"
   ]
  },
  {
   "cell_type": "code",
   "execution_count": 20,
   "id": "bb8bc1b5",
   "metadata": {},
   "outputs": [],
   "source": [
    "kw2013_pre_pro_1_fore4['pre_pro_mean'] = kw2013_pre_pro_1_fore4['pre_pro_mean'].astype('float')"
   ]
  },
  {
   "cell_type": "code",
   "execution_count": 21,
   "id": "d60bbb80",
   "metadata": {},
   "outputs": [],
   "source": [
    "kw2013_pre_pro_1_final = pd.DataFrame(kw2013_pre_pro_1_fore4['pre_pro_mean'].groupby(kw2013_pre_pro_1_fore4['date']).mean())"
   ]
  },
  {
   "cell_type": "code",
   "execution_count": 22,
   "id": "fd0ec123",
   "metadata": {},
   "outputs": [
    {
     "data": {
      "text/html": [
       "<div>\n",
       "<style scoped>\n",
       "    .dataframe tbody tr th:only-of-type {\n",
       "        vertical-align: middle;\n",
       "    }\n",
       "\n",
       "    .dataframe tbody tr th {\n",
       "        vertical-align: top;\n",
       "    }\n",
       "\n",
       "    .dataframe thead th {\n",
       "        text-align: right;\n",
       "    }\n",
       "</style>\n",
       "<table border=\"1\" class=\"dataframe\">\n",
       "  <thead>\n",
       "    <tr style=\"text-align: right;\">\n",
       "      <th></th>\n",
       "      <th>date</th>\n",
       "      <th>pre_pro_mean</th>\n",
       "    </tr>\n",
       "  </thead>\n",
       "  <tbody>\n",
       "    <tr>\n",
       "      <th>0</th>\n",
       "      <td>20160101</td>\n",
       "      <td>0.0000</td>\n",
       "    </tr>\n",
       "    <tr>\n",
       "      <th>1</th>\n",
       "      <td>20160102</td>\n",
       "      <td>0.0000</td>\n",
       "    </tr>\n",
       "    <tr>\n",
       "      <th>2</th>\n",
       "      <td>20160103</td>\n",
       "      <td>0.0000</td>\n",
       "    </tr>\n",
       "    <tr>\n",
       "      <th>3</th>\n",
       "      <td>20160104</td>\n",
       "      <td>0.0000</td>\n",
       "    </tr>\n",
       "    <tr>\n",
       "      <th>4</th>\n",
       "      <td>20160105</td>\n",
       "      <td>0.0000</td>\n",
       "    </tr>\n",
       "    <tr>\n",
       "      <th>...</th>\n",
       "      <td>...</td>\n",
       "      <td>...</td>\n",
       "    </tr>\n",
       "    <tr>\n",
       "      <th>361</th>\n",
       "      <td>20161227</td>\n",
       "      <td>0.0000</td>\n",
       "    </tr>\n",
       "    <tr>\n",
       "      <th>362</th>\n",
       "      <td>20161228</td>\n",
       "      <td>0.4375</td>\n",
       "    </tr>\n",
       "    <tr>\n",
       "      <th>363</th>\n",
       "      <td>20161229</td>\n",
       "      <td>0.3750</td>\n",
       "    </tr>\n",
       "    <tr>\n",
       "      <th>364</th>\n",
       "      <td>20161230</td>\n",
       "      <td>0.0000</td>\n",
       "    </tr>\n",
       "    <tr>\n",
       "      <th>365</th>\n",
       "      <td>20161231</td>\n",
       "      <td>0.0000</td>\n",
       "    </tr>\n",
       "  </tbody>\n",
       "</table>\n",
       "<p>366 rows × 2 columns</p>\n",
       "</div>"
      ],
      "text/plain": [
       "         date  pre_pro_mean\n",
       "0    20160101        0.0000\n",
       "1    20160102        0.0000\n",
       "2    20160103        0.0000\n",
       "3    20160104        0.0000\n",
       "4    20160105        0.0000\n",
       "..        ...           ...\n",
       "361  20161227        0.0000\n",
       "362  20161228        0.4375\n",
       "363  20161229        0.3750\n",
       "364  20161230        0.0000\n",
       "365  20161231        0.0000\n",
       "\n",
       "[366 rows x 2 columns]"
      ]
     },
     "execution_count": 22,
     "metadata": {},
     "output_type": "execute_result"
    }
   ],
   "source": [
    "kw2013_pre_pro_1_final.reset_index(level=['date'], inplace = True)\n",
    "kw2013_pre_pro_1_final"
   ]
  },
  {
   "cell_type": "code",
   "execution_count": 23,
   "id": "28ce7120",
   "metadata": {},
   "outputs": [
    {
     "data": {
      "text/html": [
       "<div>\n",
       "<style scoped>\n",
       "    .dataframe tbody tr th:only-of-type {\n",
       "        vertical-align: middle;\n",
       "    }\n",
       "\n",
       "    .dataframe tbody tr th {\n",
       "        vertical-align: top;\n",
       "    }\n",
       "\n",
       "    .dataframe thead th {\n",
       "        text-align: right;\n",
       "    }\n",
       "</style>\n",
       "<table border=\"1\" class=\"dataframe\">\n",
       "  <thead>\n",
       "    <tr style=\"text-align: right;\">\n",
       "      <th></th>\n",
       "      <th>date</th>\n",
       "      <th>pre_pro_mean</th>\n",
       "    </tr>\n",
       "  </thead>\n",
       "  <tbody>\n",
       "    <tr>\n",
       "      <th>0</th>\n",
       "      <td>20160101</td>\n",
       "      <td>0.0000</td>\n",
       "    </tr>\n",
       "    <tr>\n",
       "      <th>1</th>\n",
       "      <td>20160102</td>\n",
       "      <td>0.0000</td>\n",
       "    </tr>\n",
       "    <tr>\n",
       "      <th>2</th>\n",
       "      <td>20160103</td>\n",
       "      <td>0.0000</td>\n",
       "    </tr>\n",
       "    <tr>\n",
       "      <th>3</th>\n",
       "      <td>20160104</td>\n",
       "      <td>0.0000</td>\n",
       "    </tr>\n",
       "    <tr>\n",
       "      <th>4</th>\n",
       "      <td>20160105</td>\n",
       "      <td>0.0000</td>\n",
       "    </tr>\n",
       "    <tr>\n",
       "      <th>...</th>\n",
       "      <td>...</td>\n",
       "      <td>...</td>\n",
       "    </tr>\n",
       "    <tr>\n",
       "      <th>361</th>\n",
       "      <td>20161227</td>\n",
       "      <td>0.0000</td>\n",
       "    </tr>\n",
       "    <tr>\n",
       "      <th>362</th>\n",
       "      <td>20161228</td>\n",
       "      <td>0.4375</td>\n",
       "    </tr>\n",
       "    <tr>\n",
       "      <th>363</th>\n",
       "      <td>20161229</td>\n",
       "      <td>0.3750</td>\n",
       "    </tr>\n",
       "    <tr>\n",
       "      <th>364</th>\n",
       "      <td>20161230</td>\n",
       "      <td>0.0000</td>\n",
       "    </tr>\n",
       "    <tr>\n",
       "      <th>365</th>\n",
       "      <td>20161231</td>\n",
       "      <td>0.0000</td>\n",
       "    </tr>\n",
       "  </tbody>\n",
       "</table>\n",
       "<p>366 rows × 2 columns</p>\n",
       "</div>"
      ],
      "text/plain": [
       "         date  pre_pro_mean\n",
       "0    20160101        0.0000\n",
       "1    20160102        0.0000\n",
       "2    20160103        0.0000\n",
       "3    20160104        0.0000\n",
       "4    20160105        0.0000\n",
       "..        ...           ...\n",
       "361  20161227        0.0000\n",
       "362  20161228        0.4375\n",
       "363  20161229        0.3750\n",
       "364  20161230        0.0000\n",
       "365  20161231        0.0000\n",
       "\n",
       "[366 rows x 2 columns]"
      ]
     },
     "execution_count": 23,
     "metadata": {},
     "output_type": "execute_result"
    }
   ],
   "source": [
    "kw2013_pre_pro_final = pd.DataFrame()\n",
    "kw2013_pre_pro_final = pd.concat([kw2013_pre_pro_final, kw2013_pre_pro_1_final], axis = 0, ignore_index=True)\n",
    "kw2013_pre_pro_final"
   ]
  },
  {
   "cell_type": "code",
   "execution_count": 24,
   "id": "1720ff98",
   "metadata": {},
   "outputs": [
    {
     "data": {
      "text/html": [
       "<div>\n",
       "<style scoped>\n",
       "    .dataframe tbody tr th:only-of-type {\n",
       "        vertical-align: middle;\n",
       "    }\n",
       "\n",
       "    .dataframe tbody tr th {\n",
       "        vertical-align: top;\n",
       "    }\n",
       "\n",
       "    .dataframe thead th {\n",
       "        text-align: right;\n",
       "    }\n",
       "</style>\n",
       "<table border=\"1\" class=\"dataframe\">\n",
       "  <thead>\n",
       "    <tr style=\"text-align: right;\">\n",
       "      <th></th>\n",
       "      <th>date</th>\n",
       "      <th>area</th>\n",
       "      <th>pre_pro_mean</th>\n",
       "    </tr>\n",
       "  </thead>\n",
       "  <tbody>\n",
       "    <tr>\n",
       "      <th>0</th>\n",
       "      <td>20160101</td>\n",
       "      <td>울산</td>\n",
       "      <td>0.0000</td>\n",
       "    </tr>\n",
       "    <tr>\n",
       "      <th>1</th>\n",
       "      <td>20160102</td>\n",
       "      <td>울산</td>\n",
       "      <td>0.0000</td>\n",
       "    </tr>\n",
       "    <tr>\n",
       "      <th>2</th>\n",
       "      <td>20160103</td>\n",
       "      <td>울산</td>\n",
       "      <td>0.0000</td>\n",
       "    </tr>\n",
       "    <tr>\n",
       "      <th>3</th>\n",
       "      <td>20160104</td>\n",
       "      <td>울산</td>\n",
       "      <td>0.0000</td>\n",
       "    </tr>\n",
       "    <tr>\n",
       "      <th>4</th>\n",
       "      <td>20160105</td>\n",
       "      <td>울산</td>\n",
       "      <td>0.0000</td>\n",
       "    </tr>\n",
       "    <tr>\n",
       "      <th>...</th>\n",
       "      <td>...</td>\n",
       "      <td>...</td>\n",
       "      <td>...</td>\n",
       "    </tr>\n",
       "    <tr>\n",
       "      <th>361</th>\n",
       "      <td>20161227</td>\n",
       "      <td>울산</td>\n",
       "      <td>0.0000</td>\n",
       "    </tr>\n",
       "    <tr>\n",
       "      <th>362</th>\n",
       "      <td>20161228</td>\n",
       "      <td>울산</td>\n",
       "      <td>0.4375</td>\n",
       "    </tr>\n",
       "    <tr>\n",
       "      <th>363</th>\n",
       "      <td>20161229</td>\n",
       "      <td>울산</td>\n",
       "      <td>0.3750</td>\n",
       "    </tr>\n",
       "    <tr>\n",
       "      <th>364</th>\n",
       "      <td>20161230</td>\n",
       "      <td>울산</td>\n",
       "      <td>0.0000</td>\n",
       "    </tr>\n",
       "    <tr>\n",
       "      <th>365</th>\n",
       "      <td>20161231</td>\n",
       "      <td>울산</td>\n",
       "      <td>0.0000</td>\n",
       "    </tr>\n",
       "  </tbody>\n",
       "</table>\n",
       "<p>366 rows × 3 columns</p>\n",
       "</div>"
      ],
      "text/plain": [
       "         date area  pre_pro_mean\n",
       "0    20160101   울산        0.0000\n",
       "1    20160102   울산        0.0000\n",
       "2    20160103   울산        0.0000\n",
       "3    20160104   울산        0.0000\n",
       "4    20160105   울산        0.0000\n",
       "..        ...  ...           ...\n",
       "361  20161227   울산        0.0000\n",
       "362  20161228   울산        0.4375\n",
       "363  20161229   울산        0.3750\n",
       "364  20161230   울산        0.0000\n",
       "365  20161231   울산        0.0000\n",
       "\n",
       "[366 rows x 3 columns]"
      ]
     },
     "execution_count": 24,
     "metadata": {},
     "output_type": "execute_result"
    }
   ],
   "source": [
    "pre_pro = pd.DataFrame(kw2013_pre_pro_final['pre_pro_mean'].groupby(kw2013_pre_pro_final['date']).mean())\n",
    "pre_pro.reset_index(level=['date'], inplace = True)\n",
    "pre_pro['area'] = '울산'\n",
    "pre_pro = pre_pro[['date', 'area', 'pre_pro_mean']]\n",
    "pre_pro"
   ]
  },
  {
   "cell_type": "code",
   "execution_count": 25,
   "id": "5290ef5f",
   "metadata": {},
   "outputs": [],
   "source": [
    "pre_pro.to_csv('us.csv', index=False)"
   ]
  },
  {
   "cell_type": "code",
   "execution_count": null,
   "id": "c17dcd6d",
   "metadata": {},
   "outputs": [],
   "source": []
  },
  {
   "cell_type": "code",
   "execution_count": null,
   "id": "fc2f8c36",
   "metadata": {},
   "outputs": [],
   "source": []
  }
 ],
 "metadata": {
  "kernelspec": {
   "display_name": "Python 3 (ipykernel)",
   "language": "python",
   "name": "python3"
  },
  "language_info": {
   "codemirror_mode": {
    "name": "ipython",
    "version": 3
   },
   "file_extension": ".py",
   "mimetype": "text/x-python",
   "name": "python",
   "nbconvert_exporter": "python",
   "pygments_lexer": "ipython3",
   "version": "3.9.7"
  }
 },
 "nbformat": 4,
 "nbformat_minor": 5
}
