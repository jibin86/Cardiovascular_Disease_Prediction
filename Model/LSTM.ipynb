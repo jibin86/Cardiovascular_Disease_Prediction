{
  "nbformat": 4,
  "nbformat_minor": 0,
  "metadata": {
    "colab": {
      "name": "LSTM.ipynb의 사본",
      "provenance": []
    },
    "kernelspec": {
      "name": "python3",
      "display_name": "Python 3"
    },
    "language_info": {
      "name": "python"
    }
  },
  "cells": [
    {
      "cell_type": "code",
      "execution_count": null,
      "metadata": {
        "colab": {
          "base_uri": "https://localhost:8080/"
        },
        "id": "HHttGfw-kObF",
        "outputId": "fd19601d-4b66-4238-c1ef-364078e10764"
      },
      "outputs": [
        {
          "output_type": "stream",
          "name": "stdout",
          "text": [
            "Mounted at /content/drive\n"
          ]
        }
      ],
      "source": [
        "from google.colab import drive\n",
        "drive.mount('/content/drive')"
      ]
    },
    {
      "cell_type": "code",
      "source": [
        "import pandas as pd\n",
        "import numpy as np\n",
        "import seaborn as sns\n",
        "import matplotlib.pyplot as plt\n",
        "import os"
      ],
      "metadata": {
        "id": "Cph-1Ly1mLp1"
      },
      "execution_count": null,
      "outputs": []
    },
    {
      "cell_type": "code",
      "source": [
        "df_copy = pd.read_excel('/content/drive/MyDrive/use_data.xlsx')\n",
        "df_copy.head()"
      ],
      "metadata": {
        "colab": {
          "base_uri": "https://localhost:8080/",
          "height": 352
        },
        "id": "xHxLiGTsm1j0",
        "outputId": "8838b482-e593-4bec-b1be-b82a3195378e"
      },
      "execution_count": null,
      "outputs": [
        {
          "output_type": "execute_result",
          "data": {
            "text/plain": [
              "  back_hospital.yyyymmdd back_hospital.area  back_hospital.sex  \\\n",
              "0             2012-01-01                 강원                  1   \n",
              "1             2012-01-01                 강원                  2   \n",
              "2             2012-01-01                 경기                  1   \n",
              "3             2012-01-01                 경기                  2   \n",
              "4             2012-01-01                 경남                  1   \n",
              "\n",
              "   back_hospital.frequency       SO2        CO        O3       NO2       PM10  \\\n",
              "0                        3  0.010033  1.012879  0.019098  0.020873  81.560300   \n",
              "1                        3  0.010033  1.012879  0.019098  0.020873  81.560300   \n",
              "2                        4  0.009092  0.962206  0.012449  0.030763  85.343681   \n",
              "3                        5  0.009092  0.962206  0.012449  0.030763  85.343681   \n",
              "4                        2  0.008975  0.653175  0.021261  0.017499  62.009501   \n",
              "\n",
              "     간호사  ...   흡연율     병실수  보건시설    공장수  최저기온  최고기온   일평균기온   일평균습도  \\\n",
              "0   3983  ...  26.2   20959   245   2877 -13.9   6.0 -7.4000  70.000   \n",
              "1   3983  ...  26.2   20959   245   2877 -13.9   6.0 -7.4000  70.000   \n",
              "2  20380  ...  24.5  123168   334  54213 -12.2   1.1 -6.2875  67.625   \n",
              "3  20380  ...  24.5  123168   334  54213 -12.2   1.1 -6.2875  67.625   \n",
              "4   7548  ...  24.1   56963   410  15305  -8.9   8.0  1.6500  55.625   \n",
              "\n",
              "        강수량   적설  \n",
              "0  2.857143  0.0  \n",
              "1  2.857143  0.0  \n",
              "2  0.000000  0.0  \n",
              "3  0.000000  0.0  \n",
              "4  0.000000  0.0  \n",
              "\n",
              "[5 rows x 32 columns]"
            ],
            "text/html": [
              "\n",
              "  <div id=\"df-ecc83cb6-352b-416e-bf99-381c9c1cc163\">\n",
              "    <div class=\"colab-df-container\">\n",
              "      <div>\n",
              "<style scoped>\n",
              "    .dataframe tbody tr th:only-of-type {\n",
              "        vertical-align: middle;\n",
              "    }\n",
              "\n",
              "    .dataframe tbody tr th {\n",
              "        vertical-align: top;\n",
              "    }\n",
              "\n",
              "    .dataframe thead th {\n",
              "        text-align: right;\n",
              "    }\n",
              "</style>\n",
              "<table border=\"1\" class=\"dataframe\">\n",
              "  <thead>\n",
              "    <tr style=\"text-align: right;\">\n",
              "      <th></th>\n",
              "      <th>back_hospital.yyyymmdd</th>\n",
              "      <th>back_hospital.area</th>\n",
              "      <th>back_hospital.sex</th>\n",
              "      <th>back_hospital.frequency</th>\n",
              "      <th>SO2</th>\n",
              "      <th>CO</th>\n",
              "      <th>O3</th>\n",
              "      <th>NO2</th>\n",
              "      <th>PM10</th>\n",
              "      <th>간호사</th>\n",
              "      <th>...</th>\n",
              "      <th>흡연율</th>\n",
              "      <th>병실수</th>\n",
              "      <th>보건시설</th>\n",
              "      <th>공장수</th>\n",
              "      <th>최저기온</th>\n",
              "      <th>최고기온</th>\n",
              "      <th>일평균기온</th>\n",
              "      <th>일평균습도</th>\n",
              "      <th>강수량</th>\n",
              "      <th>적설</th>\n",
              "    </tr>\n",
              "  </thead>\n",
              "  <tbody>\n",
              "    <tr>\n",
              "      <th>0</th>\n",
              "      <td>2012-01-01</td>\n",
              "      <td>강원</td>\n",
              "      <td>1</td>\n",
              "      <td>3</td>\n",
              "      <td>0.010033</td>\n",
              "      <td>1.012879</td>\n",
              "      <td>0.019098</td>\n",
              "      <td>0.020873</td>\n",
              "      <td>81.560300</td>\n",
              "      <td>3983</td>\n",
              "      <td>...</td>\n",
              "      <td>26.2</td>\n",
              "      <td>20959</td>\n",
              "      <td>245</td>\n",
              "      <td>2877</td>\n",
              "      <td>-13.9</td>\n",
              "      <td>6.0</td>\n",
              "      <td>-7.4000</td>\n",
              "      <td>70.000</td>\n",
              "      <td>2.857143</td>\n",
              "      <td>0.0</td>\n",
              "    </tr>\n",
              "    <tr>\n",
              "      <th>1</th>\n",
              "      <td>2012-01-01</td>\n",
              "      <td>강원</td>\n",
              "      <td>2</td>\n",
              "      <td>3</td>\n",
              "      <td>0.010033</td>\n",
              "      <td>1.012879</td>\n",
              "      <td>0.019098</td>\n",
              "      <td>0.020873</td>\n",
              "      <td>81.560300</td>\n",
              "      <td>3983</td>\n",
              "      <td>...</td>\n",
              "      <td>26.2</td>\n",
              "      <td>20959</td>\n",
              "      <td>245</td>\n",
              "      <td>2877</td>\n",
              "      <td>-13.9</td>\n",
              "      <td>6.0</td>\n",
              "      <td>-7.4000</td>\n",
              "      <td>70.000</td>\n",
              "      <td>2.857143</td>\n",
              "      <td>0.0</td>\n",
              "    </tr>\n",
              "    <tr>\n",
              "      <th>2</th>\n",
              "      <td>2012-01-01</td>\n",
              "      <td>경기</td>\n",
              "      <td>1</td>\n",
              "      <td>4</td>\n",
              "      <td>0.009092</td>\n",
              "      <td>0.962206</td>\n",
              "      <td>0.012449</td>\n",
              "      <td>0.030763</td>\n",
              "      <td>85.343681</td>\n",
              "      <td>20380</td>\n",
              "      <td>...</td>\n",
              "      <td>24.5</td>\n",
              "      <td>123168</td>\n",
              "      <td>334</td>\n",
              "      <td>54213</td>\n",
              "      <td>-12.2</td>\n",
              "      <td>1.1</td>\n",
              "      <td>-6.2875</td>\n",
              "      <td>67.625</td>\n",
              "      <td>0.000000</td>\n",
              "      <td>0.0</td>\n",
              "    </tr>\n",
              "    <tr>\n",
              "      <th>3</th>\n",
              "      <td>2012-01-01</td>\n",
              "      <td>경기</td>\n",
              "      <td>2</td>\n",
              "      <td>5</td>\n",
              "      <td>0.009092</td>\n",
              "      <td>0.962206</td>\n",
              "      <td>0.012449</td>\n",
              "      <td>0.030763</td>\n",
              "      <td>85.343681</td>\n",
              "      <td>20380</td>\n",
              "      <td>...</td>\n",
              "      <td>24.5</td>\n",
              "      <td>123168</td>\n",
              "      <td>334</td>\n",
              "      <td>54213</td>\n",
              "      <td>-12.2</td>\n",
              "      <td>1.1</td>\n",
              "      <td>-6.2875</td>\n",
              "      <td>67.625</td>\n",
              "      <td>0.000000</td>\n",
              "      <td>0.0</td>\n",
              "    </tr>\n",
              "    <tr>\n",
              "      <th>4</th>\n",
              "      <td>2012-01-01</td>\n",
              "      <td>경남</td>\n",
              "      <td>1</td>\n",
              "      <td>2</td>\n",
              "      <td>0.008975</td>\n",
              "      <td>0.653175</td>\n",
              "      <td>0.021261</td>\n",
              "      <td>0.017499</td>\n",
              "      <td>62.009501</td>\n",
              "      <td>7548</td>\n",
              "      <td>...</td>\n",
              "      <td>24.1</td>\n",
              "      <td>56963</td>\n",
              "      <td>410</td>\n",
              "      <td>15305</td>\n",
              "      <td>-8.9</td>\n",
              "      <td>8.0</td>\n",
              "      <td>1.6500</td>\n",
              "      <td>55.625</td>\n",
              "      <td>0.000000</td>\n",
              "      <td>0.0</td>\n",
              "    </tr>\n",
              "  </tbody>\n",
              "</table>\n",
              "<p>5 rows × 32 columns</p>\n",
              "</div>\n",
              "      <button class=\"colab-df-convert\" onclick=\"convertToInteractive('df-ecc83cb6-352b-416e-bf99-381c9c1cc163')\"\n",
              "              title=\"Convert this dataframe to an interactive table.\"\n",
              "              style=\"display:none;\">\n",
              "        \n",
              "  <svg xmlns=\"http://www.w3.org/2000/svg\" height=\"24px\"viewBox=\"0 0 24 24\"\n",
              "       width=\"24px\">\n",
              "    <path d=\"M0 0h24v24H0V0z\" fill=\"none\"/>\n",
              "    <path d=\"M18.56 5.44l.94 2.06.94-2.06 2.06-.94-2.06-.94-.94-2.06-.94 2.06-2.06.94zm-11 1L8.5 8.5l.94-2.06 2.06-.94-2.06-.94L8.5 2.5l-.94 2.06-2.06.94zm10 10l.94 2.06.94-2.06 2.06-.94-2.06-.94-.94-2.06-.94 2.06-2.06.94z\"/><path d=\"M17.41 7.96l-1.37-1.37c-.4-.4-.92-.59-1.43-.59-.52 0-1.04.2-1.43.59L10.3 9.45l-7.72 7.72c-.78.78-.78 2.05 0 2.83L4 21.41c.39.39.9.59 1.41.59.51 0 1.02-.2 1.41-.59l7.78-7.78 2.81-2.81c.8-.78.8-2.07 0-2.86zM5.41 20L4 18.59l7.72-7.72 1.47 1.35L5.41 20z\"/>\n",
              "  </svg>\n",
              "      </button>\n",
              "      \n",
              "  <style>\n",
              "    .colab-df-container {\n",
              "      display:flex;\n",
              "      flex-wrap:wrap;\n",
              "      gap: 12px;\n",
              "    }\n",
              "\n",
              "    .colab-df-convert {\n",
              "      background-color: #E8F0FE;\n",
              "      border: none;\n",
              "      border-radius: 50%;\n",
              "      cursor: pointer;\n",
              "      display: none;\n",
              "      fill: #1967D2;\n",
              "      height: 32px;\n",
              "      padding: 0 0 0 0;\n",
              "      width: 32px;\n",
              "    }\n",
              "\n",
              "    .colab-df-convert:hover {\n",
              "      background-color: #E2EBFA;\n",
              "      box-shadow: 0px 1px 2px rgba(60, 64, 67, 0.3), 0px 1px 3px 1px rgba(60, 64, 67, 0.15);\n",
              "      fill: #174EA6;\n",
              "    }\n",
              "\n",
              "    [theme=dark] .colab-df-convert {\n",
              "      background-color: #3B4455;\n",
              "      fill: #D2E3FC;\n",
              "    }\n",
              "\n",
              "    [theme=dark] .colab-df-convert:hover {\n",
              "      background-color: #434B5C;\n",
              "      box-shadow: 0px 1px 3px 1px rgba(0, 0, 0, 0.15);\n",
              "      filter: drop-shadow(0px 1px 2px rgba(0, 0, 0, 0.3));\n",
              "      fill: #FFFFFF;\n",
              "    }\n",
              "  </style>\n",
              "\n",
              "      <script>\n",
              "        const buttonEl =\n",
              "          document.querySelector('#df-ecc83cb6-352b-416e-bf99-381c9c1cc163 button.colab-df-convert');\n",
              "        buttonEl.style.display =\n",
              "          google.colab.kernel.accessAllowed ? 'block' : 'none';\n",
              "\n",
              "        async function convertToInteractive(key) {\n",
              "          const element = document.querySelector('#df-ecc83cb6-352b-416e-bf99-381c9c1cc163');\n",
              "          const dataTable =\n",
              "            await google.colab.kernel.invokeFunction('convertToInteractive',\n",
              "                                                     [key], {});\n",
              "          if (!dataTable) return;\n",
              "\n",
              "          const docLinkHtml = 'Like what you see? Visit the ' +\n",
              "            '<a target=\"_blank\" href=https://colab.research.google.com/notebooks/data_table.ipynb>data table notebook</a>'\n",
              "            + ' to learn more about interactive tables.';\n",
              "          element.innerHTML = '';\n",
              "          dataTable['output_type'] = 'display_data';\n",
              "          await google.colab.output.renderOutput(dataTable, element);\n",
              "          const docLink = document.createElement('div');\n",
              "          docLink.innerHTML = docLinkHtml;\n",
              "          element.appendChild(docLink);\n",
              "        }\n",
              "      </script>\n",
              "    </div>\n",
              "  </div>\n",
              "  "
            ]
          },
          "metadata": {},
          "execution_count": 6
        }
      ]
    },
    {
      "cell_type": "code",
      "source": [
        "df = df_copy.copy()\n",
        "df.columns"
      ],
      "metadata": {
        "colab": {
          "base_uri": "https://localhost:8080/"
        },
        "id": "0TgK7iKenDnS",
        "outputId": "46ecab48-7691-49f0-d338-f79b577f3e92"
      },
      "execution_count": null,
      "outputs": [
        {
          "output_type": "execute_result",
          "data": {
            "text/plain": [
              "Index(['back_hospital.yyyymmdd', 'back_hospital.area', 'back_hospital.sex',\n",
              "       'back_hospital.frequency', 'SO2', 'CO', 'O3', 'NO2', 'PM10', '간호사',\n",
              "       '고령인구비율(A÷B×100)', '구급인력', '구급차', '병원', '비만율', '상급종합병원', '신경외과', '약국',\n",
              "       '요양병원', '응급의학과', '종합병원', '흉부외과', '흡연율', '병실수', '보건시설', '공장수', '최저기온',\n",
              "       '최고기온', '일평균기온', '일평균습도', '강수량', '적설'],\n",
              "      dtype='object')"
            ]
          },
          "metadata": {},
          "execution_count": 7
        }
      ]
    },
    {
      "cell_type": "code",
      "source": [
        "df.columns = ['date', 'area', 'sex',\n",
        "       'frequency', 'SO2', 'CO', 'O3', 'NO2', 'PM10', '간호사',\n",
        "       '고령인구비율', '구급인력', '구급차', '병원', '비만율', '상급종합병원', '신경외과', '약국',\n",
        "       '요양병원', '응급의학과', '종합병원', '흉부외과', '흡연율', '병실수', '보건시설', '공장수', '최저기온',\n",
        "       '최고기온', '일평균기온', '일평균습도', '강수량', '적설']"
      ],
      "metadata": {
        "id": "Uf_-HYpLoWmT"
      },
      "execution_count": null,
      "outputs": []
    },
    {
      "cell_type": "code",
      "source": [
        "df.columns"
      ],
      "metadata": {
        "colab": {
          "base_uri": "https://localhost:8080/"
        },
        "id": "JZAc0dzToZHP",
        "outputId": "e874c55f-2356-4465-9ae7-ee80e85cc2dc"
      },
      "execution_count": null,
      "outputs": [
        {
          "output_type": "execute_result",
          "data": {
            "text/plain": [
              "Index(['date', 'area', 'sex', 'frequency', 'SO2', 'CO', 'O3', 'NO2', 'PM10',\n",
              "       '간호사', '고령인구비율', '구급인력', '구급차', '병원', '비만율', '상급종합병원', '신경외과', '약국',\n",
              "       '요양병원', '응급의학과', '종합병원', '흉부외과', '흡연율', '병실수', '보건시설', '공장수', '최저기온',\n",
              "       '최고기온', '일평균기온', '일평균습도', '강수량', '적설'],\n",
              "      dtype='object')"
            ]
          },
          "metadata": {},
          "execution_count": 12
        }
      ]
    },
    {
      "cell_type": "code",
      "source": [
        "def cor_show(df):\n",
        "  plt.figure(figsize=(30,15))\n",
        "  cor = df.corr()\n",
        "  sns.heatmap(cor, annot=True)\n",
        "  plt.show()\n",
        "\n",
        "def cor(df):\n",
        "  cor = df.corr()\n",
        "  cor_target = abs(cor['frequency'])\n",
        "  return cor_target.sort_values(ascending=False)"
      ],
      "metadata": {
        "id": "NCK2OEAvoamv"
      },
      "execution_count": null,
      "outputs": []
    },
    {
      "cell_type": "code",
      "source": [
        "# 연도, 월, 일 변수 추가\n",
        "df['year'], df['month'], df['day'] = (df['date'].dt.year, df['date'].dt.month, df['date'].dt.day)"
      ],
      "metadata": {
        "id": "GV0zMN57ohLe"
      },
      "execution_count": null,
      "outputs": []
    },
    {
      "cell_type": "code",
      "source": [
        "# 요일 변수 추가 월~일 : 0~6\n",
        "df['dayofweek'] = df['date'].dt.dayofweek"
      ],
      "metadata": {
        "id": "Rny1J1-6om5s"
      },
      "execution_count": null,
      "outputs": []
    },
    {
      "cell_type": "code",
      "source": [
        "# 계절 변수 추가\n",
        "spring_id = (3<= df['month']) & (df['month']<= 5)\n",
        "summer_id = (6<= df['month']) & (df['month']<= 8)\n",
        "fall_id = (9<= df['month']) & (df['month']<= 11)\n",
        "winter_id = (12 == df['month']) | (1<= df['month']) & (df['month']<= 2)\n",
        "df.loc[spring_id, 'season'] = 1 # 봄\n",
        "df.loc[summer_id, 'season'] = 2 # 여름\n",
        "df.loc[fall_id, 'season'] = 3 # 가을\n",
        "df.loc[winter_id, 'season'] = 4 # 겨울"
      ],
      "metadata": {
        "id": "gstrTYY4ooaM"
      },
      "execution_count": null,
      "outputs": []
    },
    {
      "cell_type": "code",
      "source": [
        "# 주말 변수 추가\n",
        "weekend_id = (df['dayofweek'] == 5) | (df['dayofweek'] == 6)\n",
        "df['weekend'] = 0\n",
        "df.loc[weekend_id, 'weekend'] = 1"
      ],
      "metadata": {
        "id": "nQJ52EEdoqXZ"
      },
      "execution_count": null,
      "outputs": []
    },
    {
      "cell_type": "code",
      "source": [
        "# 일교차 열 추가\n",
        "df['일교차'] = df['최고기온'] - df['최저기온']\n",
        "df['일교차']"
      ],
      "metadata": {
        "colab": {
          "base_uri": "https://localhost:8080/"
        },
        "id": "8Y84bGhFosUl",
        "outputId": "c5be241f-bf08-413f-d734-a7842661eae4"
      },
      "execution_count": null,
      "outputs": [
        {
          "output_type": "execute_result",
          "data": {
            "text/plain": [
              "0        19.9\n",
              "1        19.9\n",
              "2        13.3\n",
              "3        13.3\n",
              "4        16.9\n",
              "         ... \n",
              "49669     9.0\n",
              "49670    15.0\n",
              "49671    15.0\n",
              "49672    14.7\n",
              "49673    14.7\n",
              "Name: 일교차, Length: 49674, dtype: float64"
            ]
          },
          "metadata": {},
          "execution_count": 18
        }
      ]
    },
    {
      "cell_type": "code",
      "source": [
        "df.head()"
      ],
      "metadata": {
        "colab": {
          "base_uri": "https://localhost:8080/",
          "height": 421
        },
        "id": "mXWXpE2iouPO",
        "outputId": "6f41ba28-b217-4514-aead-fb8ad832bb79"
      },
      "execution_count": null,
      "outputs": [
        {
          "output_type": "execute_result",
          "data": {
            "text/plain": [
              "        date area  sex  frequency       SO2        CO        O3       NO2  \\\n",
              "0 2012-01-01   강원    1          3  0.010033  1.012879  0.019098  0.020873   \n",
              "1 2012-01-01   강원    2          3  0.010033  1.012879  0.019098  0.020873   \n",
              "2 2012-01-01   경기    1          4  0.009092  0.962206  0.012449  0.030763   \n",
              "3 2012-01-01   경기    2          5  0.009092  0.962206  0.012449  0.030763   \n",
              "4 2012-01-01   경남    1          2  0.008975  0.653175  0.021261  0.017499   \n",
              "\n",
              "        PM10    간호사  ...   일평균습도       강수량   적설  year  month  day  dayofweek  \\\n",
              "0  81.560300   3983  ...  70.000  2.857143  0.0  2012      1    1          6   \n",
              "1  81.560300   3983  ...  70.000  2.857143  0.0  2012      1    1          6   \n",
              "2  85.343681  20380  ...  67.625  0.000000  0.0  2012      1    1          6   \n",
              "3  85.343681  20380  ...  67.625  0.000000  0.0  2012      1    1          6   \n",
              "4  62.009501   7548  ...  55.625  0.000000  0.0  2012      1    1          6   \n",
              "\n",
              "   season  weekend   일교차  \n",
              "0     4.0        1  19.9  \n",
              "1     4.0        1  19.9  \n",
              "2     4.0        1  13.3  \n",
              "3     4.0        1  13.3  \n",
              "4     4.0        1  16.9  \n",
              "\n",
              "[5 rows x 39 columns]"
            ],
            "text/html": [
              "\n",
              "  <div id=\"df-9102606f-a402-4037-ae7e-20693e4d470f\">\n",
              "    <div class=\"colab-df-container\">\n",
              "      <div>\n",
              "<style scoped>\n",
              "    .dataframe tbody tr th:only-of-type {\n",
              "        vertical-align: middle;\n",
              "    }\n",
              "\n",
              "    .dataframe tbody tr th {\n",
              "        vertical-align: top;\n",
              "    }\n",
              "\n",
              "    .dataframe thead th {\n",
              "        text-align: right;\n",
              "    }\n",
              "</style>\n",
              "<table border=\"1\" class=\"dataframe\">\n",
              "  <thead>\n",
              "    <tr style=\"text-align: right;\">\n",
              "      <th></th>\n",
              "      <th>date</th>\n",
              "      <th>area</th>\n",
              "      <th>sex</th>\n",
              "      <th>frequency</th>\n",
              "      <th>SO2</th>\n",
              "      <th>CO</th>\n",
              "      <th>O3</th>\n",
              "      <th>NO2</th>\n",
              "      <th>PM10</th>\n",
              "      <th>간호사</th>\n",
              "      <th>...</th>\n",
              "      <th>일평균습도</th>\n",
              "      <th>강수량</th>\n",
              "      <th>적설</th>\n",
              "      <th>year</th>\n",
              "      <th>month</th>\n",
              "      <th>day</th>\n",
              "      <th>dayofweek</th>\n",
              "      <th>season</th>\n",
              "      <th>weekend</th>\n",
              "      <th>일교차</th>\n",
              "    </tr>\n",
              "  </thead>\n",
              "  <tbody>\n",
              "    <tr>\n",
              "      <th>0</th>\n",
              "      <td>2012-01-01</td>\n",
              "      <td>강원</td>\n",
              "      <td>1</td>\n",
              "      <td>3</td>\n",
              "      <td>0.010033</td>\n",
              "      <td>1.012879</td>\n",
              "      <td>0.019098</td>\n",
              "      <td>0.020873</td>\n",
              "      <td>81.560300</td>\n",
              "      <td>3983</td>\n",
              "      <td>...</td>\n",
              "      <td>70.000</td>\n",
              "      <td>2.857143</td>\n",
              "      <td>0.0</td>\n",
              "      <td>2012</td>\n",
              "      <td>1</td>\n",
              "      <td>1</td>\n",
              "      <td>6</td>\n",
              "      <td>4.0</td>\n",
              "      <td>1</td>\n",
              "      <td>19.9</td>\n",
              "    </tr>\n",
              "    <tr>\n",
              "      <th>1</th>\n",
              "      <td>2012-01-01</td>\n",
              "      <td>강원</td>\n",
              "      <td>2</td>\n",
              "      <td>3</td>\n",
              "      <td>0.010033</td>\n",
              "      <td>1.012879</td>\n",
              "      <td>0.019098</td>\n",
              "      <td>0.020873</td>\n",
              "      <td>81.560300</td>\n",
              "      <td>3983</td>\n",
              "      <td>...</td>\n",
              "      <td>70.000</td>\n",
              "      <td>2.857143</td>\n",
              "      <td>0.0</td>\n",
              "      <td>2012</td>\n",
              "      <td>1</td>\n",
              "      <td>1</td>\n",
              "      <td>6</td>\n",
              "      <td>4.0</td>\n",
              "      <td>1</td>\n",
              "      <td>19.9</td>\n",
              "    </tr>\n",
              "    <tr>\n",
              "      <th>2</th>\n",
              "      <td>2012-01-01</td>\n",
              "      <td>경기</td>\n",
              "      <td>1</td>\n",
              "      <td>4</td>\n",
              "      <td>0.009092</td>\n",
              "      <td>0.962206</td>\n",
              "      <td>0.012449</td>\n",
              "      <td>0.030763</td>\n",
              "      <td>85.343681</td>\n",
              "      <td>20380</td>\n",
              "      <td>...</td>\n",
              "      <td>67.625</td>\n",
              "      <td>0.000000</td>\n",
              "      <td>0.0</td>\n",
              "      <td>2012</td>\n",
              "      <td>1</td>\n",
              "      <td>1</td>\n",
              "      <td>6</td>\n",
              "      <td>4.0</td>\n",
              "      <td>1</td>\n",
              "      <td>13.3</td>\n",
              "    </tr>\n",
              "    <tr>\n",
              "      <th>3</th>\n",
              "      <td>2012-01-01</td>\n",
              "      <td>경기</td>\n",
              "      <td>2</td>\n",
              "      <td>5</td>\n",
              "      <td>0.009092</td>\n",
              "      <td>0.962206</td>\n",
              "      <td>0.012449</td>\n",
              "      <td>0.030763</td>\n",
              "      <td>85.343681</td>\n",
              "      <td>20380</td>\n",
              "      <td>...</td>\n",
              "      <td>67.625</td>\n",
              "      <td>0.000000</td>\n",
              "      <td>0.0</td>\n",
              "      <td>2012</td>\n",
              "      <td>1</td>\n",
              "      <td>1</td>\n",
              "      <td>6</td>\n",
              "      <td>4.0</td>\n",
              "      <td>1</td>\n",
              "      <td>13.3</td>\n",
              "    </tr>\n",
              "    <tr>\n",
              "      <th>4</th>\n",
              "      <td>2012-01-01</td>\n",
              "      <td>경남</td>\n",
              "      <td>1</td>\n",
              "      <td>2</td>\n",
              "      <td>0.008975</td>\n",
              "      <td>0.653175</td>\n",
              "      <td>0.021261</td>\n",
              "      <td>0.017499</td>\n",
              "      <td>62.009501</td>\n",
              "      <td>7548</td>\n",
              "      <td>...</td>\n",
              "      <td>55.625</td>\n",
              "      <td>0.000000</td>\n",
              "      <td>0.0</td>\n",
              "      <td>2012</td>\n",
              "      <td>1</td>\n",
              "      <td>1</td>\n",
              "      <td>6</td>\n",
              "      <td>4.0</td>\n",
              "      <td>1</td>\n",
              "      <td>16.9</td>\n",
              "    </tr>\n",
              "  </tbody>\n",
              "</table>\n",
              "<p>5 rows × 39 columns</p>\n",
              "</div>\n",
              "      <button class=\"colab-df-convert\" onclick=\"convertToInteractive('df-9102606f-a402-4037-ae7e-20693e4d470f')\"\n",
              "              title=\"Convert this dataframe to an interactive table.\"\n",
              "              style=\"display:none;\">\n",
              "        \n",
              "  <svg xmlns=\"http://www.w3.org/2000/svg\" height=\"24px\"viewBox=\"0 0 24 24\"\n",
              "       width=\"24px\">\n",
              "    <path d=\"M0 0h24v24H0V0z\" fill=\"none\"/>\n",
              "    <path d=\"M18.56 5.44l.94 2.06.94-2.06 2.06-.94-2.06-.94-.94-2.06-.94 2.06-2.06.94zm-11 1L8.5 8.5l.94-2.06 2.06-.94-2.06-.94L8.5 2.5l-.94 2.06-2.06.94zm10 10l.94 2.06.94-2.06 2.06-.94-2.06-.94-.94-2.06-.94 2.06-2.06.94z\"/><path d=\"M17.41 7.96l-1.37-1.37c-.4-.4-.92-.59-1.43-.59-.52 0-1.04.2-1.43.59L10.3 9.45l-7.72 7.72c-.78.78-.78 2.05 0 2.83L4 21.41c.39.39.9.59 1.41.59.51 0 1.02-.2 1.41-.59l7.78-7.78 2.81-2.81c.8-.78.8-2.07 0-2.86zM5.41 20L4 18.59l7.72-7.72 1.47 1.35L5.41 20z\"/>\n",
              "  </svg>\n",
              "      </button>\n",
              "      \n",
              "  <style>\n",
              "    .colab-df-container {\n",
              "      display:flex;\n",
              "      flex-wrap:wrap;\n",
              "      gap: 12px;\n",
              "    }\n",
              "\n",
              "    .colab-df-convert {\n",
              "      background-color: #E8F0FE;\n",
              "      border: none;\n",
              "      border-radius: 50%;\n",
              "      cursor: pointer;\n",
              "      display: none;\n",
              "      fill: #1967D2;\n",
              "      height: 32px;\n",
              "      padding: 0 0 0 0;\n",
              "      width: 32px;\n",
              "    }\n",
              "\n",
              "    .colab-df-convert:hover {\n",
              "      background-color: #E2EBFA;\n",
              "      box-shadow: 0px 1px 2px rgba(60, 64, 67, 0.3), 0px 1px 3px 1px rgba(60, 64, 67, 0.15);\n",
              "      fill: #174EA6;\n",
              "    }\n",
              "\n",
              "    [theme=dark] .colab-df-convert {\n",
              "      background-color: #3B4455;\n",
              "      fill: #D2E3FC;\n",
              "    }\n",
              "\n",
              "    [theme=dark] .colab-df-convert:hover {\n",
              "      background-color: #434B5C;\n",
              "      box-shadow: 0px 1px 3px 1px rgba(0, 0, 0, 0.15);\n",
              "      filter: drop-shadow(0px 1px 2px rgba(0, 0, 0, 0.3));\n",
              "      fill: #FFFFFF;\n",
              "    }\n",
              "  </style>\n",
              "\n",
              "      <script>\n",
              "        const buttonEl =\n",
              "          document.querySelector('#df-9102606f-a402-4037-ae7e-20693e4d470f button.colab-df-convert');\n",
              "        buttonEl.style.display =\n",
              "          google.colab.kernel.accessAllowed ? 'block' : 'none';\n",
              "\n",
              "        async function convertToInteractive(key) {\n",
              "          const element = document.querySelector('#df-9102606f-a402-4037-ae7e-20693e4d470f');\n",
              "          const dataTable =\n",
              "            await google.colab.kernel.invokeFunction('convertToInteractive',\n",
              "                                                     [key], {});\n",
              "          if (!dataTable) return;\n",
              "\n",
              "          const docLinkHtml = 'Like what you see? Visit the ' +\n",
              "            '<a target=\"_blank\" href=https://colab.research.google.com/notebooks/data_table.ipynb>data table notebook</a>'\n",
              "            + ' to learn more about interactive tables.';\n",
              "          element.innerHTML = '';\n",
              "          dataTable['output_type'] = 'display_data';\n",
              "          await google.colab.output.renderOutput(dataTable, element);\n",
              "          const docLink = document.createElement('div');\n",
              "          docLink.innerHTML = docLinkHtml;\n",
              "          element.appendChild(docLink);\n",
              "        }\n",
              "      </script>\n",
              "    </div>\n",
              "  </div>\n",
              "  "
            ]
          },
          "metadata": {},
          "execution_count": 19
        }
      ]
    },
    {
      "cell_type": "code",
      "source": [
        "df_spring = df[df['season'] == 1]\n",
        "df_summer = df[df['season'] == 2]\n",
        "df_fall = df[df['season'] == 3]\n",
        "df_winter = df[df['season'] == 4]"
      ],
      "metadata": {
        "id": "i7907AnhowSs"
      },
      "execution_count": null,
      "outputs": []
    },
    {
      "cell_type": "code",
      "source": [
        "df.columns"
      ],
      "metadata": {
        "colab": {
          "base_uri": "https://localhost:8080/"
        },
        "id": "rf2iKP2Eo0Il",
        "outputId": "d66bd3e0-c85d-4ced-9b91-2900da577dbc"
      },
      "execution_count": null,
      "outputs": [
        {
          "output_type": "execute_result",
          "data": {
            "text/plain": [
              "Index(['date', 'area', 'sex', 'frequency', 'SO2', 'CO', 'O3', 'NO2', 'PM10',\n",
              "       '간호사', '고령인구비율', '구급인력', '구급차', '병원', '비만율', '상급종합병원', '신경외과', '약국',\n",
              "       '요양병원', '응급의학과', '종합병원', '흉부외과', '흡연율', '병실수', '보건시설', '공장수', '최저기온',\n",
              "       '최고기온', '일평균기온', '일평균습도', '강수량', '적설', 'year', 'month', 'day',\n",
              "       'dayofweek', 'season', 'weekend', '일교차'],\n",
              "      dtype='object')"
            ]
          },
          "metadata": {},
          "execution_count": 21
        }
      ]
    },
    {
      "cell_type": "code",
      "source": [
        "df.info()"
      ],
      "metadata": {
        "colab": {
          "base_uri": "https://localhost:8080/"
        },
        "id": "DNDuyyo5o1ui",
        "outputId": "63a069d2-441e-46a3-c772-352b19e77200"
      },
      "execution_count": null,
      "outputs": [
        {
          "output_type": "stream",
          "name": "stdout",
          "text": [
            "<class 'pandas.core.frame.DataFrame'>\n",
            "RangeIndex: 49674 entries, 0 to 49673\n",
            "Data columns (total 39 columns):\n",
            " #   Column     Non-Null Count  Dtype         \n",
            "---  ------     --------------  -----         \n",
            " 0   date       49674 non-null  datetime64[ns]\n",
            " 1   area       49674 non-null  object        \n",
            " 2   sex        49674 non-null  int64         \n",
            " 3   frequency  49674 non-null  int64         \n",
            " 4   SO2        49674 non-null  float64       \n",
            " 5   CO         49674 non-null  float64       \n",
            " 6   O3         49674 non-null  float64       \n",
            " 7   NO2        49674 non-null  float64       \n",
            " 8   PM10       49674 non-null  float64       \n",
            " 9   간호사        49674 non-null  int64         \n",
            " 10  고령인구비율     49674 non-null  float64       \n",
            " 11  구급인력       49674 non-null  int64         \n",
            " 12  구급차        49674 non-null  int64         \n",
            " 13  병원         49674 non-null  int64         \n",
            " 14  비만율        49674 non-null  float64       \n",
            " 15  상급종합병원     49674 non-null  int64         \n",
            " 16  신경외과       49674 non-null  int64         \n",
            " 17  약국         49674 non-null  int64         \n",
            " 18  요양병원       49674 non-null  int64         \n",
            " 19  응급의학과      49674 non-null  int64         \n",
            " 20  종합병원       49674 non-null  int64         \n",
            " 21  흉부외과       49674 non-null  int64         \n",
            " 22  흡연율        49674 non-null  float64       \n",
            " 23  병실수        49674 non-null  int64         \n",
            " 24  보건시설       49674 non-null  int64         \n",
            " 25  공장수        49674 non-null  int64         \n",
            " 26  최저기온       49674 non-null  float64       \n",
            " 27  최고기온       49674 non-null  float64       \n",
            " 28  일평균기온      49674 non-null  float64       \n",
            " 29  일평균습도      49674 non-null  float64       \n",
            " 30  강수량        49674 non-null  float64       \n",
            " 31  적설         49674 non-null  float64       \n",
            " 32  year       49674 non-null  int64         \n",
            " 33  month      49674 non-null  int64         \n",
            " 34  day        49674 non-null  int64         \n",
            " 35  dayofweek  49674 non-null  int64         \n",
            " 36  season     49674 non-null  float64       \n",
            " 37  weekend    49674 non-null  int64         \n",
            " 38  일교차        49674 non-null  float64       \n",
            "dtypes: datetime64[ns](1), float64(16), int64(21), object(1)\n",
            "memory usage: 14.8+ MB\n"
          ]
        }
      ]
    },
    {
      "cell_type": "code",
      "source": [
        "df_enc = pd.get_dummies(df, columns = ['sex', 'area', 'month', 'day', 'dayofweek', 'season', 'weekend'])\n",
        "df_enc"
      ],
      "metadata": {
        "colab": {
          "base_uri": "https://localhost:8080/",
          "height": 748
        },
        "id": "y2kSSL9vo5h7",
        "outputId": "babe4673-128b-4ee5-c10a-bd79f8a94b1d"
      },
      "execution_count": null,
      "outputs": [
        {
          "output_type": "execute_result",
          "data": {
            "text/plain": [
              "            date  frequency       SO2        CO        O3       NO2  \\\n",
              "0     2012-01-01          3  0.010033  1.012879  0.019098  0.020873   \n",
              "1     2012-01-01          3  0.010033  1.012879  0.019098  0.020873   \n",
              "2     2012-01-01          4  0.009092  0.962206  0.012449  0.030763   \n",
              "3     2012-01-01          5  0.009092  0.962206  0.012449  0.030763   \n",
              "4     2012-01-01          2  0.008975  0.653175  0.021261  0.017499   \n",
              "...          ...        ...       ...       ...       ...       ...   \n",
              "49669 2015-12-31          0  0.002903  0.539426  0.034771  0.009910   \n",
              "49670 2015-12-31          0  0.004571  0.786250  0.017996  0.019843   \n",
              "49671 2015-12-31          0  0.004571  0.786250  0.017996  0.019843   \n",
              "49672 2015-12-31          1  0.005597  0.849564  0.009818  0.028704   \n",
              "49673 2015-12-31          0  0.005597  0.849564  0.009818  0.028704   \n",
              "\n",
              "            PM10    간호사  고령인구비율  구급인력  ...  dayofweek_3  dayofweek_4  \\\n",
              "0      81.560300   3983    15.7   566  ...            0            0   \n",
              "1      81.560300   3983    15.7   566  ...            0            0   \n",
              "2      85.343681  20380     9.4  1421  ...            0            0   \n",
              "3      85.343681  20380     9.4  1421  ...            0            0   \n",
              "4      62.009501   7548    12.5   731  ...            0            0   \n",
              "...          ...    ...     ...   ...  ...          ...          ...   \n",
              "49669  74.854167   2231    13.8   208  ...            1            0   \n",
              "49670  53.587500   4424    16.4   639  ...            1            0   \n",
              "49671  53.587500   4424    16.4   639  ...            1            0   \n",
              "49672  63.086927   3726    14.8   443  ...            1            0   \n",
              "49673  63.086927   3726    14.8   443  ...            1            0   \n",
              "\n",
              "       dayofweek_5  dayofweek_6  season_1.0  season_2.0  season_3.0  \\\n",
              "0                0            1           0           0           0   \n",
              "1                0            1           0           0           0   \n",
              "2                0            1           0           0           0   \n",
              "3                0            1           0           0           0   \n",
              "4                0            1           0           0           0   \n",
              "...            ...          ...         ...         ...         ...   \n",
              "49669            0            0           0           0           0   \n",
              "49670            0            0           0           0           0   \n",
              "49671            0            0           0           0           0   \n",
              "49672            0            0           0           0           0   \n",
              "49673            0            0           0           0           0   \n",
              "\n",
              "       season_4.0  weekend_0  weekend_1  \n",
              "0               1          0          1  \n",
              "1               1          0          1  \n",
              "2               1          0          1  \n",
              "3               1          0          1  \n",
              "4               1          0          1  \n",
              "...           ...        ...        ...  \n",
              "49669           1          1          0  \n",
              "49670           1          1          0  \n",
              "49671           1          1          0  \n",
              "49672           1          1          0  \n",
              "49673           1          1          0  \n",
              "\n",
              "[49674 rows x 107 columns]"
            ],
            "text/html": [
              "\n",
              "  <div id=\"df-81d8ce1b-86a7-4198-8662-79b00a598d37\">\n",
              "    <div class=\"colab-df-container\">\n",
              "      <div>\n",
              "<style scoped>\n",
              "    .dataframe tbody tr th:only-of-type {\n",
              "        vertical-align: middle;\n",
              "    }\n",
              "\n",
              "    .dataframe tbody tr th {\n",
              "        vertical-align: top;\n",
              "    }\n",
              "\n",
              "    .dataframe thead th {\n",
              "        text-align: right;\n",
              "    }\n",
              "</style>\n",
              "<table border=\"1\" class=\"dataframe\">\n",
              "  <thead>\n",
              "    <tr style=\"text-align: right;\">\n",
              "      <th></th>\n",
              "      <th>date</th>\n",
              "      <th>frequency</th>\n",
              "      <th>SO2</th>\n",
              "      <th>CO</th>\n",
              "      <th>O3</th>\n",
              "      <th>NO2</th>\n",
              "      <th>PM10</th>\n",
              "      <th>간호사</th>\n",
              "      <th>고령인구비율</th>\n",
              "      <th>구급인력</th>\n",
              "      <th>...</th>\n",
              "      <th>dayofweek_3</th>\n",
              "      <th>dayofweek_4</th>\n",
              "      <th>dayofweek_5</th>\n",
              "      <th>dayofweek_6</th>\n",
              "      <th>season_1.0</th>\n",
              "      <th>season_2.0</th>\n",
              "      <th>season_3.0</th>\n",
              "      <th>season_4.0</th>\n",
              "      <th>weekend_0</th>\n",
              "      <th>weekend_1</th>\n",
              "    </tr>\n",
              "  </thead>\n",
              "  <tbody>\n",
              "    <tr>\n",
              "      <th>0</th>\n",
              "      <td>2012-01-01</td>\n",
              "      <td>3</td>\n",
              "      <td>0.010033</td>\n",
              "      <td>1.012879</td>\n",
              "      <td>0.019098</td>\n",
              "      <td>0.020873</td>\n",
              "      <td>81.560300</td>\n",
              "      <td>3983</td>\n",
              "      <td>15.7</td>\n",
              "      <td>566</td>\n",
              "      <td>...</td>\n",
              "      <td>0</td>\n",
              "      <td>0</td>\n",
              "      <td>0</td>\n",
              "      <td>1</td>\n",
              "      <td>0</td>\n",
              "      <td>0</td>\n",
              "      <td>0</td>\n",
              "      <td>1</td>\n",
              "      <td>0</td>\n",
              "      <td>1</td>\n",
              "    </tr>\n",
              "    <tr>\n",
              "      <th>1</th>\n",
              "      <td>2012-01-01</td>\n",
              "      <td>3</td>\n",
              "      <td>0.010033</td>\n",
              "      <td>1.012879</td>\n",
              "      <td>0.019098</td>\n",
              "      <td>0.020873</td>\n",
              "      <td>81.560300</td>\n",
              "      <td>3983</td>\n",
              "      <td>15.7</td>\n",
              "      <td>566</td>\n",
              "      <td>...</td>\n",
              "      <td>0</td>\n",
              "      <td>0</td>\n",
              "      <td>0</td>\n",
              "      <td>1</td>\n",
              "      <td>0</td>\n",
              "      <td>0</td>\n",
              "      <td>0</td>\n",
              "      <td>1</td>\n",
              "      <td>0</td>\n",
              "      <td>1</td>\n",
              "    </tr>\n",
              "    <tr>\n",
              "      <th>2</th>\n",
              "      <td>2012-01-01</td>\n",
              "      <td>4</td>\n",
              "      <td>0.009092</td>\n",
              "      <td>0.962206</td>\n",
              "      <td>0.012449</td>\n",
              "      <td>0.030763</td>\n",
              "      <td>85.343681</td>\n",
              "      <td>20380</td>\n",
              "      <td>9.4</td>\n",
              "      <td>1421</td>\n",
              "      <td>...</td>\n",
              "      <td>0</td>\n",
              "      <td>0</td>\n",
              "      <td>0</td>\n",
              "      <td>1</td>\n",
              "      <td>0</td>\n",
              "      <td>0</td>\n",
              "      <td>0</td>\n",
              "      <td>1</td>\n",
              "      <td>0</td>\n",
              "      <td>1</td>\n",
              "    </tr>\n",
              "    <tr>\n",
              "      <th>3</th>\n",
              "      <td>2012-01-01</td>\n",
              "      <td>5</td>\n",
              "      <td>0.009092</td>\n",
              "      <td>0.962206</td>\n",
              "      <td>0.012449</td>\n",
              "      <td>0.030763</td>\n",
              "      <td>85.343681</td>\n",
              "      <td>20380</td>\n",
              "      <td>9.4</td>\n",
              "      <td>1421</td>\n",
              "      <td>...</td>\n",
              "      <td>0</td>\n",
              "      <td>0</td>\n",
              "      <td>0</td>\n",
              "      <td>1</td>\n",
              "      <td>0</td>\n",
              "      <td>0</td>\n",
              "      <td>0</td>\n",
              "      <td>1</td>\n",
              "      <td>0</td>\n",
              "      <td>1</td>\n",
              "    </tr>\n",
              "    <tr>\n",
              "      <th>4</th>\n",
              "      <td>2012-01-01</td>\n",
              "      <td>2</td>\n",
              "      <td>0.008975</td>\n",
              "      <td>0.653175</td>\n",
              "      <td>0.021261</td>\n",
              "      <td>0.017499</td>\n",
              "      <td>62.009501</td>\n",
              "      <td>7548</td>\n",
              "      <td>12.5</td>\n",
              "      <td>731</td>\n",
              "      <td>...</td>\n",
              "      <td>0</td>\n",
              "      <td>0</td>\n",
              "      <td>0</td>\n",
              "      <td>1</td>\n",
              "      <td>0</td>\n",
              "      <td>0</td>\n",
              "      <td>0</td>\n",
              "      <td>1</td>\n",
              "      <td>0</td>\n",
              "      <td>1</td>\n",
              "    </tr>\n",
              "    <tr>\n",
              "      <th>...</th>\n",
              "      <td>...</td>\n",
              "      <td>...</td>\n",
              "      <td>...</td>\n",
              "      <td>...</td>\n",
              "      <td>...</td>\n",
              "      <td>...</td>\n",
              "      <td>...</td>\n",
              "      <td>...</td>\n",
              "      <td>...</td>\n",
              "      <td>...</td>\n",
              "      <td>...</td>\n",
              "      <td>...</td>\n",
              "      <td>...</td>\n",
              "      <td>...</td>\n",
              "      <td>...</td>\n",
              "      <td>...</td>\n",
              "      <td>...</td>\n",
              "      <td>...</td>\n",
              "      <td>...</td>\n",
              "      <td>...</td>\n",
              "      <td>...</td>\n",
              "    </tr>\n",
              "    <tr>\n",
              "      <th>49669</th>\n",
              "      <td>2015-12-31</td>\n",
              "      <td>0</td>\n",
              "      <td>0.002903</td>\n",
              "      <td>0.539426</td>\n",
              "      <td>0.034771</td>\n",
              "      <td>0.009910</td>\n",
              "      <td>74.854167</td>\n",
              "      <td>2231</td>\n",
              "      <td>13.8</td>\n",
              "      <td>208</td>\n",
              "      <td>...</td>\n",
              "      <td>1</td>\n",
              "      <td>0</td>\n",
              "      <td>0</td>\n",
              "      <td>0</td>\n",
              "      <td>0</td>\n",
              "      <td>0</td>\n",
              "      <td>0</td>\n",
              "      <td>1</td>\n",
              "      <td>1</td>\n",
              "      <td>0</td>\n",
              "    </tr>\n",
              "    <tr>\n",
              "      <th>49670</th>\n",
              "      <td>2015-12-31</td>\n",
              "      <td>0</td>\n",
              "      <td>0.004571</td>\n",
              "      <td>0.786250</td>\n",
              "      <td>0.017996</td>\n",
              "      <td>0.019843</td>\n",
              "      <td>53.587500</td>\n",
              "      <td>4424</td>\n",
              "      <td>16.4</td>\n",
              "      <td>639</td>\n",
              "      <td>...</td>\n",
              "      <td>1</td>\n",
              "      <td>0</td>\n",
              "      <td>0</td>\n",
              "      <td>0</td>\n",
              "      <td>0</td>\n",
              "      <td>0</td>\n",
              "      <td>0</td>\n",
              "      <td>1</td>\n",
              "      <td>1</td>\n",
              "      <td>0</td>\n",
              "    </tr>\n",
              "    <tr>\n",
              "      <th>49671</th>\n",
              "      <td>2015-12-31</td>\n",
              "      <td>0</td>\n",
              "      <td>0.004571</td>\n",
              "      <td>0.786250</td>\n",
              "      <td>0.017996</td>\n",
              "      <td>0.019843</td>\n",
              "      <td>53.587500</td>\n",
              "      <td>4424</td>\n",
              "      <td>16.4</td>\n",
              "      <td>639</td>\n",
              "      <td>...</td>\n",
              "      <td>1</td>\n",
              "      <td>0</td>\n",
              "      <td>0</td>\n",
              "      <td>0</td>\n",
              "      <td>0</td>\n",
              "      <td>0</td>\n",
              "      <td>0</td>\n",
              "      <td>1</td>\n",
              "      <td>1</td>\n",
              "      <td>0</td>\n",
              "    </tr>\n",
              "    <tr>\n",
              "      <th>49672</th>\n",
              "      <td>2015-12-31</td>\n",
              "      <td>1</td>\n",
              "      <td>0.005597</td>\n",
              "      <td>0.849564</td>\n",
              "      <td>0.009818</td>\n",
              "      <td>0.028704</td>\n",
              "      <td>63.086927</td>\n",
              "      <td>3726</td>\n",
              "      <td>14.8</td>\n",
              "      <td>443</td>\n",
              "      <td>...</td>\n",
              "      <td>1</td>\n",
              "      <td>0</td>\n",
              "      <td>0</td>\n",
              "      <td>0</td>\n",
              "      <td>0</td>\n",
              "      <td>0</td>\n",
              "      <td>0</td>\n",
              "      <td>1</td>\n",
              "      <td>1</td>\n",
              "      <td>0</td>\n",
              "    </tr>\n",
              "    <tr>\n",
              "      <th>49673</th>\n",
              "      <td>2015-12-31</td>\n",
              "      <td>0</td>\n",
              "      <td>0.005597</td>\n",
              "      <td>0.849564</td>\n",
              "      <td>0.009818</td>\n",
              "      <td>0.028704</td>\n",
              "      <td>63.086927</td>\n",
              "      <td>3726</td>\n",
              "      <td>14.8</td>\n",
              "      <td>443</td>\n",
              "      <td>...</td>\n",
              "      <td>1</td>\n",
              "      <td>0</td>\n",
              "      <td>0</td>\n",
              "      <td>0</td>\n",
              "      <td>0</td>\n",
              "      <td>0</td>\n",
              "      <td>0</td>\n",
              "      <td>1</td>\n",
              "      <td>1</td>\n",
              "      <td>0</td>\n",
              "    </tr>\n",
              "  </tbody>\n",
              "</table>\n",
              "<p>49674 rows × 107 columns</p>\n",
              "</div>\n",
              "      <button class=\"colab-df-convert\" onclick=\"convertToInteractive('df-81d8ce1b-86a7-4198-8662-79b00a598d37')\"\n",
              "              title=\"Convert this dataframe to an interactive table.\"\n",
              "              style=\"display:none;\">\n",
              "        \n",
              "  <svg xmlns=\"http://www.w3.org/2000/svg\" height=\"24px\"viewBox=\"0 0 24 24\"\n",
              "       width=\"24px\">\n",
              "    <path d=\"M0 0h24v24H0V0z\" fill=\"none\"/>\n",
              "    <path d=\"M18.56 5.44l.94 2.06.94-2.06 2.06-.94-2.06-.94-.94-2.06-.94 2.06-2.06.94zm-11 1L8.5 8.5l.94-2.06 2.06-.94-2.06-.94L8.5 2.5l-.94 2.06-2.06.94zm10 10l.94 2.06.94-2.06 2.06-.94-2.06-.94-.94-2.06-.94 2.06-2.06.94z\"/><path d=\"M17.41 7.96l-1.37-1.37c-.4-.4-.92-.59-1.43-.59-.52 0-1.04.2-1.43.59L10.3 9.45l-7.72 7.72c-.78.78-.78 2.05 0 2.83L4 21.41c.39.39.9.59 1.41.59.51 0 1.02-.2 1.41-.59l7.78-7.78 2.81-2.81c.8-.78.8-2.07 0-2.86zM5.41 20L4 18.59l7.72-7.72 1.47 1.35L5.41 20z\"/>\n",
              "  </svg>\n",
              "      </button>\n",
              "      \n",
              "  <style>\n",
              "    .colab-df-container {\n",
              "      display:flex;\n",
              "      flex-wrap:wrap;\n",
              "      gap: 12px;\n",
              "    }\n",
              "\n",
              "    .colab-df-convert {\n",
              "      background-color: #E8F0FE;\n",
              "      border: none;\n",
              "      border-radius: 50%;\n",
              "      cursor: pointer;\n",
              "      display: none;\n",
              "      fill: #1967D2;\n",
              "      height: 32px;\n",
              "      padding: 0 0 0 0;\n",
              "      width: 32px;\n",
              "    }\n",
              "\n",
              "    .colab-df-convert:hover {\n",
              "      background-color: #E2EBFA;\n",
              "      box-shadow: 0px 1px 2px rgba(60, 64, 67, 0.3), 0px 1px 3px 1px rgba(60, 64, 67, 0.15);\n",
              "      fill: #174EA6;\n",
              "    }\n",
              "\n",
              "    [theme=dark] .colab-df-convert {\n",
              "      background-color: #3B4455;\n",
              "      fill: #D2E3FC;\n",
              "    }\n",
              "\n",
              "    [theme=dark] .colab-df-convert:hover {\n",
              "      background-color: #434B5C;\n",
              "      box-shadow: 0px 1px 3px 1px rgba(0, 0, 0, 0.15);\n",
              "      filter: drop-shadow(0px 1px 2px rgba(0, 0, 0, 0.3));\n",
              "      fill: #FFFFFF;\n",
              "    }\n",
              "  </style>\n",
              "\n",
              "      <script>\n",
              "        const buttonEl =\n",
              "          document.querySelector('#df-81d8ce1b-86a7-4198-8662-79b00a598d37 button.colab-df-convert');\n",
              "        buttonEl.style.display =\n",
              "          google.colab.kernel.accessAllowed ? 'block' : 'none';\n",
              "\n",
              "        async function convertToInteractive(key) {\n",
              "          const element = document.querySelector('#df-81d8ce1b-86a7-4198-8662-79b00a598d37');\n",
              "          const dataTable =\n",
              "            await google.colab.kernel.invokeFunction('convertToInteractive',\n",
              "                                                     [key], {});\n",
              "          if (!dataTable) return;\n",
              "\n",
              "          const docLinkHtml = 'Like what you see? Visit the ' +\n",
              "            '<a target=\"_blank\" href=https://colab.research.google.com/notebooks/data_table.ipynb>data table notebook</a>'\n",
              "            + ' to learn more about interactive tables.';\n",
              "          element.innerHTML = '';\n",
              "          dataTable['output_type'] = 'display_data';\n",
              "          await google.colab.output.renderOutput(dataTable, element);\n",
              "          const docLink = document.createElement('div');\n",
              "          docLink.innerHTML = docLinkHtml;\n",
              "          element.appendChild(docLink);\n",
              "        }\n",
              "      </script>\n",
              "    </div>\n",
              "  </div>\n",
              "  "
            ]
          },
          "metadata": {},
          "execution_count": 23
        }
      ]
    },
    {
      "cell_type": "code",
      "source": [
        "col_idx = (df_enc.columns != 'frequency') & (df_enc.columns != 'date')"
      ],
      "metadata": {
        "id": "evW_zYO9pBei"
      },
      "execution_count": null,
      "outputs": []
    },
    {
      "cell_type": "code",
      "source": [
        "df_enc.columns"
      ],
      "metadata": {
        "colab": {
          "base_uri": "https://localhost:8080/"
        },
        "id": "0tMPY_5hpIOO",
        "outputId": "acfc6dba-900e-414d-e495-c36da7d7207f"
      },
      "execution_count": null,
      "outputs": [
        {
          "output_type": "execute_result",
          "data": {
            "text/plain": [
              "Index(['date', 'frequency', 'SO2', 'CO', 'O3', 'NO2', 'PM10', '간호사', '고령인구비율',\n",
              "       '구급인력',\n",
              "       ...\n",
              "       'dayofweek_3', 'dayofweek_4', 'dayofweek_5', 'dayofweek_6',\n",
              "       'season_1.0', 'season_2.0', 'season_3.0', 'season_4.0', 'weekend_0',\n",
              "       'weekend_1'],\n",
              "      dtype='object', length=107)"
            ]
          },
          "metadata": {},
          "execution_count": 25
        }
      ]
    },
    {
      "cell_type": "code",
      "source": [
        "df_enc.info()"
      ],
      "metadata": {
        "colab": {
          "base_uri": "https://localhost:8080/"
        },
        "id": "ZogejwpiuxMi",
        "outputId": "2414f289-fd9b-4fc3-c3cf-472bcef06cd5"
      },
      "execution_count": null,
      "outputs": [
        {
          "output_type": "stream",
          "name": "stdout",
          "text": [
            "<class 'pandas.core.frame.DataFrame'>\n",
            "RangeIndex: 49674 entries, 0 to 49673\n",
            "Columns: 107 entries, date to weekend_1\n",
            "dtypes: datetime64[ns](1), float64(15), int64(16), uint8(75)\n",
            "memory usage: 15.7 MB\n"
          ]
        }
      ]
    },
    {
      "cell_type": "code",
      "source": [
        "print(df_enc.count())"
      ],
      "metadata": {
        "colab": {
          "base_uri": "https://localhost:8080/"
        },
        "id": "b7Z-M4kGvqPr",
        "outputId": "f889d8a8-c1c7-4b76-c66b-b911e184088d"
      },
      "execution_count": null,
      "outputs": [
        {
          "output_type": "stream",
          "name": "stdout",
          "text": [
            "date          49674\n",
            "frequency     49674\n",
            "SO2           49674\n",
            "CO            49674\n",
            "O3            49674\n",
            "              ...  \n",
            "season_2.0    49674\n",
            "season_3.0    49674\n",
            "season_4.0    49674\n",
            "weekend_0     49674\n",
            "weekend_1     49674\n",
            "Length: 107, dtype: int64\n"
          ]
        }
      ]
    },
    {
      "cell_type": "code",
      "source": [
        "print(df_enc.dtypes)"
      ],
      "metadata": {
        "colab": {
          "base_uri": "https://localhost:8080/"
        },
        "id": "hS9nn4sov9D0",
        "outputId": "7da45d31-886d-498c-a478-80c84c21db0f"
      },
      "execution_count": null,
      "outputs": [
        {
          "output_type": "stream",
          "name": "stdout",
          "text": [
            "date          datetime64[ns]\n",
            "frequency              int64\n",
            "SO2                  float64\n",
            "CO                   float64\n",
            "O3                   float64\n",
            "                   ...      \n",
            "season_2.0             uint8\n",
            "season_3.0             uint8\n",
            "season_4.0             uint8\n",
            "weekend_0              uint8\n",
            "weekend_1              uint8\n",
            "Length: 107, dtype: object\n"
          ]
        }
      ]
    },
    {
      "cell_type": "code",
      "source": [
        "import keras\n",
        "from sklearn.preprocessing import MinMaxScaler\n",
        "from tensorflow.keras.models import Sequential\n",
        "from tensorflow.keras.layers import Dense,Dropout\n",
        "from tensorflow.keras.callbacks import EarlyStopping,ModelCheckpoint\n",
        "from tensorflow.keras.layers import LSTM"
      ],
      "metadata": {
        "id": "PwrWSXeLpKdl"
      },
      "execution_count": null,
      "outputs": []
    },
    {
      "cell_type": "code",
      "source": [
        "scaler = MinMaxScaler()\n",
        "scale_cols = ['sex', 'frequency', 'SO2', 'CO', 'O3', 'NO2', 'PM10',\n",
        "       '간호사', '고령인구비율', '구급인력', '구급차', '병원', '비만율', '상급종합병원', '신경외과', '약국',\n",
        "       '요양병원', '응급의학과', '종합병원', '흉부외과', '흡연율', '병실수', '보건시설', '공장수', '최저기온',\n",
        "       '최고기온', '일평균기온', '일평균습도', '강수량', '적설', 'year', 'month', 'day',\n",
        "       'dayofweek', 'season', 'weekend', '일교차']\n",
        "df_scaled = scaler.fit_transform(df[scale_cols])\n",
        "df_scaled = pd.DataFrame(df_scaled)\n",
        "df_scaled.columns = scale_cols\n",
        "\n",
        "print(df_scaled)"
      ],
      "metadata": {
        "colab": {
          "base_uri": "https://localhost:8080/"
        },
        "id": "UOOzYFg_t6dh",
        "outputId": "955a6289-bba1-4abe-b855-3e33b40b4bc6"
      },
      "execution_count": null,
      "outputs": [
        {
          "output_type": "stream",
          "name": "stdout",
          "text": [
            "       sex  frequency       SO2        CO        O3       NO2      PM10  \\\n",
            "0      0.0   0.230769  0.391438  0.474023  0.216871  0.240383  0.140204   \n",
            "1      1.0   0.230769  0.391438  0.474023  0.216871  0.240383  0.140204   \n",
            "2      0.0   0.307692  0.351492  0.446559  0.135393  0.366070  0.147065   \n",
            "3      1.0   0.384615  0.351492  0.446559  0.135393  0.366070  0.147065   \n",
            "4      0.0   0.153846  0.346530  0.279067  0.243373  0.197505  0.104750   \n",
            "...    ...        ...       ...       ...       ...       ...       ...   \n",
            "49669  1.0   0.000000  0.088788  0.217416  0.408915  0.101069  0.128043   \n",
            "49670  0.0   0.000000  0.159580  0.351192  0.203360  0.227291  0.089478   \n",
            "49671  1.0   0.000000  0.159580  0.351192  0.203360  0.227291  0.089478   \n",
            "49672  0.0   0.076923  0.203137  0.385508  0.103151  0.339901  0.106704   \n",
            "49673  1.0   0.000000  0.203137  0.385508  0.103151  0.339901  0.106704   \n",
            "\n",
            "            간호사    고령인구비율      구급인력  ...     일평균습도       강수량   적설  year  \\\n",
            "0      0.098433  0.630769  0.384772  ...  0.643564  0.012369  0.0   0.0   \n",
            "1      0.098433  0.630769  0.384772  ...  0.643564  0.012369  0.0   0.0   \n",
            "2      0.511643  0.146154  0.966010  ...  0.614171  0.000000  0.0   0.0   \n",
            "3      0.511643  0.146154  0.966010  ...  0.614171  0.000000  0.0   0.0   \n",
            "4      0.188272  0.384615  0.496941  ...  0.465656  0.000000  0.0   0.0   \n",
            "...         ...       ...       ...  ...       ...       ...  ...   ...   \n",
            "49669  0.054282  0.484615  0.141400  ...  0.450186  0.000000  0.0   1.0   \n",
            "49670  0.109546  0.684615  0.434398  ...  0.720916  0.000000  0.0   1.0   \n",
            "49671  0.109546  0.684615  0.434398  ...  0.720916  0.000000  0.0   1.0   \n",
            "49672  0.091956  0.561538  0.301156  ...  0.663676  0.000000  0.0   1.0   \n",
            "49673  0.091956  0.561538  0.301156  ...  0.663676  0.000000  0.0   1.0   \n",
            "\n",
            "       month  day  dayofweek  season  weekend       일교차  \n",
            "0        0.0  0.0        1.0     1.0      1.0  0.451074  \n",
            "1        0.0  0.0        1.0     1.0      1.0  0.451074  \n",
            "2        0.0  0.0        1.0     1.0      1.0  0.293556  \n",
            "3        0.0  0.0        1.0     1.0      1.0  0.293556  \n",
            "4        0.0  0.0        1.0     1.0      1.0  0.379475  \n",
            "...      ...  ...        ...     ...      ...       ...  \n",
            "49669    1.0  1.0        0.5     1.0      0.0  0.190931  \n",
            "49670    1.0  1.0        0.5     1.0      0.0  0.334129  \n",
            "49671    1.0  1.0        0.5     1.0      0.0  0.334129  \n",
            "49672    1.0  1.0        0.5     1.0      0.0  0.326969  \n",
            "49673    1.0  1.0        0.5     1.0      0.0  0.326969  \n",
            "\n",
            "[49674 rows x 37 columns]\n"
          ]
        }
      ]
    },
    {
      "cell_type": "code",
      "source": [
        "train = df_scaled[:-200]\n",
        "test = df_scaled[-200:]"
      ],
      "metadata": {
        "id": "8nIKoN0GvAH7"
      },
      "execution_count": null,
      "outputs": []
    },
    {
      "cell_type": "code",
      "source": [
        "def make_dataset(data, label, window_size=20):\n",
        "  feature_list = []\n",
        "  label_list = []\n",
        "  for i in range(len(data) - window_size):\n",
        "    feature_list.append(np.array(data.iloc[i:i+window_size]))\n",
        "    label_list.append(np.array(label.iloc[i+window_size]))\n",
        "  return np.array(feature_list), np.array(label_list)"
      ],
      "metadata": {
        "id": "PvOEo1VVxi4N"
      },
      "execution_count": null,
      "outputs": []
    },
    {
      "cell_type": "code",
      "source": [
        "feature_cols = ['sex', 'SO2', 'CO', 'O3', 'NO2', 'PM10',\n",
        "       '간호사', '고령인구비율', '구급인력', '구급차', '병원', '비만율', '상급종합병원', '신경외과', '약국',\n",
        "       '요양병원', '응급의학과', '종합병원', '흉부외과', '흡연율', '병실수', '보건시설', '공장수', '최저기온',\n",
        "       '최고기온', '일평균기온', '일평균습도', '강수량', '적설', 'year', 'month', 'day',\n",
        "       'dayofweek', 'season', 'weekend', '일교차']\n",
        "label_cols = ['frequency']\n",
        "\n",
        "train_feature = train[feature_cols]\n",
        "train_label = train[label_cols]\n",
        "\n",
        "train_feature, train_label = make_dataset(train_feature, train_label, 20)"
      ],
      "metadata": {
        "id": "JZ_jDiA1xlAu"
      },
      "execution_count": null,
      "outputs": []
    },
    {
      "cell_type": "code",
      "source": [
        "from sklearn.model_selection import train_test_split\n",
        "x_train, x_valid, y_train, y_valid = train_test_split(train_feature, train_label, test_size=0.2)\n",
        "\n",
        "x_train.shape, x_valid.shape"
      ],
      "metadata": {
        "colab": {
          "base_uri": "https://localhost:8080/"
        },
        "id": "hMW2K-t6xxbt",
        "outputId": "f4486a69-17a3-46f6-d67d-dd4681a61732"
      },
      "execution_count": null,
      "outputs": [
        {
          "output_type": "execute_result",
          "data": {
            "text/plain": [
              "((39563, 20, 36), (9891, 20, 36))"
            ]
          },
          "metadata": {},
          "execution_count": 38
        }
      ]
    },
    {
      "cell_type": "code",
      "source": [
        "test_feature = test[feature_cols]\n",
        "test_label = test[label_cols]\n",
        "\n",
        "test_feature, test_label = make_dataset(test_feature, test_label, 20)\n",
        "test_feature.shape, test_label.shape"
      ],
      "metadata": {
        "colab": {
          "base_uri": "https://localhost:8080/"
        },
        "id": "u6fLEXf4x2UA",
        "outputId": "1e0e23a5-0c7b-4138-b6be-7073284a6497"
      },
      "execution_count": null,
      "outputs": [
        {
          "output_type": "execute_result",
          "data": {
            "text/plain": [
              "((180, 20, 36), (180, 1))"
            ]
          },
          "metadata": {},
          "execution_count": 39
        }
      ]
    },
    {
      "cell_type": "code",
      "source": [
        "from keras.models import Sequential\n",
        "from keras.layers import Dense\n",
        "from keras.callbacks import EarlyStopping, ModelCheckpoint\n",
        "from keras.layers import LSTM\n",
        "\n",
        "model = Sequential()\n",
        "model.add(LSTM(16,\n",
        "               input_shape=(train_feature.shape[1], train_feature.shape[2]),\n",
        "               activation='relu',\n",
        "               return_sequences=False)\n",
        "          )\n",
        "model.add(Dense(1))"
      ],
      "metadata": {
        "id": "P0oMH-bHx43T"
      },
      "execution_count": null,
      "outputs": []
    },
    {
      "cell_type": "code",
      "source": [
        "model.compile(loss='mean_squared_error', optimizer='adam')\n",
        "early_stop = EarlyStopping(monitor='val_loss', patience=5)\n",
        "filename = 'tmp_checkpoint.h5'\n",
        "checkpoint = ModelCheckpoint(filename, monitor='val_loss', verbose=1, save_best_only=True, mode='auto')"
      ],
      "metadata": {
        "id": "7Qm3B9D3x9Mo"
      },
      "execution_count": null,
      "outputs": []
    },
    {
      "cell_type": "code",
      "source": [
        "history = model.fit(x_train, y_train,\n",
        "                    epochs=200,\n",
        "                    batch_size=16,\n",
        "                    validation_data=(x_valid, y_valid),\n",
        "                    callbacks=[early_stop, checkpoint])"
      ],
      "metadata": {
        "colab": {
          "base_uri": "https://localhost:8080/"
        },
        "id": "FMG5PYw4x_cm",
        "outputId": "9a2067d0-0d16-47d4-ab79-3a36fd6ba517"
      },
      "execution_count": null,
      "outputs": [
        {
          "output_type": "stream",
          "name": "stdout",
          "text": [
            "Epoch 1/200\n",
            "2467/2473 [============================>.] - ETA: 0s - loss: 0.0124\n",
            "Epoch 1: val_loss improved from inf to 0.01067, saving model to tmp_checkpoint.h5\n",
            "2473/2473 [==============================] - 26s 9ms/step - loss: 0.0124 - val_loss: 0.0107\n",
            "Epoch 2/200\n",
            "2469/2473 [============================>.] - ETA: 0s - loss: 0.0100\n",
            "Epoch 2: val_loss improved from 0.01067 to 0.00963, saving model to tmp_checkpoint.h5\n",
            "2473/2473 [==============================] - 23s 9ms/step - loss: 0.0100 - val_loss: 0.0096\n",
            "Epoch 3/200\n",
            "2473/2473 [==============================] - ETA: 0s - loss: 0.0096\n",
            "Epoch 3: val_loss did not improve from 0.00963\n",
            "2473/2473 [==============================] - 23s 9ms/step - loss: 0.0096 - val_loss: 0.0096\n",
            "Epoch 4/200\n",
            "2472/2473 [============================>.] - ETA: 0s - loss: 0.0093\n",
            "Epoch 4: val_loss improved from 0.00963 to 0.00933, saving model to tmp_checkpoint.h5\n",
            "2473/2473 [==============================] - 24s 10ms/step - loss: 0.0093 - val_loss: 0.0093\n",
            "Epoch 5/200\n",
            "2472/2473 [============================>.] - ETA: 0s - loss: 0.0092\n",
            "Epoch 5: val_loss improved from 0.00933 to 0.00933, saving model to tmp_checkpoint.h5\n",
            "2473/2473 [==============================] - 24s 10ms/step - loss: 0.0092 - val_loss: 0.0093\n",
            "Epoch 6/200\n",
            "2471/2473 [============================>.] - ETA: 0s - loss: 0.0091\n",
            "Epoch 6: val_loss improved from 0.00933 to 0.00912, saving model to tmp_checkpoint.h5\n",
            "2473/2473 [==============================] - 23s 9ms/step - loss: 0.0091 - val_loss: 0.0091\n",
            "Epoch 7/200\n",
            "2468/2473 [============================>.] - ETA: 0s - loss: 0.0091\n",
            "Epoch 7: val_loss did not improve from 0.00912\n",
            "2473/2473 [==============================] - 23s 9ms/step - loss: 0.0091 - val_loss: 0.0092\n",
            "Epoch 8/200\n",
            "2471/2473 [============================>.] - ETA: 0s - loss: 0.0090\n",
            "Epoch 8: val_loss did not improve from 0.00912\n",
            "2473/2473 [==============================] - 24s 10ms/step - loss: 0.0090 - val_loss: 0.0091\n",
            "Epoch 9/200\n",
            "2472/2473 [============================>.] - ETA: 0s - loss: 0.0090\n",
            "Epoch 9: val_loss did not improve from 0.00912\n",
            "2473/2473 [==============================] - 23s 9ms/step - loss: 0.0090 - val_loss: 0.0091\n",
            "Epoch 10/200\n",
            "2468/2473 [============================>.] - ETA: 0s - loss: 0.0089\n",
            "Epoch 10: val_loss improved from 0.00912 to 0.00896, saving model to tmp_checkpoint.h5\n",
            "2473/2473 [==============================] - 22s 9ms/step - loss: 0.0089 - val_loss: 0.0090\n",
            "Epoch 11/200\n",
            "2469/2473 [============================>.] - ETA: 0s - loss: 0.0089\n",
            "Epoch 11: val_loss did not improve from 0.00896\n",
            "2473/2473 [==============================] - 23s 9ms/step - loss: 0.0089 - val_loss: 0.0090\n",
            "Epoch 12/200\n",
            "2468/2473 [============================>.] - ETA: 0s - loss: 0.0089\n",
            "Epoch 12: val_loss did not improve from 0.00896\n",
            "2473/2473 [==============================] - 23s 9ms/step - loss: 0.0089 - val_loss: 0.0090\n",
            "Epoch 13/200\n",
            "2469/2473 [============================>.] - ETA: 0s - loss: 0.0089\n",
            "Epoch 13: val_loss improved from 0.00896 to 0.00896, saving model to tmp_checkpoint.h5\n",
            "2473/2473 [==============================] - 23s 9ms/step - loss: 0.0089 - val_loss: 0.0090\n",
            "Epoch 14/200\n",
            "2470/2473 [============================>.] - ETA: 0s - loss: 0.0088\n",
            "Epoch 14: val_loss did not improve from 0.00896\n",
            "2473/2473 [==============================] - 23s 9ms/step - loss: 0.0088 - val_loss: 0.0098\n",
            "Epoch 15/200\n",
            "2472/2473 [============================>.] - ETA: 0s - loss: 0.0088\n",
            "Epoch 15: val_loss did not improve from 0.00896\n",
            "2473/2473 [==============================] - 23s 9ms/step - loss: 0.0088 - val_loss: 0.0092\n",
            "Epoch 16/200\n",
            "2471/2473 [============================>.] - ETA: 0s - loss: 0.0088\n",
            "Epoch 16: val_loss did not improve from 0.00896\n",
            "2473/2473 [==============================] - 24s 10ms/step - loss: 0.0088 - val_loss: 0.0090\n",
            "Epoch 17/200\n",
            "2469/2473 [============================>.] - ETA: 0s - loss: 0.0088\n",
            "Epoch 17: val_loss did not improve from 0.00896\n",
            "2473/2473 [==============================] - 23s 9ms/step - loss: 0.0088 - val_loss: 0.0090\n",
            "Epoch 18/200\n",
            "2473/2473 [==============================] - ETA: 0s - loss: 0.0088\n",
            "Epoch 18: val_loss improved from 0.00896 to 0.00893, saving model to tmp_checkpoint.h5\n",
            "2473/2473 [==============================] - 23s 9ms/step - loss: 0.0088 - val_loss: 0.0089\n",
            "Epoch 19/200\n",
            "2469/2473 [============================>.] - ETA: 0s - loss: 0.0088\n",
            "Epoch 19: val_loss did not improve from 0.00893\n",
            "2473/2473 [==============================] - 24s 10ms/step - loss: 0.0088 - val_loss: 0.0091\n",
            "Epoch 20/200\n",
            "2469/2473 [============================>.] - ETA: 0s - loss: 0.0088\n",
            "Epoch 20: val_loss did not improve from 0.00893\n",
            "2473/2473 [==============================] - 23s 9ms/step - loss: 0.0088 - val_loss: 0.0092\n",
            "Epoch 21/200\n",
            "2472/2473 [============================>.] - ETA: 0s - loss: 0.0088\n",
            "Epoch 21: val_loss did not improve from 0.00893\n",
            "2473/2473 [==============================] - 23s 9ms/step - loss: 0.0088 - val_loss: 0.0091\n",
            "Epoch 22/200\n",
            "2469/2473 [============================>.] - ETA: 0s - loss: 0.0087\n",
            "Epoch 22: val_loss did not improve from 0.00893\n",
            "2473/2473 [==============================] - 25s 10ms/step - loss: 0.0087 - val_loss: 0.0090\n",
            "Epoch 23/200\n",
            "2469/2473 [============================>.] - ETA: 0s - loss: 0.0087\n",
            "Epoch 23: val_loss did not improve from 0.00893\n",
            "2473/2473 [==============================] - 23s 9ms/step - loss: 0.0087 - val_loss: 0.0090\n"
          ]
        }
      ]
    },
    {
      "cell_type": "code",
      "source": [
        "model.load_weights(filename)"
      ],
      "metadata": {
        "id": "yTNs4m1qyBWG"
      },
      "execution_count": null,
      "outputs": []
    },
    {
      "cell_type": "code",
      "source": [
        "pred = model.predict(test_feature)"
      ],
      "metadata": {
        "id": "ivwtR02c0qtR"
      },
      "execution_count": null,
      "outputs": []
    },
    {
      "cell_type": "code",
      "source": [
        "plt.figure(figsize=(12,9))\n",
        "plt.plot(test_label, label='actual')\n",
        "plt.plot(pred, label='prediction')\n",
        "plt.legend()\n",
        "plt.show()"
      ],
      "metadata": {
        "colab": {
          "base_uri": "https://localhost:8080/",
          "height": 537
        },
        "id": "Bf0oYAB90sXH",
        "outputId": "c0ef7094-6df8-4423-fbfc-aad30a219442"
      },
      "execution_count": null,
      "outputs": [
        {
          "output_type": "display_data",
          "data": {
            "text/plain": [
              "<Figure size 864x648 with 1 Axes>"
            ],
            "image/png": "[encoded data removed]"
          },
          "metadata": {
            "needs_background": "light"
          }
        }
      ]
    },
    {
      "cell_type": "code",
      "source": [
        "model.summary()"
      ],
      "metadata": {
        "colab": {
          "base_uri": "https://localhost:8080/"
        },
        "id": "6E4AO9Yg0_F3",
        "outputId": "c1f5f55e-6897-499a-e106-9726697aa9a2"
      },
      "execution_count": null,
      "outputs": [
        {
          "output_type": "stream",
          "name": "stdout",
          "text": [
            "Model: \"sequential\"\n",
            "_________________________________________________________________\n",
            " Layer (type)                Output Shape              Param #   \n",
            "=================================================================\n",
            " lstm (LSTM)                 (None, 16)                3392      \n",
            "                                                                 \n",
            " dense (Dense)               (None, 1)                 17        \n",
            "                                                                 \n",
            "=================================================================\n",
            "Total params: 3,409\n",
            "Trainable params: 3,409\n",
            "Non-trainable params: 0\n",
            "_________________________________________________________________\n"
          ]
        }
      ]
    }
  ]
}